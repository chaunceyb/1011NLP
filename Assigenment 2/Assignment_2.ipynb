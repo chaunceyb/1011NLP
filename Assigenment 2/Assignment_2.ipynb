{
 "cells": [
  {
   "cell_type": "markdown",
   "metadata": {},
   "source": [
    "# 1011: Assigenment 2\n",
    "\n",
    "Zhengyang Bian (zb612)"
   ]
  },
  {
   "cell_type": "markdown",
   "metadata": {
    "toc": true
   },
   "source": [
    "<h1>Table of Contents<span class=\"tocSkip\"></span></h1>\n",
    "<div class=\"toc\"><ul class=\"toc-item\"><li><span><a href=\"#1011:-Assigenment-2\" data-toc-modified-id=\"1011:-Assigenment-2-1\">1011: Assigenment 2</a></span><ul class=\"toc-item\"><li><span><a href=\"#1-Load-data\" data-toc-modified-id=\"1-Load-data-1.1\">1 Load data</a></span><ul class=\"toc-item\"><li><span><a href=\"#1.1-Load-sentences\" data-toc-modified-id=\"1.1-Load-sentences-1.1.1\">1.1 Load sentences</a></span></li><li><span><a href=\"#1.2-Load-pre-trained-word-vector\" data-toc-modified-id=\"1.2-Load-pre-trained-word-vector-1.1.2\">1.2 Load pre-trained word vector</a></span></li></ul></li><li><span><a href=\"#2-Model-building\" data-toc-modified-id=\"2-Model-building-1.2\">2 Model building</a></span><ul class=\"toc-item\"><li><span><a href=\"#2.1-Dataset-and-DataLoader\" data-toc-modified-id=\"2.1-Dataset-and-DataLoader-1.2.1\">2.1 Dataset and DataLoader</a></span></li><li><span><a href=\"#2.2-GRU-Model\" data-toc-modified-id=\"2.2-GRU-Model-1.2.2\">2.2 GRU Model</a></span></li><li><span><a href=\"#2.3-CNN-Model\" data-toc-modified-id=\"2.3-CNN-Model-1.2.3\">2.3 CNN Model</a></span></li><li><span><a href=\"#2.4-Evaluate-the-model\" data-toc-modified-id=\"2.4-Evaluate-the-model-1.2.4\">2.4 Evaluate the model</a></span></li><li><span><a href=\"#2.5--Display-the-result\" data-toc-modified-id=\"2.5--Display-the-result-1.2.5\">2.5  Display the result</a></span></li></ul></li><li><span><a href=\"#3-Run-the-baseline-model\" data-toc-modified-id=\"3-Run-the-baseline-model-1.3\">3 Run the baseline model</a></span><ul class=\"toc-item\"><li><span><a href=\"#3.1-GRU-Baseline\" data-toc-modified-id=\"3.1-GRU-Baseline-1.3.1\">3.1 GRU Baseline</a></span></li><li><span><a href=\"#3.2-CNN-Baseline\" data-toc-modified-id=\"3.2-CNN-Baseline-1.3.2\">3.2 CNN Baseline</a></span></li></ul></li><li><span><a href=\"#4.-Hyperparameters\" data-toc-modified-id=\"4.-Hyperparameters-1.4\">4. Hyperparameters</a></span><ul class=\"toc-item\"><li><span><a href=\"#4.1-CNN-Hidden-Size\" data-toc-modified-id=\"4.1-CNN-Hidden-Size-1.4.1\">4.1 CNN Hidden Size</a></span></li><li><span><a href=\"#4.2-RNN-hidden-size\" data-toc-modified-id=\"4.2-RNN-hidden-size-1.4.2\">4.2 RNN hidden size</a></span></li><li><span><a href=\"#4.3-CNN-Kernel-Size\" data-toc-modified-id=\"4.3-CNN-Kernel-Size-1.4.3\">4.3 CNN Kernel Size</a></span></li><li><span><a href=\"#4.4-Interacting-the-two-encoded-sentences:-CNN\" data-toc-modified-id=\"4.4-Interacting-the-two-encoded-sentences:-CNN-1.4.4\">4.4 Interacting the two encoded sentences: CNN</a></span></li><li><span><a href=\"#4.5-Interacting-the-two-encoded-sentences:-RNN\" data-toc-modified-id=\"4.5-Interacting-the-two-encoded-sentences:-RNN-1.4.5\">4.5 Interacting the two encoded sentences: RNN</a></span></li><li><span><a href=\"#4.6-CNN:-FC-Activation\" data-toc-modified-id=\"4.6-CNN:-FC-Activation-1.4.6\">4.6 CNN: FC Activation</a></span></li><li><span><a href=\"#4.7-RNN:-FC-Activation\" data-toc-modified-id=\"4.7-RNN:-FC-Activation-1.4.7\">4.7 RNN: FC Activation</a></span></li></ul></li><li><span><a href=\"#5-Best-Model\" data-toc-modified-id=\"5-Best-Model-1.5\">5 Best Model</a></span><ul class=\"toc-item\"><li><span><a href=\"#5.1-Best-GRU\" data-toc-modified-id=\"5.1-Best-GRU-1.5.1\">5.1 Best GRU</a></span></li><li><span><a href=\"#5.2-Best-CNN\" data-toc-modified-id=\"5.2-Best-CNN-1.5.2\">5.2 Best CNN</a></span></li><li><span><a href=\"#5.3-List-3-correct-and-incorrect-samples-of-the-best-model-(RNN)\" data-toc-modified-id=\"5.3-List-3-correct-and-incorrect-samples-of-the-best-model-(RNN)-1.5.3\">5.3 List 3 correct and incorrect samples of the best model (RNN)</a></span></li></ul></li><li><span><a href=\"#6-Validate-on-MultiNLI\" data-toc-modified-id=\"6-Validate-on-MultiNLI-1.6\">6 Validate on MultiNLI</a></span></li><li><span><a href=\"#7-Fine-Tuning-on-Each-Genre\" data-toc-modified-id=\"7-Fine-Tuning-on-Each-Genre-1.7\">7 Fine Tuning on Each Genre</a></span></li></ul></li></ul></div>"
   ]
  },
  {
   "cell_type": "code",
   "execution_count": 1,
   "metadata": {},
   "outputs": [],
   "source": [
    "# Import relevant codes\n",
    "\n",
    "import numpy as np\n",
    "import torch\n",
    "import torch.nn as nn\n",
    "import torch.nn.functional as F\n",
    "import numpy as np\n",
    "from torch.utils.data import Dataset\n",
    "from collections import Counter\n",
    "import pickle as pkl\n",
    "import random\n",
    "import string\n",
    "import pandas as pd\n",
    "import pdb\n",
    "from IPython.core.display import display, HTML\n",
    "import matplotlib.pyplot as plt\n",
    "\n",
    "PAD_IDX = 0\n",
    "UNK_IDX = 1\n",
    "BATCH_SIZE = 32"
   ]
  },
  {
   "cell_type": "markdown",
   "metadata": {},
   "source": [
    "## 1 Load data\n",
    "### 1.1 Load sentences"
   ]
  },
  {
   "cell_type": "code",
   "execution_count": 2,
   "metadata": {},
   "outputs": [
    {
     "data": {
      "text/html": [
       "<div>\n",
       "<style scoped>\n",
       "    .dataframe tbody tr th:only-of-type {\n",
       "        vertical-align: middle;\n",
       "    }\n",
       "\n",
       "    .dataframe tbody tr th {\n",
       "        vertical-align: top;\n",
       "    }\n",
       "\n",
       "    .dataframe thead th {\n",
       "        text-align: right;\n",
       "    }\n",
       "</style>\n",
       "<table border=\"1\" class=\"dataframe\">\n",
       "  <thead>\n",
       "    <tr style=\"text-align: right;\">\n",
       "      <th></th>\n",
       "      <th>sentence1</th>\n",
       "      <th>sentence2</th>\n",
       "      <th>label</th>\n",
       "    </tr>\n",
       "  </thead>\n",
       "  <tbody>\n",
       "    <tr>\n",
       "      <th>0</th>\n",
       "      <td>A young girl in a pink shirt sitting on a dock...</td>\n",
       "      <td>A young girl watching the sunset over the water .</td>\n",
       "      <td>neutral</td>\n",
       "    </tr>\n",
       "    <tr>\n",
       "      <th>1</th>\n",
       "      <td>A woman is smiling while the man next to her i...</td>\n",
       "      <td>Two people are next to each other .</td>\n",
       "      <td>entailment</td>\n",
       "    </tr>\n",
       "    <tr>\n",
       "      <th>2</th>\n",
       "      <td>Across the river , you can see a large building .</td>\n",
       "      <td>The large building is full of apartments and t...</td>\n",
       "      <td>neutral</td>\n",
       "    </tr>\n",
       "    <tr>\n",
       "      <th>3</th>\n",
       "      <td>a man in white shorts and a black shirt is par...</td>\n",
       "      <td>A man is riding a jetski on the ocean .</td>\n",
       "      <td>contradiction</td>\n",
       "    </tr>\n",
       "    <tr>\n",
       "      <th>4</th>\n",
       "      <td>Four black dogs run together on bright green g...</td>\n",
       "      <td>Four dogs are preparing to be launched into sp...</td>\n",
       "      <td>contradiction</td>\n",
       "    </tr>\n",
       "  </tbody>\n",
       "</table>\n",
       "</div>"
      ],
      "text/plain": [
       "                                           sentence1  \\\n",
       "0  A young girl in a pink shirt sitting on a dock...   \n",
       "1  A woman is smiling while the man next to her i...   \n",
       "2  Across the river , you can see a large building .   \n",
       "3  a man in white shorts and a black shirt is par...   \n",
       "4  Four black dogs run together on bright green g...   \n",
       "\n",
       "                                           sentence2          label  \n",
       "0  A young girl watching the sunset over the water .        neutral  \n",
       "1                Two people are next to each other .     entailment  \n",
       "2  The large building is full of apartments and t...        neutral  \n",
       "3            A man is riding a jetski on the ocean .  contradiction  \n",
       "4  Four dogs are preparing to be launched into sp...  contradiction  "
      ]
     },
     "execution_count": 2,
     "metadata": {},
     "output_type": "execute_result"
    }
   ],
   "source": [
    "snli_train = pd.read_csv('../data/snli_train.tsv', sep='\\t', header=0)\n",
    "snli_val = pd.read_csv('../data/snli_val.tsv', sep='\\t', header=0)\n",
    "\n",
    "snli_train.head()"
   ]
  },
  {
   "cell_type": "markdown",
   "metadata": {},
   "source": [
    "### 1.2 Load pre-trained word vector"
   ]
  },
  {
   "cell_type": "code",
   "execution_count": 3,
   "metadata": {},
   "outputs": [],
   "source": [
    "def load_vectors(fname, vocab_size=20000):\n",
    "    with open(fname, 'r', encoding='utf-8', newline='\\n', errors='ignore') as file:\n",
    "        n, d = map(int, file.readline().split())\n",
    "        cnt = 0\n",
    "        id2token = ['<pad>', '<unk>']\n",
    "        token2id = dict()\n",
    "        lookup = [[0 for i in range(300)], [0 for i in range(300)]]\n",
    "        for line in file:\n",
    "            tokens = line.rstrip().split(' ')\n",
    "            id2token.append(tokens[0])\n",
    "            token2id[tokens[0]] = cnt+2\n",
    "            lookup.append([float(x) for x in tokens[1:]])\n",
    "            cnt += 1\n",
    "            if cnt == vocab_size:\n",
    "                break\n",
    "        # First dimension is being passed to Embedding as ‘num_embeddings’(vocab size), \n",
    "        # second as ‘embedding_dim’.\n",
    "        lookup = np.array(lookup)\n",
    "    return id2token, token2id, lookup\n",
    "\n",
    "id2token, token2id, lookup = load_vectors('../res/wiki-news-300d-1M.vec')"
   ]
  },
  {
   "cell_type": "code",
   "execution_count": 4,
   "metadata": {},
   "outputs": [],
   "source": [
    "def tokenize_preprocess(data):\n",
    "    target_map = {'neutral': 0, 'entailment': 1, 'contradiction': 2}\n",
    "    tokens_1 = [sent.split() for sent in data['sentence1']]\n",
    "    tokens_2 = [sent.split() for sent in data['sentence2']]\n",
    "    targets = [target_map[x] for x in data['label']]\n",
    "    return tokens_1, tokens_2, targets\n",
    "\n",
    "snli_train_tokens_1, snli_train_tokens_2, snli_train_targets = tokenize_preprocess(snli_train)\n",
    "snli_val_tokens_1, snli_val_tokens_2, snli_val_targets = tokenize_preprocess(snli_val)"
   ]
  },
  {
   "cell_type": "code",
   "execution_count": 5,
   "metadata": {},
   "outputs": [],
   "source": [
    "def tokens2index_dataset(tokens_data):\n",
    "    index_data = []\n",
    "    for tokens in tokens_data:\n",
    "        indices = [token2id[token] if token in token2id else UNK_IDX for token in tokens]\n",
    "        index_data.append(indices)\n",
    "    return index_data\n",
    "snli_train_index_1 = tokens2index_dataset(snli_train_tokens_1)\n",
    "snli_train_index_2 = tokens2index_dataset(snli_train_tokens_2)\n",
    "snli_val_index_1 = tokens2index_dataset(snli_val_tokens_1)\n",
    "snli_val_index_2 = tokens2index_dataset(snli_val_tokens_2)"
   ]
  },
  {
   "cell_type": "markdown",
   "metadata": {},
   "source": [
    "## 2 Model building\n",
    "### 2.1 Dataset and DataLoader"
   ]
  },
  {
   "cell_type": "code",
   "execution_count": 6,
   "metadata": {},
   "outputs": [],
   "source": [
    "MAX_SENTENCE_LENGTH = 50\n",
    "\n",
    "def reverseMap(order):\n",
    "    tmp = [(b, a) for a, b  in enumerate(order)]\n",
    "    B, A = zip(*tmp)\n",
    "    res = np.array(A)[np.argsort(B)]\n",
    "    res = res.tolist()\n",
    "    return res\n",
    "\n",
    "class inferDataset(Dataset):\n",
    "    \"\"\"\n",
    "    Class that represents a train/validation/test dataset that's readable for PyTorch\n",
    "    Note that this class inherits torch.utils.data.Dataset\n",
    "    \"\"\"\n",
    "    \n",
    "    def __init__(self, data_list_1, data_list_2, target_list):\n",
    "        \"\"\"\n",
    "        @param data_list: list of newsgroup tokens \n",
    "        @param target_list: list of newsgroup targets \n",
    "\n",
    "        \"\"\"\n",
    "        self.data_list_1 = data_list_1\n",
    "        self.data_list_2 = data_list_2\n",
    "        self.target_list = target_list\n",
    "        assert (len(self.data_list_1) == len(self.data_list_2) == len(self.target_list))\n",
    "\n",
    "    def __len__(self):\n",
    "        return len(self.data_list_1)\n",
    "        \n",
    "    def __getitem__(self, key):\n",
    "        \"\"\"\n",
    "        Triggered when you call dataset[i]\n",
    "        \"\"\"\n",
    "        \n",
    "        token_1_idx = self.data_list_1[key][:MAX_SENTENCE_LENGTH]\n",
    "        token_2_idx = self.data_list_2[key][:MAX_SENTENCE_LENGTH]\n",
    "        label = self.target_list[key] \n",
    "        return [token_1_idx, len(token_1_idx), token_2_idx, len(token_2_idx), label]\n",
    "\n",
    "def infer_collate_func(batch):\n",
    "    \"\"\"\n",
    "    Customized function for DataLoader that dynamically pads the batch so that all \n",
    "    data have the same length (all data, sentence has the same length; so we can\n",
    "    convert it into a matrix and further into a tensor)\n",
    "    \"\"\"   \n",
    "    label_list = []\n",
    "    data_1_list = []\n",
    "    data_2_list = []\n",
    "    label_2_list = []\n",
    "    length_1_list = []\n",
    "    length_2_list = []\n",
    "    for datum in batch:\n",
    "        label_list.append(datum[4])\n",
    "        length_1_list.append(datum[1])\n",
    "        length_2_list.append(datum[3])\n",
    "    # padding\n",
    "    for datum in batch:\n",
    "        padded_vec = np.pad(np.array(datum[0]), \n",
    "                                    pad_width=((0,MAX_SENTENCE_LENGTH-len(datum[0]))), \n",
    "                                    mode=\"constant\", constant_values=0)\n",
    "        data_1_list.append(padded_vec.tolist())\n",
    "        padded_vec = np.pad(np.array(datum[2]), \n",
    "                                    pad_width=((0,MAX_SENTENCE_LENGTH-len(datum[2]))), \n",
    "                                    mode=\"constant\", constant_values=0)\n",
    "        data_2_list.append(padded_vec.tolist())\n",
    "        \n",
    "        order_1 = np.argsort(length_1_list)[::-1].tolist()\n",
    "        order_2 = np.argsort(length_2_list)[::-1].tolist()\n",
    "        \n",
    "        rev_order_1 = reverseMap(order_1)\n",
    "        rev_order_2 = reverseMap(order_2)\n",
    "        \n",
    "        tmp_asset = np.arange(len(batch))\n",
    "        assert ((tmp_asset[order_1][rev_order_1] == tmp_asset).all())\n",
    "        assert ((tmp_asset[order_2][rev_order_2] == tmp_asset).all())\n",
    "\n",
    "    return [torch.from_numpy(np.array(data_1_list))[order_1],\n",
    "            torch.LongTensor(length_1_list)[order_1], \n",
    "            torch.LongTensor(rev_order_1),\n",
    "            torch.from_numpy(np.array(data_2_list))[order_2], \n",
    "            torch.LongTensor(length_2_list)[order_2],\n",
    "            torch.LongTensor(rev_order_2),\n",
    "            torch.LongTensor(label_list)]\n",
    "\n",
    "\n",
    "\n",
    "BATCH_SIZE = 32\n",
    "snli_train_dataset = inferDataset(snli_train_index_1, snli_train_index_2, snli_train_targets)\n",
    "snli_train_loader = torch.utils.data.DataLoader(dataset=snli_train_dataset, \n",
    "                                           batch_size=BATCH_SIZE,\n",
    "                                           collate_fn=infer_collate_func,\n",
    "                                           shuffle=True)\n",
    "snli_val_dataset = inferDataset(snli_val_index_1, snli_val_index_2, snli_val_targets)\n",
    "snli_val_loader = torch.utils.data.DataLoader(dataset=snli_val_dataset, \n",
    "                                           batch_size=BATCH_SIZE,\n",
    "                                           collate_fn=infer_collate_func,\n",
    "                                           shuffle=True)"
   ]
  },
  {
   "cell_type": "markdown",
   "metadata": {},
   "source": [
    "### 2.2 GRU Model"
   ]
  },
  {
   "cell_type": "code",
   "execution_count": 7,
   "metadata": {},
   "outputs": [],
   "source": [
    "class GRU(nn.Module):\n",
    "    def __init__(self, weight, hidden_size):\n",
    "        '''\n",
    "        GRU Model\n",
    "        '''\n",
    "        super(GRU, self).__init__()\n",
    "        self.hidden_size = hidden_size\n",
    "        self.embedding = nn.Embedding.from_pretrained(weight, freeze = False)\n",
    "        emb_size = weight.shape[1]\n",
    "        self.gru = nn.GRU(emb_size, hidden_size, num_layers = 1, batch_first=True, bidirectional= True) \n",
    "        # The first dimension is batch dimension\n",
    "        self.linear1 = nn.Linear(hidden_size * 2 * 2, out_features=100)\n",
    "        self.linear2 = nn.Linear(100, out_features=3)\n",
    "\n",
    "    def init_hidden(self, batch_size, cuda = True):\n",
    "        # Function initializes the activation of recurrent neural net at timestep 0\n",
    "        # Needs to be in format (num_layers, batch_size, hidden_size)\n",
    "        if cuda:\n",
    "            hidden = torch.randn(2, batch_size, self.hidden_size).cuda()\n",
    "        else:\n",
    "            hidden = torch.randn(2, batch_size, self.hidden_size)\n",
    "        return hidden\n",
    "\n",
    "    def forward(self, x, x_lengths, rev_order_x,  y, y_lengths, rev_order_y):\n",
    "        batch_size, seq_len = x.size()\n",
    "        self.hidden_1 = self.init_hidden(batch_size, x.is_cuda)\n",
    "\n",
    "        # get embedding of characters\n",
    "        embed_x = self.embedding(x)\n",
    "        embed_y = self.embedding(y)\n",
    "        \n",
    "        # Sort before RNN\n",
    "        embed_x = torch.nn.utils.rnn.pack_padded_sequence(embed_x, x_lengths, batch_first=True)\n",
    "        # GRU\n",
    "        _, hidden_x = self.gru(embed_x, self.hidden_1)\n",
    "        # output_x, _ = torch.nn.utils.rnn.pad_packed_sequence(output_x, batch_first=True)\n",
    "        # Get the last hidden \n",
    "        out_x = hidden_x.transpose(0, 1)\n",
    "        out_x = out_x.contiguous().view(batch_size, -1)\n",
    "        out_x = out_x[rev_order_x]\n",
    "        \n",
    "        #The same for y (Do we need to re-initialize the hidden?)\n",
    "        self.hidden_2 = self.init_hidden(batch_size, x.is_cuda)\n",
    "        embed_y = torch.nn.utils.rnn.pack_padded_sequence(embed_y, y_lengths, batch_first=True)\n",
    "        _, hidden_y = self.gru(embed_y, self.hidden_2)\n",
    "        # output_y, _ = torch.nn.utils.rnn.pad_packed_sequence(output_y, batch_first=True)\n",
    "        out_y = hidden_y.transpose(0, 1)\n",
    "        out_y = out_y.contiguous().view(batch_size, -1)\n",
    "        out_y = out_y[rev_order_y]\n",
    "        \n",
    "        # Concat x and y before linear transformation\n",
    "        output = torch.cat([out_x, out_y], dim = 1)\n",
    "\n",
    "        output = self.linear1(output)\n",
    "        output = F.softmax(output, dim = 0)\n",
    "        res = self.linear2(output)\n",
    "        \n",
    "        return res"
   ]
  },
  {
   "cell_type": "markdown",
   "metadata": {},
   "source": [
    "### 2.3 CNN Model"
   ]
  },
  {
   "cell_type": "code",
   "execution_count": 8,
   "metadata": {},
   "outputs": [],
   "source": [
    "class CNN(nn.Module):\n",
    "    def __init__(self, weight, hidden_size):\n",
    "        '''\n",
    "        CNN Model\n",
    "        '''\n",
    "        super(CNN, self).__init__()\n",
    "        self.hidden_size = hidden_size\n",
    "        self.embedding = nn.Embedding.from_pretrained(weight, freeze = False)\n",
    "        emb_size = weight.shape[1]\n",
    "        self.conv1 = nn.Conv1d(emb_size, hidden_size, kernel_size=3, padding=1) \n",
    "        self.conv2 = nn.Conv1d(hidden_size, hidden_size, kernel_size=3, padding=1)\n",
    "        self.linear1 = nn.Linear(hidden_size * 2 , out_features=50)\n",
    "        self.linear2 = nn.Linear(50, out_features=3)\n",
    "        \n",
    "    def forward(self, x, x_lengths, rev_order_x,  y, y_lengths, rev_order_y):\n",
    "        batch_size, seq_len = x.size()\n",
    "        \n",
    "        x = x[rev_order_x]\n",
    "        y = y[rev_order_y]\n",
    "        \n",
    "        embed_x = self.embedding(x)\n",
    "        embed_y = self.embedding(y)\n",
    "                \n",
    "        hidden_x = self.conv1(embed_x.transpose(1, 2)).transpose(1, 2) \n",
    "        hidden_x = F.relu(hidden_x)\n",
    "        \n",
    "        hidden_x = self.conv2(hidden_x.transpose(1, 2)).transpose(1, 2) \n",
    "        hidden_x = F.relu(hidden_x)\n",
    "        \n",
    "        hidden_x = torch.max(hidden_x, dim=1)[0]\n",
    "                \n",
    "        # The same for y\n",
    "        \n",
    "        hidden_y = self.conv1(embed_y.transpose(1, 2)).transpose(1, 2) \n",
    "        hidden_y = F.relu(hidden_y)\n",
    "                \n",
    "        hidden_y = self.conv2(hidden_y.transpose(1, 2)).transpose(1, 2) \n",
    "        hidden_y = F.relu(hidden_y)\n",
    "        \n",
    "        hidden_y = torch.max(hidden_y, dim=1)[0]\n",
    "                \n",
    "        # Concat x and y before linear transformation\n",
    "        output = torch.cat([hidden_x, hidden_y], dim = 1) \n",
    "        \n",
    "        output = self.linear1(output)\n",
    "        output = F.softmax(output, dim=0)\n",
    "        res = self.linear2(output)\n",
    "        \n",
    "        return res"
   ]
  },
  {
   "cell_type": "markdown",
   "metadata": {},
   "source": [
    "### 2.4 Evaluate the model\n",
    "The function for evaluating the model"
   ]
  },
  {
   "cell_type": "code",
   "execution_count": 9,
   "metadata": {},
   "outputs": [],
   "source": [
    "def test_model(loader, model):\n",
    "    \"\"\"\n",
    "    Help function that tests the model's performance on a dataset\n",
    "    @param: loader - data loader for the dataset to test against\n",
    "    \"\"\"\n",
    "    correct = 0\n",
    "    total = 0\n",
    "    loss = 0\n",
    "    model.eval()\n",
    "    with torch.no_grad():\n",
    "        for x, x_lengths, rev_order_x, y, y_lengths, rev_order_y, labels in loader:\n",
    "            labels_batch = labels.cuda()\n",
    "            outputs = F.softmax(model(x.cuda(), x_lengths.cuda(), rev_order_x.cuda(),\n",
    "                                      y.cuda(), y_lengths.cuda(), rev_order_y.cuda()), dim=1)\n",
    "            loss += float(criterion(outputs, labels_batch))\n",
    "            predicted = outputs.max(1, keepdim=True)[1]\n",
    "            total += labels_batch.size(0)\n",
    "            correct += predicted.eq(labels_batch.view_as(predicted)).sum().item()\n",
    "    return (100 * correct / total), loss / len(loader)"
   ]
  },
  {
   "cell_type": "markdown",
   "metadata": {},
   "source": [
    "### 2.5  Display the result\n",
    "Display the result in a clear way."
   ]
  },
  {
   "cell_type": "code",
   "execution_count": 10,
   "metadata": {},
   "outputs": [],
   "source": [
    "def result_reader(prefix, suffix):\n",
    "    max_val = dict()\n",
    "    no_para = dict()\n",
    "    for s_ in suffix:\n",
    "        run_name = prefix + s_\n",
    "        res = pkl.load(open('../model/'+run_name+'_res.pkl', 'rb'))\n",
    "        para = torch.load(open('../model/'+run_name+'_para.pt', 'rb'), map_location=torch.device('cpu'))\n",
    "        disp_val = '<table><tr><td>' +\\\n",
    "                    '</td><td>'.join(['Epoch '+str(x+1) for x in range(len(res['val_acc_list']))]) + \\\n",
    "                    '</td></tr><tr><td>' +\\\n",
    "                    '</td><td>'.join([str(x) for x in (res['val_acc_list'])]) +\\\n",
    "                    '</tr></table>'\n",
    "        display(HTML('Model: ' + run_name + '; Validation accuracy: '))\n",
    "        display(HTML('Number of parameters: ' + str(sum([x.numel() for x in para.values()]))))\n",
    "        display(HTML(disp_val))\n",
    "        max_val[s_] = max(res['val_acc_list'])\n",
    "        no_para[s_] = sum([x.numel() for x in para.values()])\n",
    "        plt.figure(0)\n",
    "        plt.plot(res['it_list'], res['train_acc_list'], label = 'Train Acc')\n",
    "        plt.plot(res['it_list'], res['val_acc_list'], label = 'Val Acc')\n",
    "        plt.title(run_name + ' Accuracy')\n",
    "        plt.legend()\n",
    "        plt.savefig('../img/'+run_name + '.png')\n",
    "        plt.savefig('../img/'+run_name + '.eps')\n",
    "        plt.close()\n",
    "        plt.figure(1, figsize=(8, 2))\n",
    "        plt.subplot(1, 2, 1)\n",
    "        plt.plot(res['it_list'], res['train_acc_list'], label = 'Train Acc')\n",
    "        plt.plot(res['it_list'], res['val_acc_list'], label = 'Val Acc')\n",
    "        plt.title(run_name + ' Accuracy')\n",
    "        plt.subplot(1, 2, 2)\n",
    "        plt.plot(res['it_list'], res['train_loss_list'], label = 'Train Loss')\n",
    "        plt.plot(res['it_list'], res['val_loss_list'], label = 'Val Loss')\n",
    "        plt.title(run_name + ' Loss')\n",
    "        plt.legend()\n",
    "        plt.show()\n",
    "        \n",
    "    def boldMax(x, x_list):\n",
    "        if x == max(x_list):\n",
    "            return '<span style = \\\"font-weight: bold\\\">' + str(x) + '</span>'\n",
    "        else:\n",
    "            return str(x)\n",
    "    res = pd.DataFrame(columns = suffix, index = ['max accuracy','no. of parameters' ])\n",
    "    res.loc['max accuracy'] = max_val\n",
    "    res.loc['no. of parameters'] = no_para\n",
    "    display(HTML('The best hyperparameter: ' + \\\n",
    "    ''.join(res.columns[res.loc['max accuracy']== max(res.loc['max accuracy'])])))\n",
    "    display(res)\n",
    "    with open('../img/'+ prefix[:-1] + '.tex', 'w') as f:\n",
    "        print('%{}\\n'.format(prefix[:-1]) + '\\\\begin{table}[H]\\n\\\\centering\\n' + res.to_latex() + '\\\\end{table}', file = f)\n"
   ]
  },
  {
   "cell_type": "code",
   "execution_count": 39,
   "metadata": {},
   "outputs": [],
   "source": [
    "tmp = pd.DataFrame([[1, 2, 3], [2, 1, 3]], index = ['C', 'A'], columns = ['1', '2', '3'])"
   ]
  },
  {
   "cell_type": "code",
   "execution_count": 43,
   "metadata": {},
   "outputs": [
    {
     "data": {
      "text/html": [
       "<style  type=\"text/css\" >\n",
       "    #T_8307201c_dcbd_11e8_bb90_4b938f4d2c27row1_col0 {\n",
       "            font-weight:  bold;\n",
       "        }    #T_8307201c_dcbd_11e8_bb90_4b938f4d2c27row1_col1 {\n",
       "            font-weight:  bold;\n",
       "        }    #T_8307201c_dcbd_11e8_bb90_4b938f4d2c27row1_col2 {\n",
       "            font-weight:  bold;\n",
       "        }</style>  \n",
       "<table id=\"T_8307201c_dcbd_11e8_bb90_4b938f4d2c27\" > \n",
       "<thead>    <tr> \n",
       "        <th class=\"blank level0\" ></th> \n",
       "        <th class=\"col_heading level0 col0\" >1</th> \n",
       "        <th class=\"col_heading level0 col1\" >2</th> \n",
       "        <th class=\"col_heading level0 col2\" >3</th> \n",
       "    </tr></thead> \n",
       "<tbody>    <tr> \n",
       "        <th id=\"T_8307201c_dcbd_11e8_bb90_4b938f4d2c27level0_row0\" class=\"row_heading level0 row0\" >C</th> \n",
       "        <td id=\"T_8307201c_dcbd_11e8_bb90_4b938f4d2c27row0_col0\" class=\"data row0 col0\" >1</td> \n",
       "        <td id=\"T_8307201c_dcbd_11e8_bb90_4b938f4d2c27row0_col1\" class=\"data row0 col1\" >2</td> \n",
       "        <td id=\"T_8307201c_dcbd_11e8_bb90_4b938f4d2c27row0_col2\" class=\"data row0 col2\" >3</td> \n",
       "    </tr>    <tr> \n",
       "        <th id=\"T_8307201c_dcbd_11e8_bb90_4b938f4d2c27level0_row1\" class=\"row_heading level0 row1\" >A</th> \n",
       "        <td id=\"T_8307201c_dcbd_11e8_bb90_4b938f4d2c27row1_col0\" class=\"data row1 col0\" >2</td> \n",
       "        <td id=\"T_8307201c_dcbd_11e8_bb90_4b938f4d2c27row1_col1\" class=\"data row1 col1\" >1</td> \n",
       "        <td id=\"T_8307201c_dcbd_11e8_bb90_4b938f4d2c27row1_col2\" class=\"data row1 col2\" >3</td> \n",
       "    </tr></tbody> \n",
       "</table> "
      ],
      "text/plain": [
       "<pandas.io.formats.style.Styler at 0x7f646118bdd8>"
      ]
     },
     "execution_count": 43,
     "metadata": {},
     "output_type": "execute_result"
    }
   ],
   "source": [
    "tmp.style.applymap(lambda x:'font-weight: bold',subset=pd.IndexSlice['A', :])"
   ]
  },
  {
   "cell_type": "markdown",
   "metadata": {},
   "source": [
    "## 3 Run the baseline model"
   ]
  },
  {
   "cell_type": "markdown",
   "metadata": {},
   "source": [
    "### 3.1 GRU Baseline"
   ]
  },
  {
   "cell_type": "code",
   "execution_count": 81,
   "metadata": {},
   "outputs": [
    {
     "name": "stdout",
     "output_type": "stream",
     "text": [
      "................................\n",
      "Epoch: [1/15], Validation Acc: 60.1\n",
      "................................\n",
      "Epoch: [2/15], Validation Acc: 62.7\n",
      "................................\n",
      "Epoch: [3/15], Validation Acc: 64.2\n",
      "................................\n",
      "Epoch: [4/15], Validation Acc: 66.3\n",
      "................................\n",
      "Epoch: [5/15], Validation Acc: 67.3\n",
      "................................\n",
      "Epoch: [6/15], Validation Acc: 68.5\n",
      "................................\n",
      "Epoch: [7/15], Validation Acc: 69.5\n",
      "................................\n",
      "Epoch: [8/15], Validation Acc: 69.1\n",
      "................................\n",
      "Epoch: [9/15], Validation Acc: 69.4\n",
      "................................\n",
      "Epoch: [10/15], Validation Acc: 69.5\n",
      "................................\n",
      "Epoch: [11/15], Validation Acc: 67.8\n",
      "................................\n",
      "Epoch: [12/15], Validation Acc: 68.1\n",
      "................................\n",
      "Epoch: [13/15], Validation Acc: 69.2\n",
      "................................\n",
      "Epoch: [14/15], Validation Acc: 69.1\n",
      "................................\n",
      "Epoch: [15/15], Validation Acc: 70.4\n"
     ]
    }
   ],
   "source": [
    "run_name = 'GRU_bench'\n",
    "torch.backends.cudnn.benchmark = True\n",
    "\n",
    "weight = torch.FloatTensor(lookup).cuda()\n",
    "model = GRU(weight = weight, hidden_size=300).cuda()\n",
    "\n",
    "learning_rate = 0.0005\n",
    "num_epochs = 15 # number epoch to train\n",
    "\n",
    "# Criterion and Optimizer\n",
    "criterion = torch.nn.CrossEntropyLoss()\n",
    "optimizer = torch.optim.Adam(model.parameters(), lr=learning_rate)\n",
    "\n",
    "# freeze\n",
    "freeze_mat = torch.cat([torch.zeros([1, 300]), torch.ones([1, 300]), torch.zeros([20000, 300])]).cuda()\n",
    "h = model.embedding.weight.register_hook(lambda grad: grad * freeze_mat)\n",
    "\n",
    "# Plot prepare\n",
    "it = 0\n",
    "res = {\n",
    "    'it_list' : [],\n",
    "    'train_loss_list' : [],\n",
    "    'val_loss_list' : [],\n",
    "    'train_acc_list' : [],\n",
    "    'val_acc_list' : [] \n",
    "}\n",
    "\n",
    "# print(model.embedding.weight[:3, :5])\n",
    "for epoch in range(num_epochs):\n",
    "    for i, (x, x_lengths, rev_order_x, y, y_lengths, rev_order_y, labels) in enumerate(snli_train_loader):\n",
    "        \n",
    "        it += 1\n",
    "        model.train()\n",
    "        optimizer.zero_grad()\n",
    "        # Forward pass\n",
    "        outputs = model(x.cuda(), x_lengths.cuda(), rev_order_x.cuda(),\n",
    "                        y.cuda(), y_lengths.cuda(), rev_order_y.cuda())\n",
    "        loss = criterion(outputs, labels.cuda())\n",
    "\n",
    "        # Backward and optimize\n",
    "        loss.backward()\n",
    "        optimizer.step()\n",
    "        if i % 100 == 0:\n",
    "            print('.', end='')\n",
    "    # validate\n",
    "    train_acc, train_loss = test_model(snli_train_loader, model)\n",
    "    val_acc, val_loss = test_model(snli_val_loader, model)\n",
    "\n",
    "    print('\\nEpoch: [{}/{}], Validation Acc: {}'.format(\n",
    "        epoch+1, num_epochs, val_acc))\n",
    "\n",
    "    # Plot prepare\n",
    "    res['it_list'].append(it)\n",
    "    res['train_acc_list'].append(train_acc)\n",
    "    res['train_loss_list'].append(train_loss)\n",
    "    res['val_acc_list'].append(val_acc)\n",
    "    res['val_loss_list'].append(val_loss)\n",
    "            \n",
    "# after training, save the model \n",
    "torch.save(model.state_dict(), '../model/'+run_name+'_para.pt')\n",
    "pkl.dump(res, open('../model/'+run_name+'_res.pkl', 'wb'))"
   ]
  },
  {
   "cell_type": "code",
   "execution_count": 115,
   "metadata": {},
   "outputs": [
    {
     "data": {
      "text/html": [
       "Model: GRU_bench; Validation accuracy: "
      ],
      "text/plain": [
       "<IPython.core.display.HTML object>"
      ]
     },
     "metadata": {},
     "output_type": "display_data"
    },
    {
     "data": {
      "text/html": [
       "Number of parameters: 7204603"
      ],
      "text/plain": [
       "<IPython.core.display.HTML object>"
      ]
     },
     "metadata": {},
     "output_type": "display_data"
    },
    {
     "data": {
      "text/html": [
       "<table><tr><td>Epoch 1</td><td>Epoch 2</td><td>Epoch 3</td><td>Epoch 4</td><td>Epoch 5</td><td>Epoch 6</td><td>Epoch 7</td><td>Epoch 8</td><td>Epoch 9</td><td>Epoch 10</td><td>Epoch 11</td><td>Epoch 12</td><td>Epoch 13</td><td>Epoch 14</td><td>Epoch 15</td></tr><tr><td>60.1</td><td>62.7</td><td>64.2</td><td>66.3</td><td>67.3</td><td>68.5</td><td>69.5</td><td>69.1</td><td>69.4</td><td>69.5</td><td>67.8</td><td>68.1</td><td>69.2</td><td>69.1</td><td>70.4</tr></table>"
      ],
      "text/plain": [
       "<IPython.core.display.HTML object>"
      ]
     },
     "metadata": {},
     "output_type": "display_data"
    },
    {
     "data": {
      "image/png": "[encoded data removed]",
      "text/plain": [
       "<Figure size 576x144 with 2 Axes>"
      ]
     },
     "metadata": {
      "needs_background": "light"
     },
     "output_type": "display_data"
    },
    {
     "data": {
      "text/html": [
       "The best hyperparameter: "
      ],
      "text/plain": [
       "<IPython.core.display.HTML object>"
      ]
     },
     "metadata": {},
     "output_type": "display_data"
    },
    {
     "data": {
      "text/html": [
       "<div>\n",
       "<style scoped>\n",
       "    .dataframe tbody tr th:only-of-type {\n",
       "        vertical-align: middle;\n",
       "    }\n",
       "\n",
       "    .dataframe tbody tr th {\n",
       "        vertical-align: top;\n",
       "    }\n",
       "\n",
       "    .dataframe thead th {\n",
       "        text-align: right;\n",
       "    }\n",
       "</style>\n",
       "<table border=\"1\" class=\"dataframe\">\n",
       "  <thead>\n",
       "    <tr style=\"text-align: right;\">\n",
       "      <th></th>\n",
       "      <th></th>\n",
       "    </tr>\n",
       "  </thead>\n",
       "  <tbody>\n",
       "    <tr>\n",
       "      <th>max accuracy</th>\n",
       "      <td>70.4</td>\n",
       "    </tr>\n",
       "    <tr>\n",
       "      <th>no. of parameters</th>\n",
       "      <td>7204603</td>\n",
       "    </tr>\n",
       "  </tbody>\n",
       "</table>\n",
       "</div>"
      ],
      "text/plain": [
       "                          \n",
       "max accuracy          70.4\n",
       "no. of parameters  7204603"
      ]
     },
     "metadata": {},
     "output_type": "display_data"
    }
   ],
   "source": [
    "result_reader('GRU_bench', [''])"
   ]
  },
  {
   "cell_type": "markdown",
   "metadata": {},
   "source": [
    "### 3.2 CNN Baseline"
   ]
  },
  {
   "cell_type": "code",
   "execution_count": 18,
   "metadata": {
    "scrolled": false
   },
   "outputs": [
    {
     "name": "stdout",
     "output_type": "stream",
     "text": [
      "................................\n",
      "Epoch: [1/15], Validation Acc: 58.4\n",
      "................................\n",
      "Epoch: [2/15], Validation Acc: 61.6\n",
      "................................\n",
      "Epoch: [3/15], Validation Acc: 63.9\n",
      "................................\n",
      "Epoch: [4/15], Validation Acc: 63.3\n",
      "................................\n",
      "Epoch: [5/15], Validation Acc: 64.0\n",
      "................................\n",
      "Epoch: [6/15], Validation Acc: 64.9\n",
      "................................\n",
      "Epoch: [7/15], Validation Acc: 66.7\n",
      "................................\n",
      "Epoch: [8/15], Validation Acc: 66.1\n",
      "................................\n",
      "Epoch: [9/15], Validation Acc: 65.4\n",
      "................................\n",
      "Epoch: [10/15], Validation Acc: 67.2\n",
      "................................\n",
      "Epoch: [11/15], Validation Acc: 67.1\n",
      "................................\n",
      "Epoch: [12/15], Validation Acc: 66.3\n",
      "................................\n",
      "Epoch: [13/15], Validation Acc: 66.0\n",
      "................................\n",
      "Epoch: [14/15], Validation Acc: 65.4\n",
      "................................\n",
      "Epoch: [15/15], Validation Acc: 64.6\n"
     ]
    }
   ],
   "source": [
    "run_name = 'CNN_bench'\n",
    "torch.backends.cudnn.benchmark = True\n",
    "\n",
    "weight = torch.FloatTensor(lookup).cuda()\n",
    "model = CNN(weight = weight, hidden_size=200).cuda()\n",
    "\n",
    "learning_rate = 0.0002\n",
    "num_epochs = 15 # number epoch to train\n",
    "\n",
    "# Criterion and Optimizer\n",
    "criterion = torch.nn.CrossEntropyLoss()\n",
    "optimizer = torch.optim.Adam(model.parameters(), lr=learning_rate)\n",
    "\n",
    "# freeze\n",
    "freeze_mat = torch.cat([torch.zeros([1, 300]), torch.ones([1, 300]), torch.zeros([20000, 300])]).cuda()\n",
    "h = model.embedding.weight.register_hook(lambda grad: grad * freeze_mat)\n",
    "\n",
    "# Plot prepare\n",
    "it = 0\n",
    "res = {\n",
    "    'it_list' : [],\n",
    "    'train_loss_list' : [],\n",
    "    'val_loss_list' : [],\n",
    "    'train_acc_list' : [],\n",
    "    'val_acc_list' : [] \n",
    "}\n",
    "\n",
    "# print(model.embedding.weight[:3, :5])\n",
    "for epoch in range(num_epochs):\n",
    "    train_acc = 0\n",
    "    train_loss = 0\n",
    "    for i, (x, x_lengths, rev_order_x, y, y_lengths, rev_order_y, labels) in enumerate(snli_train_loader):\n",
    "        it += 1\n",
    "        model.train()\n",
    "        optimizer.zero_grad()\n",
    "        # Forward pass\n",
    "        outputs = model(x.cuda(), x_lengths.cuda(), rev_order_x.cuda(),\n",
    "                        y.cuda(), y_lengths.cuda(), rev_order_y.cuda())\n",
    "        loss = criterion(outputs, labels.cuda())\n",
    "        \n",
    "        # Backward and optimize\n",
    "        loss.backward()\n",
    "        optimizer.step()\n",
    "        \n",
    "        if i % 100 == 0:\n",
    "            print('.', end='')\n",
    "    \n",
    "    # validate\n",
    "    train_acc, train_loss = test_model(snli_train_loader, model)\n",
    "    val_acc, val_loss = test_model(snli_val_loader, model)\n",
    "    \n",
    "    print('\\nEpoch: [{}/{}], Validation Acc: {}'.format(\n",
    "        epoch+1, num_epochs, val_acc))\n",
    "\n",
    "    # Plot prepare\n",
    "    res['it_list'].append(it)\n",
    "    res['train_acc_list'].append(train_acc)\n",
    "    res['train_loss_list'].append(train_loss)\n",
    "    res['val_acc_list'].append(val_acc)\n",
    "    res['val_loss_list'].append(val_loss)\n",
    "            \n",
    "# after training, save the model \n",
    "torch.save(model.state_dict(), '../model/'+run_name+'_para.pt')\n",
    "pkl.dump(res, open('../model/'+run_name+'_res.pkl', 'wb'))"
   ]
  },
  {
   "cell_type": "code",
   "execution_count": 116,
   "metadata": {
    "scrolled": false
   },
   "outputs": [
    {
     "data": {
      "text/html": [
       "Model: CNN_bench; Validation accuracy: "
      ],
      "text/plain": [
       "<IPython.core.display.HTML object>"
      ]
     },
     "metadata": {},
     "output_type": "display_data"
    },
    {
     "data": {
      "text/html": [
       "Number of parameters: 6321203"
      ],
      "text/plain": [
       "<IPython.core.display.HTML object>"
      ]
     },
     "metadata": {},
     "output_type": "display_data"
    },
    {
     "data": {
      "text/html": [
       "<table><tr><td>Epoch 1</td><td>Epoch 2</td><td>Epoch 3</td><td>Epoch 4</td><td>Epoch 5</td><td>Epoch 6</td><td>Epoch 7</td><td>Epoch 8</td><td>Epoch 9</td><td>Epoch 10</td><td>Epoch 11</td><td>Epoch 12</td><td>Epoch 13</td><td>Epoch 14</td><td>Epoch 15</td></tr><tr><td>58.4</td><td>61.6</td><td>63.9</td><td>63.3</td><td>64.0</td><td>64.9</td><td>66.7</td><td>66.1</td><td>65.4</td><td>67.2</td><td>67.1</td><td>66.3</td><td>66.0</td><td>65.4</td><td>64.6</tr></table>"
      ],
      "text/plain": [
       "<IPython.core.display.HTML object>"
      ]
     },
     "metadata": {},
     "output_type": "display_data"
    },
    {
     "data": {
      "image/png": "[encoded data removed]",
      "text/plain": [
       "<Figure size 576x144 with 2 Axes>"
      ]
     },
     "metadata": {
      "needs_background": "light"
     },
     "output_type": "display_data"
    },
    {
     "data": {
      "text/html": [
       "The best hyperparameter: "
      ],
      "text/plain": [
       "<IPython.core.display.HTML object>"
      ]
     },
     "metadata": {},
     "output_type": "display_data"
    },
    {
     "data": {
      "text/html": [
       "<div>\n",
       "<style scoped>\n",
       "    .dataframe tbody tr th:only-of-type {\n",
       "        vertical-align: middle;\n",
       "    }\n",
       "\n",
       "    .dataframe tbody tr th {\n",
       "        vertical-align: top;\n",
       "    }\n",
       "\n",
       "    .dataframe thead th {\n",
       "        text-align: right;\n",
       "    }\n",
       "</style>\n",
       "<table border=\"1\" class=\"dataframe\">\n",
       "  <thead>\n",
       "    <tr style=\"text-align: right;\">\n",
       "      <th></th>\n",
       "      <th></th>\n",
       "    </tr>\n",
       "  </thead>\n",
       "  <tbody>\n",
       "    <tr>\n",
       "      <th>max accuracy</th>\n",
       "      <td>67.2</td>\n",
       "    </tr>\n",
       "    <tr>\n",
       "      <th>no. of parameters</th>\n",
       "      <td>6321203</td>\n",
       "    </tr>\n",
       "  </tbody>\n",
       "</table>\n",
       "</div>"
      ],
      "text/plain": [
       "                          \n",
       "max accuracy          67.2\n",
       "no. of parameters  6321203"
      ]
     },
     "metadata": {},
     "output_type": "display_data"
    }
   ],
   "source": [
    "result_reader('CNN_bench', [''])"
   ]
  },
  {
   "cell_type": "markdown",
   "metadata": {},
   "source": [
    "## 4. Hyperparameters"
   ]
  },
  {
   "cell_type": "markdown",
   "metadata": {},
   "source": [
    "### 4.1 CNN Hidden Size"
   ]
  },
  {
   "cell_type": "code",
   "execution_count": 21,
   "metadata": {
    "scrolled": true
   },
   "outputs": [
    {
     "name": "stdout",
     "output_type": "stream",
     "text": [
      "................................\n",
      "Epoch: [1/15], Validation Acc: 55.8\n",
      "................................\n",
      "Epoch: [2/15], Validation Acc: 58.4\n",
      "................................\n",
      "Epoch: [3/15], Validation Acc: 58.9\n",
      "................................\n",
      "Epoch: [4/15], Validation Acc: 60.6\n",
      "................................\n",
      "Epoch: [5/15], Validation Acc: 62.0\n",
      "................................\n",
      "Epoch: [6/15], Validation Acc: 62.0\n",
      "................................\n",
      "Epoch: [7/15], Validation Acc: 62.9\n",
      "................................\n",
      "Epoch: [8/15], Validation Acc: 62.7\n",
      "................................\n",
      "Epoch: [9/15], Validation Acc: 64.2\n",
      "................................\n",
      "Epoch: [10/15], Validation Acc: 62.9\n",
      "................................\n",
      "Epoch: [11/15], Validation Acc: 63.5\n",
      "................................\n",
      "Epoch: [12/15], Validation Acc: 62.3\n",
      "................................\n",
      "Epoch: [13/15], Validation Acc: 62.7\n",
      "................................\n",
      "Epoch: [14/15], Validation Acc: 64.5\n",
      "................................\n",
      "Epoch: [15/15], Validation Acc: 65.7\n",
      "................................\n",
      "Epoch: [1/15], Validation Acc: 56.7\n",
      "................................\n",
      "Epoch: [2/15], Validation Acc: 60.4\n",
      "................................\n",
      "Epoch: [3/15], Validation Acc: 62.2\n",
      "................................\n",
      "Epoch: [4/15], Validation Acc: 62.1\n",
      "................................\n",
      "Epoch: [5/15], Validation Acc: 62.6\n",
      "................................\n",
      "Epoch: [6/15], Validation Acc: 63.1\n",
      "................................\n",
      "Epoch: [7/15], Validation Acc: 64.4\n",
      "................................\n",
      "Epoch: [8/15], Validation Acc: 65.8\n",
      "................................\n",
      "Epoch: [9/15], Validation Acc: 65.6\n",
      "................................\n",
      "Epoch: [10/15], Validation Acc: 66.8\n",
      "................................\n",
      "Epoch: [11/15], Validation Acc: 64.7\n",
      "................................\n",
      "Epoch: [12/15], Validation Acc: 65.4\n",
      "................................\n",
      "Epoch: [13/15], Validation Acc: 66.0\n",
      "................................\n",
      "Epoch: [14/15], Validation Acc: 66.3\n",
      "................................\n",
      "Epoch: [15/15], Validation Acc: 66.6\n",
      "................................\n",
      "Epoch: [1/15], Validation Acc: 57.4\n",
      "................................\n",
      "Epoch: [2/15], Validation Acc: 60.4\n",
      "................................\n",
      "Epoch: [3/15], Validation Acc: 62.8\n",
      "................................\n",
      "Epoch: [4/15], Validation Acc: 61.8\n",
      "................................\n",
      "Epoch: [5/15], Validation Acc: 64.4\n",
      "................................\n",
      "Epoch: [6/15], Validation Acc: 64.8\n",
      "................................\n",
      "Epoch: [7/15], Validation Acc: 65.3\n",
      "................................\n",
      "Epoch: [8/15], Validation Acc: 65.1\n",
      "................................\n",
      "Epoch: [9/15], Validation Acc: 66.3\n",
      "................................\n",
      "Epoch: [10/15], Validation Acc: 65.9\n",
      "................................\n",
      "Epoch: [11/15], Validation Acc: 66.9\n",
      "................................\n",
      "Epoch: [12/15], Validation Acc: 66.5\n",
      "................................\n",
      "Epoch: [13/15], Validation Acc: 65.9\n",
      "................................\n",
      "Epoch: [14/15], Validation Acc: 64.9\n",
      "................................\n",
      "Epoch: [15/15], Validation Acc: 65.6\n",
      "................................\n",
      "Epoch: [1/15], Validation Acc: 60.6\n",
      "................................\n",
      "Epoch: [2/15], Validation Acc: 62.1\n",
      "................................\n",
      "Epoch: [3/15], Validation Acc: 63.6\n",
      "................................\n",
      "Epoch: [4/15], Validation Acc: 66.3\n",
      "................................\n",
      "Epoch: [5/15], Validation Acc: 65.2\n",
      "................................\n",
      "Epoch: [6/15], Validation Acc: 67.1\n",
      "................................\n",
      "Epoch: [7/15], Validation Acc: 67.3\n",
      "................................\n",
      "Epoch: [8/15], Validation Acc: 67.6\n",
      "................................\n",
      "Epoch: [9/15], Validation Acc: 67.7\n",
      "................................\n",
      "Epoch: [10/15], Validation Acc: 68.0\n",
      "................................\n",
      "Epoch: [11/15], Validation Acc: 67.5\n",
      "................................\n",
      "Epoch: [12/15], Validation Acc: 68.4\n",
      "................................\n",
      "Epoch: [13/15], Validation Acc: 69.4\n",
      "................................\n",
      "Epoch: [14/15], Validation Acc: 67.8\n",
      "................................\n",
      "Epoch: [15/15], Validation Acc: 66.7\n",
      "................................\n",
      "Epoch: [1/15], Validation Acc: 60.0\n",
      "................................\n",
      "Epoch: [2/15], Validation Acc: 62.8\n",
      "................................\n",
      "Epoch: [3/15], Validation Acc: 64.3\n",
      "................................\n",
      "Epoch: [4/15], Validation Acc: 65.0\n",
      "................................\n",
      "Epoch: [5/15], Validation Acc: 66.2\n",
      "................................\n",
      "Epoch: [6/15], Validation Acc: 68.0\n",
      "................................\n",
      "Epoch: [7/15], Validation Acc: 66.8\n",
      "................................\n",
      "Epoch: [8/15], Validation Acc: 65.3\n",
      "................................\n",
      "Epoch: [9/15], Validation Acc: 67.0\n",
      "................................\n",
      "Epoch: [10/15], Validation Acc: 66.5\n",
      "................................\n",
      "Epoch: [11/15], Validation Acc: 68.4\n",
      "................................\n",
      "Epoch: [12/15], Validation Acc: 67.2\n",
      "................................\n",
      "Epoch: [13/15], Validation Acc: 67.2\n",
      "................................\n",
      "Epoch: [14/15], Validation Acc: 66.3\n",
      "................................\n",
      "Epoch: [15/15], Validation Acc: 66.0\n",
      "................................\n",
      "Epoch: [1/15], Validation Acc: 59.8\n",
      "................................\n",
      "Epoch: [2/15], Validation Acc: 64.3\n",
      "................................\n",
      "Epoch: [3/15], Validation Acc: 64.5\n",
      "................................\n",
      "Epoch: [4/15], Validation Acc: 65.7\n",
      "................................\n",
      "Epoch: [5/15], Validation Acc: 66.7\n",
      "................................\n",
      "Epoch: [6/15], Validation Acc: 67.6\n",
      "................................\n",
      "Epoch: [7/15], Validation Acc: 68.7\n",
      "................................\n",
      "Epoch: [8/15], Validation Acc: 68.2\n",
      "................................\n",
      "Epoch: [9/15], Validation Acc: 67.5\n",
      "................................\n",
      "Epoch: [10/15], Validation Acc: 67.4\n",
      "................................\n",
      "Epoch: [11/15], Validation Acc: 67.5\n",
      "................................\n",
      "Epoch: [12/15], Validation Acc: 67.8\n",
      "................................\n",
      "Epoch: [13/15], Validation Acc: 65.5\n",
      "................................\n",
      "Epoch: [14/15], Validation Acc: 67.8\n",
      "................................\n",
      "Epoch: [15/15], Validation Acc: 66.6\n"
     ]
    }
   ],
   "source": [
    "for i_hid_size in [50, 100, 150, 300, 400, 500]:\n",
    "    run_name = 'CNN_hid_size_' + str(i_hid_size)\n",
    "    torch.backends.cudnn.benchmark = True\n",
    "\n",
    "    weight = torch.FloatTensor(lookup).cuda()\n",
    "    model = CNN(weight = weight, hidden_size=i_hid_size).cuda()\n",
    "    learning_rate = 0.0002\n",
    "    num_epochs = 15\n",
    "    criterion = torch.nn.CrossEntropyLoss()\n",
    "    optimizer = torch.optim.Adam(model.parameters(), lr=learning_rate)\n",
    "    freeze_mat = torch.cat([torch.zeros([1, 300]), torch.ones([1, 300]), torch.zeros([20000, 300])]).cuda()\n",
    "    h = model.embedding.weight.register_hook(lambda grad: grad * freeze_mat)\n",
    "    it = 0\n",
    "    res = {\n",
    "        'it_list' : [],\n",
    "        'train_loss_list' : [],\n",
    "        'val_loss_list' : [],\n",
    "        'train_acc_list' : [],\n",
    "        'val_acc_list' : [] \n",
    "    }\n",
    "    for epoch in range(num_epochs):\n",
    "        train_acc = 0\n",
    "        train_loss = 0\n",
    "        for i, (x, x_lengths, rev_order_x, y, y_lengths, rev_order_y, labels) in enumerate(snli_train_loader):\n",
    "            it += 1\n",
    "            model.train()\n",
    "            optimizer.zero_grad()\n",
    "            outputs = model(x.cuda(), x_lengths.cuda(), rev_order_x.cuda(),\n",
    "                            y.cuda(), y_lengths.cuda(), rev_order_y.cuda())\n",
    "            loss = criterion(outputs, labels.cuda())\n",
    "            loss.backward()\n",
    "            optimizer.step()\n",
    "            if i % 100 == 0:\n",
    "                print('.', end='')\n",
    "        # validate\n",
    "        train_acc, train_loss = test_model(snli_train_loader, model)\n",
    "        val_acc, val_loss = test_model(snli_val_loader, model)\n",
    "        print('\\nEpoch: [{}/{}], Validation Acc: {}'.format(\n",
    "            epoch+1, num_epochs, val_acc))\n",
    "        # Plot prepare\n",
    "        res['it_list'].append(it)\n",
    "        res['train_acc_list'].append(train_acc)\n",
    "        res['train_loss_list'].append(train_loss)\n",
    "        res['val_acc_list'].append(val_acc)\n",
    "        res['val_loss_list'].append(val_loss)\n",
    "    # after training, save the model \n",
    "    torch.save(model.state_dict(), '../model/'+run_name+'_para.pt')\n",
    "    pkl.dump(res, open('../model/'+run_name+'_res.pkl', 'wb'))"
   ]
  },
  {
   "cell_type": "code",
   "execution_count": 11,
   "metadata": {
    "scrolled": false
   },
   "outputs": [
    {
     "data": {
      "text/html": [
       "Model: CNN_hid_size_50; Validation accuracy: "
      ],
      "text/plain": [
       "<IPython.core.display.HTML object>"
      ]
     },
     "metadata": {},
     "output_type": "display_data"
    },
    {
     "data": {
      "text/html": [
       "Number of parameters: 6058403"
      ],
      "text/plain": [
       "<IPython.core.display.HTML object>"
      ]
     },
     "metadata": {},
     "output_type": "display_data"
    },
    {
     "data": {
      "text/html": [
       "<table><tr><td>Epoch 1</td><td>Epoch 2</td><td>Epoch 3</td><td>Epoch 4</td><td>Epoch 5</td><td>Epoch 6</td><td>Epoch 7</td><td>Epoch 8</td><td>Epoch 9</td><td>Epoch 10</td><td>Epoch 11</td><td>Epoch 12</td><td>Epoch 13</td><td>Epoch 14</td><td>Epoch 15</td></tr><tr><td>55.8</td><td>58.4</td><td>58.9</td><td>60.6</td><td>62.0</td><td>62.0</td><td>62.9</td><td>62.7</td><td>64.2</td><td>62.9</td><td>63.5</td><td>62.3</td><td>62.7</td><td>64.5</td><td>65.7</tr></table>"
      ],
      "text/plain": [
       "<IPython.core.display.HTML object>"
      ]
     },
     "metadata": {},
     "output_type": "display_data"
    },
    {
     "data": {
      "image/png": "[encoded data removed]",
      "text/plain": [
       "<Figure size 576x144 with 2 Axes>"
      ]
     },
     "metadata": {
      "needs_background": "light"
     },
     "output_type": "display_data"
    },
    {
     "data": {
      "text/html": [
       "Model: CNN_hid_size_100; Validation accuracy: "
      ],
      "text/plain": [
       "<IPython.core.display.HTML object>"
      ]
     },
     "metadata": {},
     "output_type": "display_data"
    },
    {
     "data": {
      "text/html": [
       "Number of parameters: 6131003"
      ],
      "text/plain": [
       "<IPython.core.display.HTML object>"
      ]
     },
     "metadata": {},
     "output_type": "display_data"
    },
    {
     "data": {
      "text/html": [
       "<table><tr><td>Epoch 1</td><td>Epoch 2</td><td>Epoch 3</td><td>Epoch 4</td><td>Epoch 5</td><td>Epoch 6</td><td>Epoch 7</td><td>Epoch 8</td><td>Epoch 9</td><td>Epoch 10</td><td>Epoch 11</td><td>Epoch 12</td><td>Epoch 13</td><td>Epoch 14</td><td>Epoch 15</td></tr><tr><td>56.7</td><td>60.4</td><td>62.2</td><td>62.1</td><td>62.6</td><td>63.1</td><td>64.4</td><td>65.8</td><td>65.6</td><td>66.8</td><td>64.7</td><td>65.4</td><td>66.0</td><td>66.3</td><td>66.6</tr></table>"
      ],
      "text/plain": [
       "<IPython.core.display.HTML object>"
      ]
     },
     "metadata": {},
     "output_type": "display_data"
    },
    {
     "data": {
      "image/png": "[encoded data removed]",
      "text/plain": [
       "<Figure size 576x144 with 2 Axes>"
      ]
     },
     "metadata": {
      "needs_background": "light"
     },
     "output_type": "display_data"
    },
    {
     "data": {
      "text/html": [
       "Model: CNN_hid_size_150; Validation accuracy: "
      ],
      "text/plain": [
       "<IPython.core.display.HTML object>"
      ]
     },
     "metadata": {},
     "output_type": "display_data"
    },
    {
     "data": {
      "text/html": [
       "Number of parameters: 6218603"
      ],
      "text/plain": [
       "<IPython.core.display.HTML object>"
      ]
     },
     "metadata": {},
     "output_type": "display_data"
    },
    {
     "data": {
      "text/html": [
       "<table><tr><td>Epoch 1</td><td>Epoch 2</td><td>Epoch 3</td><td>Epoch 4</td><td>Epoch 5</td><td>Epoch 6</td><td>Epoch 7</td><td>Epoch 8</td><td>Epoch 9</td><td>Epoch 10</td><td>Epoch 11</td><td>Epoch 12</td><td>Epoch 13</td><td>Epoch 14</td><td>Epoch 15</td></tr><tr><td>57.4</td><td>60.4</td><td>62.8</td><td>61.8</td><td>64.4</td><td>64.8</td><td>65.3</td><td>65.1</td><td>66.3</td><td>65.9</td><td>66.9</td><td>66.5</td><td>65.9</td><td>64.9</td><td>65.6</tr></table>"
      ],
      "text/plain": [
       "<IPython.core.display.HTML object>"
      ]
     },
     "metadata": {},
     "output_type": "display_data"
    },
    {
     "data": {
      "image/png": "[encoded data removed]",
      "text/plain": [
       "<Figure size 576x144 with 2 Axes>"
      ]
     },
     "metadata": {
      "needs_background": "light"
     },
     "output_type": "display_data"
    },
    {
     "data": {
      "text/html": [
       "Model: CNN_hid_size_300; Validation accuracy: "
      ],
      "text/plain": [
       "<IPython.core.display.HTML object>"
      ]
     },
     "metadata": {},
     "output_type": "display_data"
    },
    {
     "data": {
      "text/html": [
       "Number of parameters: 6571403"
      ],
      "text/plain": [
       "<IPython.core.display.HTML object>"
      ]
     },
     "metadata": {},
     "output_type": "display_data"
    },
    {
     "data": {
      "text/html": [
       "<table><tr><td>Epoch 1</td><td>Epoch 2</td><td>Epoch 3</td><td>Epoch 4</td><td>Epoch 5</td><td>Epoch 6</td><td>Epoch 7</td><td>Epoch 8</td><td>Epoch 9</td><td>Epoch 10</td><td>Epoch 11</td><td>Epoch 12</td><td>Epoch 13</td><td>Epoch 14</td><td>Epoch 15</td></tr><tr><td>60.6</td><td>62.1</td><td>63.6</td><td>66.3</td><td>65.2</td><td>67.1</td><td>67.3</td><td>67.6</td><td>67.7</td><td>68.0</td><td>67.5</td><td>68.4</td><td>69.4</td><td>67.8</td><td>66.7</tr></table>"
      ],
      "text/plain": [
       "<IPython.core.display.HTML object>"
      ]
     },
     "metadata": {},
     "output_type": "display_data"
    },
    {
     "data": {
      "image/png": "[encoded data removed]",
      "text/plain": [
       "<Figure size 576x144 with 2 Axes>"
      ]
     },
     "metadata": {
      "needs_background": "light"
     },
     "output_type": "display_data"
    },
    {
     "data": {
      "text/html": [
       "Model: CNN_hid_size_400; Validation accuracy: "
      ],
      "text/plain": [
       "<IPython.core.display.HTML object>"
      ]
     },
     "metadata": {},
     "output_type": "display_data"
    },
    {
     "data": {
      "text/html": [
       "Number of parameters: 6881603"
      ],
      "text/plain": [
       "<IPython.core.display.HTML object>"
      ]
     },
     "metadata": {},
     "output_type": "display_data"
    },
    {
     "data": {
      "text/html": [
       "<table><tr><td>Epoch 1</td><td>Epoch 2</td><td>Epoch 3</td><td>Epoch 4</td><td>Epoch 5</td><td>Epoch 6</td><td>Epoch 7</td><td>Epoch 8</td><td>Epoch 9</td><td>Epoch 10</td><td>Epoch 11</td><td>Epoch 12</td><td>Epoch 13</td><td>Epoch 14</td><td>Epoch 15</td></tr><tr><td>60.0</td><td>62.8</td><td>64.3</td><td>65.0</td><td>66.2</td><td>68.0</td><td>66.8</td><td>65.3</td><td>67.0</td><td>66.5</td><td>68.4</td><td>67.2</td><td>67.2</td><td>66.3</td><td>66.0</tr></table>"
      ],
      "text/plain": [
       "<IPython.core.display.HTML object>"
      ]
     },
     "metadata": {},
     "output_type": "display_data"
    },
    {
     "data": {
      "image/png": "[encoded data removed]",
      "text/plain": [
       "<Figure size 576x144 with 2 Axes>"
      ]
     },
     "metadata": {
      "needs_background": "light"
     },
     "output_type": "display_data"
    },
    {
     "data": {
      "text/html": [
       "Model: CNN_hid_size_500; Validation accuracy: "
      ],
      "text/plain": [
       "<IPython.core.display.HTML object>"
      ]
     },
     "metadata": {},
     "output_type": "display_data"
    },
    {
     "data": {
      "text/html": [
       "Number of parameters: 7251803"
      ],
      "text/plain": [
       "<IPython.core.display.HTML object>"
      ]
     },
     "metadata": {},
     "output_type": "display_data"
    },
    {
     "data": {
      "text/html": [
       "<table><tr><td>Epoch 1</td><td>Epoch 2</td><td>Epoch 3</td><td>Epoch 4</td><td>Epoch 5</td><td>Epoch 6</td><td>Epoch 7</td><td>Epoch 8</td><td>Epoch 9</td><td>Epoch 10</td><td>Epoch 11</td><td>Epoch 12</td><td>Epoch 13</td><td>Epoch 14</td><td>Epoch 15</td></tr><tr><td>59.8</td><td>64.3</td><td>64.5</td><td>65.7</td><td>66.7</td><td>67.6</td><td>68.7</td><td>68.2</td><td>67.5</td><td>67.4</td><td>67.5</td><td>67.8</td><td>65.5</td><td>67.8</td><td>66.6</tr></table>"
      ],
      "text/plain": [
       "<IPython.core.display.HTML object>"
      ]
     },
     "metadata": {},
     "output_type": "display_data"
    },
    {
     "data": {
      "image/png": "[encoded data removed]",
      "text/plain": [
       "<Figure size 576x144 with 2 Axes>"
      ]
     },
     "metadata": {
      "needs_background": "light"
     },
     "output_type": "display_data"
    },
    {
     "data": {
      "text/html": [
       "The best hyperparameter: 300"
      ],
      "text/plain": [
       "<IPython.core.display.HTML object>"
      ]
     },
     "metadata": {},
     "output_type": "display_data"
    },
    {
     "data": {
      "text/html": [
       "<div>\n",
       "<style scoped>\n",
       "    .dataframe tbody tr th:only-of-type {\n",
       "        vertical-align: middle;\n",
       "    }\n",
       "\n",
       "    .dataframe tbody tr th {\n",
       "        vertical-align: top;\n",
       "    }\n",
       "\n",
       "    .dataframe thead th {\n",
       "        text-align: right;\n",
       "    }\n",
       "</style>\n",
       "<table border=\"1\" class=\"dataframe\">\n",
       "  <thead>\n",
       "    <tr style=\"text-align: right;\">\n",
       "      <th></th>\n",
       "      <th>50</th>\n",
       "      <th>100</th>\n",
       "      <th>150</th>\n",
       "      <th>300</th>\n",
       "      <th>400</th>\n",
       "      <th>500</th>\n",
       "    </tr>\n",
       "  </thead>\n",
       "  <tbody>\n",
       "    <tr>\n",
       "      <th>max accuracy</th>\n",
       "      <td>65.7</td>\n",
       "      <td>66.8</td>\n",
       "      <td>66.9</td>\n",
       "      <td>69.4</td>\n",
       "      <td>68.4</td>\n",
       "      <td>68.7</td>\n",
       "    </tr>\n",
       "    <tr>\n",
       "      <th>no. of parameters</th>\n",
       "      <td>6058403</td>\n",
       "      <td>6131003</td>\n",
       "      <td>6218603</td>\n",
       "      <td>6571403</td>\n",
       "      <td>6881603</td>\n",
       "      <td>7251803</td>\n",
       "    </tr>\n",
       "  </tbody>\n",
       "</table>\n",
       "</div>"
      ],
      "text/plain": [
       "                        50      100      150      300      400      500\n",
       "max accuracy          65.7     66.8     66.9     69.4     68.4     68.7\n",
       "no. of parameters  6058403  6131003  6218603  6571403  6881603  7251803"
      ]
     },
     "metadata": {},
     "output_type": "display_data"
    }
   ],
   "source": [
    "result_reader('CNN_hid_size_', [str(x) for x in [50, 100, 150, 300, 400, 500]])"
   ]
  },
  {
   "cell_type": "markdown",
   "metadata": {},
   "source": [
    "### 4.2 RNN hidden size"
   ]
  },
  {
   "cell_type": "code",
   "execution_count": 12,
   "metadata": {
    "collapsed": true
   },
   "outputs": [
    {
     "name": "stdout",
     "output_type": "stream",
     "text": [
      "................................\n",
      "Epoch: [1/15], Validation Acc: 58.1\n",
      "................................\n",
      "Epoch: [2/15], Validation Acc: 60.9\n",
      "................................\n",
      "Epoch: [3/15], Validation Acc: 61.1\n",
      "................................\n",
      "Epoch: [4/15], Validation Acc: 62.4\n",
      "................................\n",
      "Epoch: [5/15], Validation Acc: 64.1\n",
      "................................\n",
      "Epoch: [6/15], Validation Acc: 63.4\n",
      "................................\n",
      "Epoch: [7/15], Validation Acc: 66.5\n",
      "................................\n",
      "Epoch: [8/15], Validation Acc: 65.7\n",
      "................................\n",
      "Epoch: [9/15], Validation Acc: 66.9\n",
      "................................\n",
      "Epoch: [10/15], Validation Acc: 65.8\n",
      "................................\n",
      "Epoch: [11/15], Validation Acc: 65.9\n",
      "................................\n",
      "Epoch: [12/15], Validation Acc: 67.7\n",
      "................................\n",
      "Epoch: [13/15], Validation Acc: 68.7\n",
      "................................\n",
      "Epoch: [14/15], Validation Acc: 66.6\n",
      "................................\n",
      "Epoch: [15/15], Validation Acc: 67.3\n",
      "................................\n",
      "Epoch: [1/15], Validation Acc: 57.8\n",
      "................................\n",
      "Epoch: [2/15], Validation Acc: 60.0\n",
      "................................\n",
      "Epoch: [3/15], Validation Acc: 64.7\n",
      "................................\n",
      "Epoch: [4/15], Validation Acc: 64.6\n",
      "................................\n",
      "Epoch: [5/15], Validation Acc: 67.9\n",
      "................................\n",
      "Epoch: [6/15], Validation Acc: 67.2\n",
      "................................\n",
      "Epoch: [7/15], Validation Acc: 66.9\n",
      "................................\n",
      "Epoch: [8/15], Validation Acc: 69.5\n",
      "................................\n",
      "Epoch: [9/15], Validation Acc: 69.2\n",
      "................................\n",
      "Epoch: [10/15], Validation Acc: 69.3\n",
      "................................\n",
      "Epoch: [11/15], Validation Acc: 69.5\n",
      "................................\n",
      "Epoch: [12/15], Validation Acc: 70.2\n",
      "................................\n",
      "Epoch: [13/15], Validation Acc: 69.3\n",
      "................................\n",
      "Epoch: [14/15], Validation Acc: 69.1\n",
      "................................\n",
      "Epoch: [15/15], Validation Acc: 67.6\n",
      "................................\n",
      "Epoch: [1/15], Validation Acc: 59.2\n",
      "................................\n",
      "Epoch: [2/15], Validation Acc: 63.2\n",
      "................................\n",
      "Epoch: [3/15], Validation Acc: 65.1\n",
      "................................\n",
      "Epoch: [4/15], Validation Acc: 66.5\n",
      "................................\n",
      "Epoch: [5/15], Validation Acc: 65.3\n",
      "................................\n",
      "Epoch: [6/15], Validation Acc: 68.3\n",
      "................................\n",
      "Epoch: [7/15], Validation Acc: 66.7\n",
      "................................\n",
      "Epoch: [8/15], Validation Acc: 67.2\n",
      "................................\n",
      "Epoch: [9/15], Validation Acc: 69.9\n",
      "................................\n",
      "Epoch: [10/15], Validation Acc: 68.8\n",
      "................................\n",
      "Epoch: [11/15], Validation Acc: 70.4\n",
      "................................\n",
      "Epoch: [12/15], Validation Acc: 67.6\n",
      "................................\n",
      "Epoch: [13/15], Validation Acc: 67.2\n",
      "................................\n",
      "Epoch: [14/15], Validation Acc: 68.9\n",
      "................................\n",
      "Epoch: [15/15], Validation Acc: 67.4\n",
      "................................\n",
      "Epoch: [1/15], Validation Acc: 57.9\n",
      "................................\n",
      "Epoch: [2/15], Validation Acc: 63.0\n",
      "................................\n",
      "Epoch: [3/15], Validation Acc: 65.1\n",
      "................................\n",
      "Epoch: [4/15], Validation Acc: 66.5\n",
      "................................\n",
      "Epoch: [5/15], Validation Acc: 67.1\n",
      "................................\n",
      "Epoch: [6/15], Validation Acc: 68.8\n",
      "................................\n",
      "Epoch: [7/15], Validation Acc: 68.3\n",
      "................................\n",
      "Epoch: [8/15], Validation Acc: 68.8\n",
      "................................\n",
      "Epoch: [9/15], Validation Acc: 69.6\n",
      "................................\n",
      "Epoch: [10/15], Validation Acc: 69.5\n",
      "................................\n",
      "Epoch: [11/15], Validation Acc: 70.2\n",
      "................................\n",
      "Epoch: [12/15], Validation Acc: 67.7\n",
      "................................\n",
      "Epoch: [13/15], Validation Acc: 68.1\n",
      "................................\n",
      "Epoch: [14/15], Validation Acc: 67.2\n",
      "................................\n",
      "Epoch: [15/15], Validation Acc: 65.4\n",
      "................................\n",
      "Epoch: [1/15], Validation Acc: 58.7\n",
      "................................\n",
      "Epoch: [2/15], Validation Acc: 64.0\n",
      "................................\n",
      "Epoch: [3/15], Validation Acc: 65.5\n",
      "................................\n",
      "Epoch: [4/15], Validation Acc: 66.5\n",
      "................................\n",
      "Epoch: [5/15], Validation Acc: 68.8\n",
      "................................\n",
      "Epoch: [6/15], Validation Acc: 69.3\n",
      "................................\n",
      "Epoch: [7/15], Validation Acc: 71.0\n",
      "................................\n",
      "Epoch: [8/15], Validation Acc: 70.0\n",
      "................................\n",
      "Epoch: [9/15], Validation Acc: 69.2\n",
      "................................\n",
      "Epoch: [10/15], Validation Acc: 70.8\n",
      "................................\n",
      "Epoch: [11/15], Validation Acc: 69.0\n",
      "................................\n",
      "Epoch: [12/15], Validation Acc: 68.8\n",
      "................................\n",
      "Epoch: [13/15], Validation Acc: 67.7\n",
      "................................\n",
      "Epoch: [14/15], Validation Acc: 67.4\n",
      "................................\n",
      "Epoch: [15/15], Validation Acc: 69.6\n",
      "................................\n",
      "Epoch: [1/15], Validation Acc: 58.3\n",
      "................................\n",
      "Epoch: [2/15], Validation Acc: 63.1\n",
      "................................\n",
      "Epoch: [3/15], Validation Acc: 64.5\n",
      "................................\n",
      "Epoch: [4/15], Validation Acc: 67.2\n",
      "................................\n",
      "Epoch: [5/15], Validation Acc: 67.3\n",
      "................................\n",
      "Epoch: [6/15], Validation Acc: 69.1\n",
      "................................\n",
      "Epoch: [7/15], Validation Acc: 70.9\n",
      "................................\n",
      "Epoch: [8/15], Validation Acc: 68.2\n",
      "................................\n",
      "Epoch: [9/15], Validation Acc: 68.2\n",
      "................................\n",
      "Epoch: [10/15], Validation Acc: 68.1\n",
      "................................\n",
      "Epoch: [11/15], Validation Acc: 66.8\n",
      "................................\n",
      "Epoch: [12/15], Validation Acc: 68.3\n",
      "................................\n",
      "Epoch: [13/15], Validation Acc: 68.0\n",
      "................................\n",
      "Epoch: [14/15], Validation Acc: 67.2\n",
      "................................\n",
      "Epoch: [15/15], Validation Acc: 66.9\n"
     ]
    }
   ],
   "source": [
    "for i_hid_size in [50, 100, 200, 400, 500, 600]:\n",
    "    run_name = 'GRU_hid_size_' + str(i_hid_size)\n",
    "    torch.backends.cudnn.benchmark = True\n",
    "    weight = torch.FloatTensor(lookup).cuda()\n",
    "    model = GRU(weight = weight, hidden_size=i_hid_size).cuda()\n",
    "    learning_rate = 0.0005\n",
    "    num_epochs = 15 # number epoch to train\n",
    "    # Criterion and Optimizer\n",
    "    criterion = torch.nn.CrossEntropyLoss()\n",
    "    optimizer = torch.optim.Adam(model.parameters(), lr=learning_rate)\n",
    "    # freeze\n",
    "    freeze_mat = torch.cat([torch.zeros([1, 300]), torch.ones([1, 300]), torch.zeros([20000, 300])]).cuda()\n",
    "    h = model.embedding.weight.register_hook(lambda grad: grad * freeze_mat)\n",
    "\n",
    "    # Plot prepare\n",
    "    it = 0\n",
    "    res = {\n",
    "        'it_list' : [],\n",
    "        'train_loss_list' : [],\n",
    "        'val_loss_list' : [],\n",
    "        'train_acc_list' : [],\n",
    "        'val_acc_list' : [] \n",
    "    }\n",
    "    # print(model.embedding.weight[:3, :5])\n",
    "    for epoch in range(num_epochs):\n",
    "        for i, (x, x_lengths, rev_order_x, y, y_lengths, rev_order_y, labels) in enumerate(snli_train_loader):\n",
    "            it += 1\n",
    "            model.train()\n",
    "            optimizer.zero_grad()\n",
    "            # Forward pass\n",
    "            outputs = model(x.cuda(), x_lengths.cuda(), rev_order_x.cuda(),\n",
    "                            y.cuda(), y_lengths.cuda(), rev_order_y.cuda())\n",
    "            loss = criterion(outputs, labels.cuda())\n",
    "            # Backward and optimize\n",
    "            loss.backward()\n",
    "            optimizer.step()\n",
    "            if i % 100 == 0:\n",
    "                print('.', end='')\n",
    "        # validate\n",
    "        train_acc, train_loss = test_model(snli_train_loader, model)\n",
    "        val_acc, val_loss = test_model(snli_val_loader, model)\n",
    "        print('\\nEpoch: [{}/{}], Validation Acc: {}'.format(\n",
    "            epoch+1, num_epochs, val_acc))\n",
    "        # Plot prepare\n",
    "        res['it_list'].append(it)\n",
    "        res['train_acc_list'].append(train_acc)\n",
    "        res['train_loss_list'].append(train_loss)\n",
    "        res['val_acc_list'].append(val_acc)\n",
    "        res['val_loss_list'].append(val_loss)\n",
    "    torch.save(model.state_dict(), '../model/'+run_name+'_para.pt')\n",
    "    pkl.dump(res, open('../model/'+run_name+'_res.pkl', 'wb'))"
   ]
  },
  {
   "cell_type": "code",
   "execution_count": 12,
   "metadata": {
    "scrolled": false
   },
   "outputs": [
    {
     "data": {
      "text/html": [
       "Model: GRU_hid_size_50; Validation accuracy: "
      ],
      "text/plain": [
       "<IPython.core.display.HTML object>"
      ]
     },
     "metadata": {},
     "output_type": "display_data"
    },
    {
     "data": {
      "text/html": [
       "Number of parameters: 6126603"
      ],
      "text/plain": [
       "<IPython.core.display.HTML object>"
      ]
     },
     "metadata": {},
     "output_type": "display_data"
    },
    {
     "data": {
      "text/html": [
       "<table><tr><td>Epoch 1</td><td>Epoch 2</td><td>Epoch 3</td><td>Epoch 4</td><td>Epoch 5</td><td>Epoch 6</td><td>Epoch 7</td><td>Epoch 8</td><td>Epoch 9</td><td>Epoch 10</td><td>Epoch 11</td><td>Epoch 12</td><td>Epoch 13</td><td>Epoch 14</td><td>Epoch 15</td></tr><tr><td>58.1</td><td>60.9</td><td>61.1</td><td>62.4</td><td>64.1</td><td>63.4</td><td>66.5</td><td>65.7</td><td>66.9</td><td>65.8</td><td>65.9</td><td>67.7</td><td>68.7</td><td>66.6</td><td>67.3</tr></table>"
      ],
      "text/plain": [
       "<IPython.core.display.HTML object>"
      ]
     },
     "metadata": {},
     "output_type": "display_data"
    },
    {
     "data": {
      "image/png": "[encoded data removed]",
      "text/plain": [
       "<Figure size 576x144 with 2 Axes>"
      ]
     },
     "metadata": {
      "needs_background": "light"
     },
     "output_type": "display_data"
    },
    {
     "data": {
      "text/html": [
       "Model: GRU_hid_size_100; Validation accuracy: "
      ],
      "text/plain": [
       "<IPython.core.display.HTML object>"
      ]
     },
     "metadata": {},
     "output_type": "display_data"
    },
    {
     "data": {
      "text/html": [
       "Number of parameters: 6282203"
      ],
      "text/plain": [
       "<IPython.core.display.HTML object>"
      ]
     },
     "metadata": {},
     "output_type": "display_data"
    },
    {
     "data": {
      "text/html": [
       "<table><tr><td>Epoch 1</td><td>Epoch 2</td><td>Epoch 3</td><td>Epoch 4</td><td>Epoch 5</td><td>Epoch 6</td><td>Epoch 7</td><td>Epoch 8</td><td>Epoch 9</td><td>Epoch 10</td><td>Epoch 11</td><td>Epoch 12</td><td>Epoch 13</td><td>Epoch 14</td><td>Epoch 15</td></tr><tr><td>57.8</td><td>60.0</td><td>64.7</td><td>64.6</td><td>67.9</td><td>67.2</td><td>66.9</td><td>69.5</td><td>69.2</td><td>69.3</td><td>69.5</td><td>70.2</td><td>69.3</td><td>69.1</td><td>67.6</tr></table>"
      ],
      "text/plain": [
       "<IPython.core.display.HTML object>"
      ]
     },
     "metadata": {},
     "output_type": "display_data"
    },
    {
     "data": {
      "image/png": "[encoded data removed]",
      "text/plain": [
       "<Figure size 576x144 with 2 Axes>"
      ]
     },
     "metadata": {
      "needs_background": "light"
     },
     "output_type": "display_data"
    },
    {
     "data": {
      "text/html": [
       "Model: GRU_hid_size_200; Validation accuracy: "
      ],
      "text/plain": [
       "<IPython.core.display.HTML object>"
      ]
     },
     "metadata": {},
     "output_type": "display_data"
    },
    {
     "data": {
      "text/html": [
       "Number of parameters: 6683403"
      ],
      "text/plain": [
       "<IPython.core.display.HTML object>"
      ]
     },
     "metadata": {},
     "output_type": "display_data"
    },
    {
     "data": {
      "text/html": [
       "<table><tr><td>Epoch 1</td><td>Epoch 2</td><td>Epoch 3</td><td>Epoch 4</td><td>Epoch 5</td><td>Epoch 6</td><td>Epoch 7</td><td>Epoch 8</td><td>Epoch 9</td><td>Epoch 10</td><td>Epoch 11</td><td>Epoch 12</td><td>Epoch 13</td><td>Epoch 14</td><td>Epoch 15</td></tr><tr><td>59.2</td><td>63.2</td><td>65.1</td><td>66.5</td><td>65.3</td><td>68.3</td><td>66.7</td><td>67.2</td><td>69.9</td><td>68.8</td><td>70.4</td><td>67.6</td><td>67.2</td><td>68.9</td><td>67.4</tr></table>"
      ],
      "text/plain": [
       "<IPython.core.display.HTML object>"
      ]
     },
     "metadata": {},
     "output_type": "display_data"
    },
    {
     "data": {
      "image/png": "[encoded data removed]",
      "text/plain": [
       "<Figure size 576x144 with 2 Axes>"
      ]
     },
     "metadata": {
      "needs_background": "light"
     },
     "output_type": "display_data"
    },
    {
     "data": {
      "text/html": [
       "Model: GRU_hid_size_400; Validation accuracy: "
      ],
      "text/plain": [
       "<IPython.core.display.HTML object>"
      ]
     },
     "metadata": {},
     "output_type": "display_data"
    },
    {
     "data": {
      "text/html": [
       "Number of parameters: 7845803"
      ],
      "text/plain": [
       "<IPython.core.display.HTML object>"
      ]
     },
     "metadata": {},
     "output_type": "display_data"
    },
    {
     "data": {
      "text/html": [
       "<table><tr><td>Epoch 1</td><td>Epoch 2</td><td>Epoch 3</td><td>Epoch 4</td><td>Epoch 5</td><td>Epoch 6</td><td>Epoch 7</td><td>Epoch 8</td><td>Epoch 9</td><td>Epoch 10</td><td>Epoch 11</td><td>Epoch 12</td><td>Epoch 13</td><td>Epoch 14</td><td>Epoch 15</td></tr><tr><td>57.9</td><td>63.0</td><td>65.1</td><td>66.5</td><td>67.1</td><td>68.8</td><td>68.3</td><td>68.8</td><td>69.6</td><td>69.5</td><td>70.2</td><td>67.7</td><td>68.1</td><td>67.2</td><td>65.4</tr></table>"
      ],
      "text/plain": [
       "<IPython.core.display.HTML object>"
      ]
     },
     "metadata": {},
     "output_type": "display_data"
    },
    {
     "data": {
      "image/png": "[encoded data removed]",
      "text/plain": [
       "<Figure size 576x144 with 2 Axes>"
      ]
     },
     "metadata": {
      "needs_background": "light"
     },
     "output_type": "display_data"
    },
    {
     "data": {
      "text/html": [
       "Model: GRU_hid_size_500; Validation accuracy: "
      ],
      "text/plain": [
       "<IPython.core.display.HTML object>"
      ]
     },
     "metadata": {},
     "output_type": "display_data"
    },
    {
     "data": {
      "text/html": [
       "Number of parameters: 8607003"
      ],
      "text/plain": [
       "<IPython.core.display.HTML object>"
      ]
     },
     "metadata": {},
     "output_type": "display_data"
    },
    {
     "data": {
      "text/html": [
       "<table><tr><td>Epoch 1</td><td>Epoch 2</td><td>Epoch 3</td><td>Epoch 4</td><td>Epoch 5</td><td>Epoch 6</td><td>Epoch 7</td><td>Epoch 8</td><td>Epoch 9</td><td>Epoch 10</td><td>Epoch 11</td><td>Epoch 12</td><td>Epoch 13</td><td>Epoch 14</td><td>Epoch 15</td></tr><tr><td>58.7</td><td>64.0</td><td>65.5</td><td>66.5</td><td>68.8</td><td>69.3</td><td>71.0</td><td>70.0</td><td>69.2</td><td>70.8</td><td>69.0</td><td>68.8</td><td>67.7</td><td>67.4</td><td>69.6</tr></table>"
      ],
      "text/plain": [
       "<IPython.core.display.HTML object>"
      ]
     },
     "metadata": {},
     "output_type": "display_data"
    },
    {
     "data": {
      "image/png": "[encoded data removed]",
      "text/plain": [
       "<Figure size 576x144 with 2 Axes>"
      ]
     },
     "metadata": {
      "needs_background": "light"
     },
     "output_type": "display_data"
    },
    {
     "data": {
      "text/html": [
       "Model: GRU_hid_size_600; Validation accuracy: "
      ],
      "text/plain": [
       "<IPython.core.display.HTML object>"
      ]
     },
     "metadata": {},
     "output_type": "display_data"
    },
    {
     "data": {
      "text/html": [
       "Number of parameters: 9488203"
      ],
      "text/plain": [
       "<IPython.core.display.HTML object>"
      ]
     },
     "metadata": {},
     "output_type": "display_data"
    },
    {
     "data": {
      "text/html": [
       "<table><tr><td>Epoch 1</td><td>Epoch 2</td><td>Epoch 3</td><td>Epoch 4</td><td>Epoch 5</td><td>Epoch 6</td><td>Epoch 7</td><td>Epoch 8</td><td>Epoch 9</td><td>Epoch 10</td><td>Epoch 11</td><td>Epoch 12</td><td>Epoch 13</td><td>Epoch 14</td><td>Epoch 15</td></tr><tr><td>58.3</td><td>63.1</td><td>64.5</td><td>67.2</td><td>67.3</td><td>69.1</td><td>70.9</td><td>68.2</td><td>68.2</td><td>68.1</td><td>66.8</td><td>68.3</td><td>68.0</td><td>67.2</td><td>66.9</tr></table>"
      ],
      "text/plain": [
       "<IPython.core.display.HTML object>"
      ]
     },
     "metadata": {},
     "output_type": "display_data"
    },
    {
     "data": {
      "image/png": "[encoded data removed]",
      "text/plain": [
       "<Figure size 576x144 with 2 Axes>"
      ]
     },
     "metadata": {
      "needs_background": "light"
     },
     "output_type": "display_data"
    },
    {
     "data": {
      "text/html": [
       "The best hyperparameter: 500"
      ],
      "text/plain": [
       "<IPython.core.display.HTML object>"
      ]
     },
     "metadata": {},
     "output_type": "display_data"
    },
    {
     "data": {
      "text/html": [
       "<div>\n",
       "<style scoped>\n",
       "    .dataframe tbody tr th:only-of-type {\n",
       "        vertical-align: middle;\n",
       "    }\n",
       "\n",
       "    .dataframe tbody tr th {\n",
       "        vertical-align: top;\n",
       "    }\n",
       "\n",
       "    .dataframe thead th {\n",
       "        text-align: right;\n",
       "    }\n",
       "</style>\n",
       "<table border=\"1\" class=\"dataframe\">\n",
       "  <thead>\n",
       "    <tr style=\"text-align: right;\">\n",
       "      <th></th>\n",
       "      <th>50</th>\n",
       "      <th>100</th>\n",
       "      <th>200</th>\n",
       "      <th>400</th>\n",
       "      <th>500</th>\n",
       "      <th>600</th>\n",
       "    </tr>\n",
       "  </thead>\n",
       "  <tbody>\n",
       "    <tr>\n",
       "      <th>max accuracy</th>\n",
       "      <td>68.7</td>\n",
       "      <td>70.2</td>\n",
       "      <td>70.4</td>\n",
       "      <td>70.2</td>\n",
       "      <td>71</td>\n",
       "      <td>70.9</td>\n",
       "    </tr>\n",
       "    <tr>\n",
       "      <th>no. of parameters</th>\n",
       "      <td>6126603</td>\n",
       "      <td>6282203</td>\n",
       "      <td>6683403</td>\n",
       "      <td>7845803</td>\n",
       "      <td>8607003</td>\n",
       "      <td>9488203</td>\n",
       "    </tr>\n",
       "  </tbody>\n",
       "</table>\n",
       "</div>"
      ],
      "text/plain": [
       "                        50      100      200      400      500      600\n",
       "max accuracy          68.7     70.2     70.4     70.2       71     70.9\n",
       "no. of parameters  6126603  6282203  6683403  7845803  8607003  9488203"
      ]
     },
     "metadata": {},
     "output_type": "display_data"
    }
   ],
   "source": [
    "result_reader('GRU_hid_size_' , [str(x) for x in [50, 100, 200, 400, 500, 600]])"
   ]
  },
  {
   "cell_type": "markdown",
   "metadata": {},
   "source": [
    "### 4.3 CNN Kernel Size"
   ]
  },
  {
   "cell_type": "code",
   "execution_count": 11,
   "metadata": {},
   "outputs": [],
   "source": [
    "class CNN_kernel(nn.Module):\n",
    "    def __init__(self, weight, hidden_size, kernel_size):\n",
    "        '''\n",
    "        CNN_kernel Model\n",
    "        '''\n",
    "        super(CNN_kernel, self).__init__()\n",
    "        self.hidden_size = hidden_size\n",
    "        self.kernel_size = kernel_size\n",
    "        self.embedding = nn.Embedding.from_pretrained(weight, freeze = False)\n",
    "        emb_size = weight.shape[1]\n",
    "        self.conv1 = nn.Conv1d(emb_size, hidden_size, kernel_size=kernel_size, padding=int((kernel_size-1)/2)) \n",
    "        self.conv2 = nn.Conv1d(hidden_size, hidden_size, kernel_size=kernel_size, padding=int((kernel_size-1)/2))\n",
    "        self.linear1 = nn.Linear(hidden_size * 2 , out_features=50)\n",
    "        self.linear2 = nn.Linear(50, out_features=3)\n",
    "        \n",
    "    def forward(self, x, x_lengths, rev_order_x,  y, y_lengths, rev_order_y):\n",
    "        batch_size, seq_len = x.size()\n",
    "        \n",
    "        x = x[rev_order_x]\n",
    "        y = y[rev_order_y]\n",
    "        \n",
    "        embed_x = self.embedding(x)\n",
    "        embed_y = self.embedding(y)\n",
    "                \n",
    "        hidden_x = self.conv1(embed_x.transpose(1, 2)).transpose(1, 2) \n",
    "        hidden_x = F.relu(hidden_x)\n",
    "        \n",
    "        hidden_x = self.conv2(hidden_x.transpose(1, 2)).transpose(1, 2) \n",
    "        hidden_x = F.relu(hidden_x)\n",
    "        \n",
    "        hidden_x = torch.max(hidden_x, dim=1)[0]\n",
    "                \n",
    "        # The same for y\n",
    "        \n",
    "        hidden_y = self.conv1(embed_y.transpose(1, 2)).transpose(1, 2) \n",
    "        hidden_y = F.relu(hidden_y)\n",
    "                \n",
    "        hidden_y = self.conv2(hidden_y.transpose(1, 2)).transpose(1, 2) \n",
    "        hidden_y = F.relu(hidden_y)\n",
    "        \n",
    "        hidden_y = torch.max(hidden_y, dim=1)[0]\n",
    "                \n",
    "        # Concat x and y before linear transformation\n",
    "        output = torch.cat([hidden_x, hidden_y], dim = 1) \n",
    "        \n",
    "        output = self.linear1(output)\n",
    "        output = F.softmax(output, dim=0)\n",
    "        res = self.linear2(output)\n",
    "        \n",
    "        return res"
   ]
  },
  {
   "cell_type": "code",
   "execution_count": 12,
   "metadata": {
    "scrolled": false
   },
   "outputs": [
    {
     "name": "stdout",
     "output_type": "stream",
     "text": [
      "................................\n",
      "Epoch: [1/15], Validation Acc: 57.0\n",
      "................................\n",
      "Epoch: [2/15], Validation Acc: 62.8\n",
      "................................\n",
      "Epoch: [3/15], Validation Acc: 65.0\n",
      "................................\n",
      "Epoch: [4/15], Validation Acc: 64.6\n",
      "................................\n",
      "Epoch: [5/15], Validation Acc: 66.5\n",
      "................................\n",
      "Epoch: [6/15], Validation Acc: 66.0\n",
      "................................\n",
      "Epoch: [7/15], Validation Acc: 66.4\n",
      "................................\n",
      "Epoch: [8/15], Validation Acc: 67.3\n",
      "................................\n",
      "Epoch: [9/15], Validation Acc: 67.2\n",
      "................................\n",
      "Epoch: [10/15], Validation Acc: 67.0\n",
      "................................\n",
      "Epoch: [11/15], Validation Acc: 66.0\n",
      "................................\n",
      "Epoch: [12/15], Validation Acc: 64.8\n",
      "................................\n",
      "Epoch: [13/15], Validation Acc: 64.3\n",
      "................................\n",
      "Epoch: [14/15], Validation Acc: 65.5\n",
      "................................\n",
      "Epoch: [15/15], Validation Acc: 64.5\n",
      "................................\n",
      "Epoch: [1/15], Validation Acc: 57.5\n",
      "................................\n",
      "Epoch: [2/15], Validation Acc: 62.9\n",
      "................................\n",
      "Epoch: [3/15], Validation Acc: 63.1\n",
      "................................\n",
      "Epoch: [4/15], Validation Acc: 64.8\n",
      "................................\n",
      "Epoch: [5/15], Validation Acc: 65.4\n",
      "................................\n",
      "Epoch: [6/15], Validation Acc: 66.1\n",
      "................................\n",
      "Epoch: [7/15], Validation Acc: 67.4\n",
      "................................\n",
      "Epoch: [8/15], Validation Acc: 66.5\n",
      "................................\n",
      "Epoch: [9/15], Validation Acc: 65.6\n",
      "................................\n",
      "Epoch: [10/15], Validation Acc: 65.0\n",
      "................................\n",
      "Epoch: [11/15], Validation Acc: 65.2\n",
      "................................\n",
      "Epoch: [12/15], Validation Acc: 66.6\n",
      "................................\n",
      "Epoch: [13/15], Validation Acc: 65.6\n",
      "................................\n",
      "Epoch: [14/15], Validation Acc: 64.0\n",
      "................................\n",
      "Epoch: [15/15], Validation Acc: 65.0\n",
      "................................\n",
      "Epoch: [1/15], Validation Acc: 57.7\n",
      "................................\n",
      "Epoch: [2/15], Validation Acc: 62.8\n",
      "................................\n",
      "Epoch: [3/15], Validation Acc: 63.7\n",
      "................................\n",
      "Epoch: [4/15], Validation Acc: 64.3\n",
      "................................\n",
      "Epoch: [5/15], Validation Acc: 65.4\n",
      "................................\n",
      "Epoch: [6/15], Validation Acc: 66.5\n",
      "................................\n",
      "Epoch: [7/15], Validation Acc: 66.5\n",
      "................................\n",
      "Epoch: [8/15], Validation Acc: 64.2\n",
      "................................\n",
      "Epoch: [9/15], Validation Acc: 64.8\n",
      "................................\n",
      "Epoch: [10/15], Validation Acc: 64.3\n",
      "................................\n",
      "Epoch: [11/15], Validation Acc: 63.2\n",
      "................................\n",
      "Epoch: [12/15], Validation Acc: 65.7\n",
      "................................\n",
      "Epoch: [13/15], Validation Acc: 65.2\n",
      "................................\n",
      "Epoch: [14/15], Validation Acc: 63.7\n",
      "................................\n",
      "Epoch: [15/15], Validation Acc: 64.6\n",
      "................................\n",
      "Epoch: [1/15], Validation Acc: 60.9\n",
      "................................\n",
      "Epoch: [2/15], Validation Acc: 63.8\n",
      "................................\n",
      "Epoch: [3/15], Validation Acc: 63.4\n",
      "................................\n",
      "Epoch: [4/15], Validation Acc: 65.6\n",
      "................................\n",
      "Epoch: [5/15], Validation Acc: 64.8\n",
      "................................\n",
      "Epoch: [6/15], Validation Acc: 65.8\n",
      "................................\n",
      "Epoch: [7/15], Validation Acc: 65.5\n",
      "................................\n",
      "Epoch: [8/15], Validation Acc: 63.4\n",
      "................................\n",
      "Epoch: [9/15], Validation Acc: 64.5\n",
      "................................\n",
      "Epoch: [10/15], Validation Acc: 63.2\n",
      "................................\n",
      "Epoch: [11/15], Validation Acc: 63.8\n",
      "................................\n",
      "Epoch: [12/15], Validation Acc: 62.2\n",
      "................................\n",
      "Epoch: [13/15], Validation Acc: 63.9\n",
      "................................\n",
      "Epoch: [14/15], Validation Acc: 62.7\n",
      "................................\n",
      "Epoch: [15/15], Validation Acc: 64.6\n"
     ]
    }
   ],
   "source": [
    "for i_ker_size in [3, 5, 7, 9]:\n",
    "    run_name = 'CNN_ker_size_' + str(i_ker_size)\n",
    "    torch.backends.cudnn.benchmark = True\n",
    "    weight = torch.FloatTensor(lookup).cuda()\n",
    "    model = CNN_kernel(weight = weight, hidden_size=300, kernel_size = i_ker_size).cuda()\n",
    "    learning_rate = 0.0002\n",
    "    num_epochs = 15\n",
    "    criterion = torch.nn.CrossEntropyLoss()\n",
    "    optimizer = torch.optim.Adam(model.parameters(), lr=learning_rate)\n",
    "    freeze_mat = torch.cat([torch.zeros([1, 300]), torch.ones([1, 300]), torch.zeros([20000, 300])]).cuda()\n",
    "    h = model.embedding.weight.register_hook(lambda grad: grad * freeze_mat)\n",
    "    it = 0\n",
    "    res = {\n",
    "        'it_list' : [],\n",
    "        'train_loss_list' : [],\n",
    "        'val_loss_list' : [],\n",
    "        'train_acc_list' : [],\n",
    "        'val_acc_list' : [] \n",
    "    }\n",
    "    for epoch in range(num_epochs):\n",
    "        train_acc = 0\n",
    "        train_loss = 0\n",
    "        for i, (x, x_lengths, rev_order_x, y, y_lengths, rev_order_y, labels) in enumerate(snli_train_loader):\n",
    "            it += 1\n",
    "            model.train()\n",
    "            optimizer.zero_grad()\n",
    "            outputs = model(x.cuda(), x_lengths.cuda(), rev_order_x.cuda(),\n",
    "                            y.cuda(), y_lengths.cuda(), rev_order_y.cuda())\n",
    "            loss = criterion(outputs, labels.cuda())\n",
    "            loss.backward()\n",
    "            optimizer.step()\n",
    "            if i % 100 == 0:\n",
    "                print('.', end='')\n",
    "        # validate\n",
    "        train_acc, train_loss = test_model(snli_train_loader, model)\n",
    "        val_acc, val_loss = test_model(snli_val_loader, model)\n",
    "        print('\\nEpoch: [{}/{}], Validation Acc: {}'.format(\n",
    "            epoch+1, num_epochs, val_acc))\n",
    "        # Plot prepare\n",
    "        res['it_list'].append(it)\n",
    "        res['train_acc_list'].append(train_acc)\n",
    "        res['train_loss_list'].append(train_loss)\n",
    "        res['val_acc_list'].append(val_acc)\n",
    "        res['val_loss_list'].append(val_loss)\n",
    "    # after training, save the model \n",
    "    torch.save(model.state_dict(), '../model/'+run_name+'_para.pt')\n",
    "    pkl.dump(res, open('../model/'+run_name+'_res.pkl', 'wb'))"
   ]
  },
  {
   "cell_type": "code",
   "execution_count": 82,
   "metadata": {
    "scrolled": false
   },
   "outputs": [
    {
     "data": {
      "text/html": [
       "Model: CNN_ker_size_3; Validation accuracy: "
      ],
      "text/plain": [
       "<IPython.core.display.HTML object>"
      ]
     },
     "metadata": {},
     "output_type": "display_data"
    },
    {
     "data": {
      "text/html": [
       "Number of parameters: 6571403"
      ],
      "text/plain": [
       "<IPython.core.display.HTML object>"
      ]
     },
     "metadata": {},
     "output_type": "display_data"
    },
    {
     "data": {
      "text/html": [
       "<table><tr><td>Epoch 1</td><td>Epoch 2</td><td>Epoch 3</td><td>Epoch 4</td><td>Epoch 5</td><td>Epoch 6</td><td>Epoch 7</td><td>Epoch 8</td><td>Epoch 9</td><td>Epoch 10</td><td>Epoch 11</td><td>Epoch 12</td><td>Epoch 13</td><td>Epoch 14</td><td>Epoch 15</td></tr><tr><td>57.0</td><td>62.8</td><td>65.0</td><td>64.6</td><td>66.5</td><td>66.0</td><td>66.4</td><td>67.3</td><td>67.2</td><td>67.0</td><td>66.0</td><td>64.8</td><td>64.3</td><td>65.5</td><td>64.5</tr></table>"
      ],
      "text/plain": [
       "<IPython.core.display.HTML object>"
      ]
     },
     "metadata": {},
     "output_type": "display_data"
    },
    {
     "data": {
      "image/png": "[encoded data removed]",
      "text/plain": [
       "<Figure size 576x144 with 2 Axes>"
      ]
     },
     "metadata": {
      "needs_background": "light"
     },
     "output_type": "display_data"
    },
    {
     "data": {
      "text/html": [
       "Model: CNN_ker_size_5; Validation accuracy: "
      ],
      "text/plain": [
       "<IPython.core.display.HTML object>"
      ]
     },
     "metadata": {},
     "output_type": "display_data"
    },
    {
     "data": {
      "text/html": [
       "Number of parameters: 6931403"
      ],
      "text/plain": [
       "<IPython.core.display.HTML object>"
      ]
     },
     "metadata": {},
     "output_type": "display_data"
    },
    {
     "data": {
      "text/html": [
       "<table><tr><td>Epoch 1</td><td>Epoch 2</td><td>Epoch 3</td><td>Epoch 4</td><td>Epoch 5</td><td>Epoch 6</td><td>Epoch 7</td><td>Epoch 8</td><td>Epoch 9</td><td>Epoch 10</td><td>Epoch 11</td><td>Epoch 12</td><td>Epoch 13</td><td>Epoch 14</td><td>Epoch 15</td></tr><tr><td>57.5</td><td>62.9</td><td>63.1</td><td>64.8</td><td>65.4</td><td>66.1</td><td>67.4</td><td>66.5</td><td>65.6</td><td>65.0</td><td>65.2</td><td>66.6</td><td>65.6</td><td>64.0</td><td>65.0</tr></table>"
      ],
      "text/plain": [
       "<IPython.core.display.HTML object>"
      ]
     },
     "metadata": {},
     "output_type": "display_data"
    },
    {
     "data": {
      "image/png": "[encoded data removed]",
      "text/plain": [
       "<Figure size 576x144 with 2 Axes>"
      ]
     },
     "metadata": {
      "needs_background": "light"
     },
     "output_type": "display_data"
    },
    {
     "data": {
      "text/html": [
       "Model: CNN_ker_size_7; Validation accuracy: "
      ],
      "text/plain": [
       "<IPython.core.display.HTML object>"
      ]
     },
     "metadata": {},
     "output_type": "display_data"
    },
    {
     "data": {
      "text/html": [
       "Number of parameters: 7291403"
      ],
      "text/plain": [
       "<IPython.core.display.HTML object>"
      ]
     },
     "metadata": {},
     "output_type": "display_data"
    },
    {
     "data": {
      "text/html": [
       "<table><tr><td>Epoch 1</td><td>Epoch 2</td><td>Epoch 3</td><td>Epoch 4</td><td>Epoch 5</td><td>Epoch 6</td><td>Epoch 7</td><td>Epoch 8</td><td>Epoch 9</td><td>Epoch 10</td><td>Epoch 11</td><td>Epoch 12</td><td>Epoch 13</td><td>Epoch 14</td><td>Epoch 15</td></tr><tr><td>57.7</td><td>62.8</td><td>63.7</td><td>64.3</td><td>65.4</td><td>66.5</td><td>66.5</td><td>64.2</td><td>64.8</td><td>64.3</td><td>63.2</td><td>65.7</td><td>65.2</td><td>63.7</td><td>64.6</tr></table>"
      ],
      "text/plain": [
       "<IPython.core.display.HTML object>"
      ]
     },
     "metadata": {},
     "output_type": "display_data"
    },
    {
     "data": {
      "image/png": "[encoded data removed]",
      "text/plain": [
       "<Figure size 576x144 with 2 Axes>"
      ]
     },
     "metadata": {
      "needs_background": "light"
     },
     "output_type": "display_data"
    },
    {
     "data": {
      "text/html": [
       "Model: CNN_ker_size_9; Validation accuracy: "
      ],
      "text/plain": [
       "<IPython.core.display.HTML object>"
      ]
     },
     "metadata": {},
     "output_type": "display_data"
    },
    {
     "data": {
      "text/html": [
       "Number of parameters: 7651403"
      ],
      "text/plain": [
       "<IPython.core.display.HTML object>"
      ]
     },
     "metadata": {},
     "output_type": "display_data"
    },
    {
     "data": {
      "text/html": [
       "<table><tr><td>Epoch 1</td><td>Epoch 2</td><td>Epoch 3</td><td>Epoch 4</td><td>Epoch 5</td><td>Epoch 6</td><td>Epoch 7</td><td>Epoch 8</td><td>Epoch 9</td><td>Epoch 10</td><td>Epoch 11</td><td>Epoch 12</td><td>Epoch 13</td><td>Epoch 14</td><td>Epoch 15</td></tr><tr><td>60.9</td><td>63.8</td><td>63.4</td><td>65.6</td><td>64.8</td><td>65.8</td><td>65.5</td><td>63.4</td><td>64.5</td><td>63.2</td><td>63.8</td><td>62.2</td><td>63.9</td><td>62.7</td><td>64.6</tr></table>"
      ],
      "text/plain": [
       "<IPython.core.display.HTML object>"
      ]
     },
     "metadata": {},
     "output_type": "display_data"
    },
    {
     "data": {
      "image/png": "[encoded data removed]",
      "text/plain": [
       "<Figure size 576x144 with 2 Axes>"
      ]
     },
     "metadata": {
      "needs_background": "light"
     },
     "output_type": "display_data"
    },
    {
     "data": {
      "text/html": [
       "The best hyperparameter: 5"
      ],
      "text/plain": [
       "<IPython.core.display.HTML object>"
      ]
     },
     "metadata": {},
     "output_type": "display_data"
    },
    {
     "data": {
      "text/html": [
       "<div>\n",
       "<style scoped>\n",
       "    .dataframe tbody tr th:only-of-type {\n",
       "        vertical-align: middle;\n",
       "    }\n",
       "\n",
       "    .dataframe tbody tr th {\n",
       "        vertical-align: top;\n",
       "    }\n",
       "\n",
       "    .dataframe thead th {\n",
       "        text-align: right;\n",
       "    }\n",
       "</style>\n",
       "<table border=\"1\" class=\"dataframe\">\n",
       "  <thead>\n",
       "    <tr style=\"text-align: right;\">\n",
       "      <th></th>\n",
       "      <th>3</th>\n",
       "      <th>5</th>\n",
       "      <th>7</th>\n",
       "      <th>9</th>\n",
       "    </tr>\n",
       "  </thead>\n",
       "  <tbody>\n",
       "    <tr>\n",
       "      <th>max accuracy</th>\n",
       "      <td>67.3</td>\n",
       "      <td>67.4</td>\n",
       "      <td>66.5</td>\n",
       "      <td>65.8</td>\n",
       "    </tr>\n",
       "    <tr>\n",
       "      <th>no. of parameters</th>\n",
       "      <td>6571403</td>\n",
       "      <td>6931403</td>\n",
       "      <td>7291403</td>\n",
       "      <td>7651403</td>\n",
       "    </tr>\n",
       "  </tbody>\n",
       "</table>\n",
       "</div>"
      ],
      "text/plain": [
       "                         3        5        7        9\n",
       "max accuracy          67.3     67.4     66.5     65.8\n",
       "no. of parameters  6571403  6931403  7291403  7651403"
      ]
     },
     "metadata": {},
     "output_type": "display_data"
    }
   ],
   "source": [
    "result_reader('CNN_ker_size_', [str(x) for x in [3, 5, 7, 9] ])"
   ]
  },
  {
   "cell_type": "markdown",
   "metadata": {},
   "source": [
    "### 4.4 Interacting the two encoded sentences: CNN"
   ]
  },
  {
   "cell_type": "code",
   "execution_count": 83,
   "metadata": {},
   "outputs": [],
   "source": [
    "class CNN_inter(nn.Module):\n",
    "    def __init__(self, weight, hidden_size, inter):\n",
    "        '''\n",
    "        CNN_inter Model\n",
    "        '''\n",
    "        super(CNN_inter, self).__init__()\n",
    "        self.hidden_size = hidden_size\n",
    "        self.inter = inter\n",
    "        self.embedding = nn.Embedding.from_pretrained(weight, freeze = False)\n",
    "        emb_size = weight.shape[1]\n",
    "        self.conv1 = nn.Conv1d(emb_size, hidden_size, kernel_size=5, padding=2) \n",
    "        self.conv2 = nn.Conv1d(hidden_size, hidden_size, kernel_size=5, padding=2)\n",
    "        \n",
    "        linear_input = hidden_size * 2 if inter == 'concat' else hidden_size\n",
    "        self.linear1 = nn.Linear(linear_input , out_features=50)\n",
    "        self.linear2 = nn.Linear(50, out_features=3)\n",
    "        \n",
    "    def forward(self, x, x_lengths, rev_order_x,  y, y_lengths, rev_order_y):\n",
    "        batch_size, seq_len = x.size()\n",
    "        \n",
    "        x = x[rev_order_x]\n",
    "        y = y[rev_order_y]\n",
    "        \n",
    "        embed_x = self.embedding(x)\n",
    "        embed_y = self.embedding(y)\n",
    "                \n",
    "        hidden_x = self.conv1(embed_x.transpose(1, 2)).transpose(1, 2) \n",
    "        hidden_x = F.relu(hidden_x)\n",
    "        \n",
    "        hidden_x = self.conv2(hidden_x.transpose(1, 2)).transpose(1, 2) \n",
    "        hidden_x = F.relu(hidden_x)\n",
    "        \n",
    "        hidden_x = torch.max(hidden_x, dim=1)[0]\n",
    "                \n",
    "        # The same for y\n",
    "        \n",
    "        hidden_y = self.conv1(embed_y.transpose(1, 2)).transpose(1, 2) \n",
    "        hidden_y = F.relu(hidden_y)\n",
    "                \n",
    "        hidden_y = self.conv2(hidden_y.transpose(1, 2)).transpose(1, 2) \n",
    "        hidden_y = F.relu(hidden_y)\n",
    "        \n",
    "        hidden_y = torch.max(hidden_y, dim=1)[0]\n",
    "                \n",
    "        # Interact x and y before linear transformation\n",
    "        if self.inter == 'concat':\n",
    "            output = torch.cat([hidden_x, hidden_y], dim = 1)\n",
    "        elif self.inter == 'ewMul':\n",
    "            output = hidden_x.mul(hidden_y)\n",
    "        elif self.inter == 'ewDistance':\n",
    "            output = hidden_x.sub(hidden_y).abs()\n",
    "        \n",
    "        output = self.linear1(output)\n",
    "        output = F.softmax(output, dim=0)\n",
    "        res = self.linear2(output)\n",
    "        \n",
    "        return res"
   ]
  },
  {
   "cell_type": "code",
   "execution_count": 84,
   "metadata": {},
   "outputs": [
    {
     "name": "stdout",
     "output_type": "stream",
     "text": [
      "................................\n",
      "Epoch: [1/15], Validation Acc: 58.5\n",
      "................................\n",
      "Epoch: [2/15], Validation Acc: 61.9\n",
      "................................\n",
      "Epoch: [3/15], Validation Acc: 63.1\n",
      "................................\n",
      "Epoch: [4/15], Validation Acc: 66.7\n",
      "................................\n",
      "Epoch: [5/15], Validation Acc: 66.9\n",
      "................................\n",
      "Epoch: [6/15], Validation Acc: 67.1\n",
      "................................\n",
      "Epoch: [7/15], Validation Acc: 65.6\n",
      "................................\n",
      "Epoch: [8/15], Validation Acc: 65.1\n",
      "................................\n",
      "Epoch: [9/15], Validation Acc: 66.9\n",
      "................................\n",
      "Epoch: [10/15], Validation Acc: 65.0\n",
      "................................\n",
      "Epoch: [11/15], Validation Acc: 67.1\n",
      "................................\n",
      "Epoch: [12/15], Validation Acc: 66.4\n",
      "................................\n",
      "Epoch: [13/15], Validation Acc: 64.4\n",
      "................................\n",
      "Epoch: [14/15], Validation Acc: 65.0\n",
      "................................\n",
      "Epoch: [15/15], Validation Acc: 65.2\n",
      "................................\n",
      "Epoch: [1/15], Validation Acc: 53.3\n",
      "................................\n",
      "Epoch: [2/15], Validation Acc: 56.2\n",
      "................................\n",
      "Epoch: [3/15], Validation Acc: 59.7\n",
      "................................\n",
      "Epoch: [4/15], Validation Acc: 60.6\n",
      "................................\n",
      "Epoch: [5/15], Validation Acc: 63.0\n",
      "................................\n",
      "Epoch: [6/15], Validation Acc: 62.0\n",
      "................................\n",
      "Epoch: [7/15], Validation Acc: 63.3\n",
      "................................\n",
      "Epoch: [8/15], Validation Acc: 61.6\n",
      "................................\n",
      "Epoch: [9/15], Validation Acc: 61.9\n",
      "................................\n",
      "Epoch: [10/15], Validation Acc: 62.2\n",
      "................................\n",
      "Epoch: [11/15], Validation Acc: 62.9\n",
      "................................\n",
      "Epoch: [12/15], Validation Acc: 61.5\n",
      "................................\n",
      "Epoch: [13/15], Validation Acc: 60.7\n",
      "................................\n",
      "Epoch: [14/15], Validation Acc: 59.8\n",
      "................................\n",
      "Epoch: [15/15], Validation Acc: 60.5\n",
      "................................\n",
      "Epoch: [1/15], Validation Acc: 57.6\n",
      "................................\n",
      "Epoch: [2/15], Validation Acc: 61.3\n",
      "................................\n",
      "Epoch: [3/15], Validation Acc: 63.3\n",
      "................................\n",
      "Epoch: [4/15], Validation Acc: 65.6\n",
      "................................\n",
      "Epoch: [5/15], Validation Acc: 65.6\n",
      "................................\n",
      "Epoch: [6/15], Validation Acc: 67.3\n",
      "................................\n",
      "Epoch: [7/15], Validation Acc: 65.9\n",
      "................................\n",
      "Epoch: [8/15], Validation Acc: 67.9\n",
      "................................\n",
      "Epoch: [9/15], Validation Acc: 65.6\n",
      "................................\n",
      "Epoch: [10/15], Validation Acc: 65.7\n",
      "................................\n",
      "Epoch: [11/15], Validation Acc: 67.5\n",
      "................................\n",
      "Epoch: [12/15], Validation Acc: 65.7\n",
      "................................\n",
      "Epoch: [13/15], Validation Acc: 65.3\n",
      "................................\n",
      "Epoch: [14/15], Validation Acc: 65.2\n",
      "................................\n",
      "Epoch: [15/15], Validation Acc: 65.7\n"
     ]
    }
   ],
   "source": [
    "for i_inter in ['concat', 'ewMul', 'ewDistance']:\n",
    "    run_name = 'CNN_inter_' + str(i_inter)\n",
    "    torch.backends.cudnn.benchmark = True\n",
    "    weight = torch.FloatTensor(lookup).cuda()\n",
    "    model = CNN_inter(weight = weight, hidden_size=300, inter=i_inter).cuda()\n",
    "    learning_rate = 0.0002\n",
    "    num_epochs = 15\n",
    "    criterion = torch.nn.CrossEntropyLoss()\n",
    "    optimizer = torch.optim.Adam(model.parameters(), lr=learning_rate)\n",
    "    freeze_mat = torch.cat([torch.zeros([1, 300]), torch.ones([1, 300]), torch.zeros([20000, 300])]).cuda()\n",
    "    h = model.embedding.weight.register_hook(lambda grad: grad * freeze_mat)\n",
    "    it = 0\n",
    "    res = {\n",
    "        'it_list' : [],\n",
    "        'train_loss_list' : [],\n",
    "        'val_loss_list' : [],\n",
    "        'train_acc_list' : [],\n",
    "        'val_acc_list' : [] \n",
    "    }\n",
    "    for epoch in range(num_epochs):\n",
    "        train_acc = 0\n",
    "        train_loss = 0\n",
    "        for i, (x, x_lengths, rev_order_x, y, y_lengths, rev_order_y, labels) in enumerate(snli_train_loader):\n",
    "            it += 1\n",
    "            model.train()\n",
    "            optimizer.zero_grad()\n",
    "            outputs = model(x.cuda(), x_lengths.cuda(), rev_order_x.cuda(),\n",
    "                            y.cuda(), y_lengths.cuda(), rev_order_y.cuda())\n",
    "            loss = criterion(outputs, labels.cuda())\n",
    "            loss.backward()\n",
    "            optimizer.step()\n",
    "            if i % 100 == 0:\n",
    "                print('.', end='')\n",
    "        # validate\n",
    "        train_acc, train_loss = test_model(snli_train_loader, model)\n",
    "        val_acc, val_loss = test_model(snli_val_loader, model)\n",
    "        print('\\nEpoch: [{}/{}], Validation Acc: {}'.format(\n",
    "            epoch+1, num_epochs, val_acc))\n",
    "        # Plot prepare\n",
    "        res['it_list'].append(it)\n",
    "        res['train_acc_list'].append(train_acc)\n",
    "        res['train_loss_list'].append(train_loss)\n",
    "        res['val_acc_list'].append(val_acc)\n",
    "        res['val_loss_list'].append(val_loss)\n",
    "    # after training, save the model \n",
    "    torch.save(model.state_dict(), '../model/'+run_name+'_para.pt')\n",
    "    pkl.dump(res, open('../model/'+run_name+'_res.pkl', 'wb'))"
   ]
  },
  {
   "cell_type": "code",
   "execution_count": 86,
   "metadata": {},
   "outputs": [
    {
     "data": {
      "text/html": [
       "Model: CNN_inter_concat; Validation accuracy: "
      ],
      "text/plain": [
       "<IPython.core.display.HTML object>"
      ]
     },
     "metadata": {},
     "output_type": "display_data"
    },
    {
     "data": {
      "text/html": [
       "Number of parameters: 6931403"
      ],
      "text/plain": [
       "<IPython.core.display.HTML object>"
      ]
     },
     "metadata": {},
     "output_type": "display_data"
    },
    {
     "data": {
      "text/html": [
       "<table><tr><td>Epoch 1</td><td>Epoch 2</td><td>Epoch 3</td><td>Epoch 4</td><td>Epoch 5</td><td>Epoch 6</td><td>Epoch 7</td><td>Epoch 8</td><td>Epoch 9</td><td>Epoch 10</td><td>Epoch 11</td><td>Epoch 12</td><td>Epoch 13</td><td>Epoch 14</td><td>Epoch 15</td></tr><tr><td>58.5</td><td>61.9</td><td>63.1</td><td>66.7</td><td>66.9</td><td>67.1</td><td>65.6</td><td>65.1</td><td>66.9</td><td>65.0</td><td>67.1</td><td>66.4</td><td>64.4</td><td>65.0</td><td>65.2</tr></table>"
      ],
      "text/plain": [
       "<IPython.core.display.HTML object>"
      ]
     },
     "metadata": {},
     "output_type": "display_data"
    },
    {
     "data": {
      "image/png": "[encoded data removed]",
      "text/plain": [
       "<Figure size 576x144 with 2 Axes>"
      ]
     },
     "metadata": {
      "needs_background": "light"
     },
     "output_type": "display_data"
    },
    {
     "data": {
      "text/html": [
       "Model: CNN_inter_ewMul; Validation accuracy: "
      ],
      "text/plain": [
       "<IPython.core.display.HTML object>"
      ]
     },
     "metadata": {},
     "output_type": "display_data"
    },
    {
     "data": {
      "text/html": [
       "Number of parameters: 6916403"
      ],
      "text/plain": [
       "<IPython.core.display.HTML object>"
      ]
     },
     "metadata": {},
     "output_type": "display_data"
    },
    {
     "data": {
      "text/html": [
       "<table><tr><td>Epoch 1</td><td>Epoch 2</td><td>Epoch 3</td><td>Epoch 4</td><td>Epoch 5</td><td>Epoch 6</td><td>Epoch 7</td><td>Epoch 8</td><td>Epoch 9</td><td>Epoch 10</td><td>Epoch 11</td><td>Epoch 12</td><td>Epoch 13</td><td>Epoch 14</td><td>Epoch 15</td></tr><tr><td>53.3</td><td>56.2</td><td>59.7</td><td>60.6</td><td>63.0</td><td>62.0</td><td>63.3</td><td>61.6</td><td>61.9</td><td>62.2</td><td>62.9</td><td>61.5</td><td>60.7</td><td>59.8</td><td>60.5</tr></table>"
      ],
      "text/plain": [
       "<IPython.core.display.HTML object>"
      ]
     },
     "metadata": {},
     "output_type": "display_data"
    },
    {
     "data": {
      "image/png": "[encoded data removed]",
      "text/plain": [
       "<Figure size 576x144 with 2 Axes>"
      ]
     },
     "metadata": {
      "needs_background": "light"
     },
     "output_type": "display_data"
    },
    {
     "data": {
      "text/html": [
       "Model: CNN_inter_ewDistance; Validation accuracy: "
      ],
      "text/plain": [
       "<IPython.core.display.HTML object>"
      ]
     },
     "metadata": {},
     "output_type": "display_data"
    },
    {
     "data": {
      "text/html": [
       "Number of parameters: 6916403"
      ],
      "text/plain": [
       "<IPython.core.display.HTML object>"
      ]
     },
     "metadata": {},
     "output_type": "display_data"
    },
    {
     "data": {
      "text/html": [
       "<table><tr><td>Epoch 1</td><td>Epoch 2</td><td>Epoch 3</td><td>Epoch 4</td><td>Epoch 5</td><td>Epoch 6</td><td>Epoch 7</td><td>Epoch 8</td><td>Epoch 9</td><td>Epoch 10</td><td>Epoch 11</td><td>Epoch 12</td><td>Epoch 13</td><td>Epoch 14</td><td>Epoch 15</td></tr><tr><td>57.6</td><td>61.3</td><td>63.3</td><td>65.6</td><td>65.6</td><td>67.3</td><td>65.9</td><td>67.9</td><td>65.6</td><td>65.7</td><td>67.5</td><td>65.7</td><td>65.3</td><td>65.2</td><td>65.7</tr></table>"
      ],
      "text/plain": [
       "<IPython.core.display.HTML object>"
      ]
     },
     "metadata": {},
     "output_type": "display_data"
    },
    {
     "data": {
      "image/png": "[encoded data removed]",
      "text/plain": [
       "<Figure size 576x144 with 2 Axes>"
      ]
     },
     "metadata": {
      "needs_background": "light"
     },
     "output_type": "display_data"
    },
    {
     "data": {
      "text/html": [
       "The best hyperparameter: ewDistance"
      ],
      "text/plain": [
       "<IPython.core.display.HTML object>"
      ]
     },
     "metadata": {},
     "output_type": "display_data"
    },
    {
     "data": {
      "text/html": [
       "<div>\n",
       "<style scoped>\n",
       "    .dataframe tbody tr th:only-of-type {\n",
       "        vertical-align: middle;\n",
       "    }\n",
       "\n",
       "    .dataframe tbody tr th {\n",
       "        vertical-align: top;\n",
       "    }\n",
       "\n",
       "    .dataframe thead th {\n",
       "        text-align: right;\n",
       "    }\n",
       "</style>\n",
       "<table border=\"1\" class=\"dataframe\">\n",
       "  <thead>\n",
       "    <tr style=\"text-align: right;\">\n",
       "      <th></th>\n",
       "      <th>concat</th>\n",
       "      <th>ewMul</th>\n",
       "      <th>ewDistance</th>\n",
       "    </tr>\n",
       "  </thead>\n",
       "  <tbody>\n",
       "    <tr>\n",
       "      <th>max accuracy</th>\n",
       "      <td>67.1</td>\n",
       "      <td>63.3</td>\n",
       "      <td>67.9</td>\n",
       "    </tr>\n",
       "    <tr>\n",
       "      <th>no. of parameters</th>\n",
       "      <td>6931403</td>\n",
       "      <td>6916403</td>\n",
       "      <td>6916403</td>\n",
       "    </tr>\n",
       "  </tbody>\n",
       "</table>\n",
       "</div>"
      ],
      "text/plain": [
       "                    concat    ewMul ewDistance\n",
       "max accuracy          67.1     63.3       67.9\n",
       "no. of parameters  6931403  6916403    6916403"
      ]
     },
     "metadata": {},
     "output_type": "display_data"
    }
   ],
   "source": [
    "result_reader('CNN_inter_', [str(x) for x in ['concat', 'ewMul', 'ewDistance']])"
   ]
  },
  {
   "cell_type": "markdown",
   "metadata": {},
   "source": [
    "### 4.5 Interacting the two encoded sentences: RNN"
   ]
  },
  {
   "cell_type": "code",
   "execution_count": 12,
   "metadata": {},
   "outputs": [],
   "source": [
    "class GRU_inter(nn.Module):\n",
    "    def __init__(self, weight, hidden_size, inter):\n",
    "        '''\n",
    "        GRU_inter Model\n",
    "        '''\n",
    "        super(GRU_inter, self).__init__()\n",
    "        self.hidden_size = hidden_size\n",
    "        self.inter = inter\n",
    "        self.embedding = nn.Embedding.from_pretrained(weight, freeze = False)\n",
    "        emb_size = weight.shape[1]\n",
    "        self.gru = nn.GRU(emb_size, hidden_size, num_layers = 1, batch_first=True, bidirectional= True) \n",
    "        # The first dimension is batch dimension\n",
    "        linear_input = hidden_size * 2 * 2 if inter == 'concat' else hidden_size * 2\n",
    "        self.linear1 = nn.Linear(linear_input, out_features=100)\n",
    "        self.linear2 = nn.Linear(100, out_features=3)\n",
    "\n",
    "    def init_hidden(self, batch_size, cuda = True):\n",
    "        # Function initializes the activation of recurrent neural net at timestep 0\n",
    "        # Needs to be in format (num_layers, batch_size, hidden_size)\n",
    "        if cuda:\n",
    "            hidden = torch.randn(2, batch_size, self.hidden_size).cuda()\n",
    "        else:\n",
    "            hidden = torch.randn(2, batch_size, self.hidden_size)\n",
    "        return hidden\n",
    "\n",
    "    def forward(self, x, x_lengths, rev_order_x,  y, y_lengths, rev_order_y):\n",
    "        batch_size, seq_len = x.size()\n",
    "        self.hidden_1 = self.init_hidden(batch_size, x.is_cuda)\n",
    "\n",
    "        # get embedding of characters\n",
    "        embed_x = self.embedding(x)\n",
    "        embed_y = self.embedding(y)\n",
    "        \n",
    "        # Sort before RNN\n",
    "        embed_x = torch.nn.utils.rnn.pack_padded_sequence(embed_x, x_lengths, batch_first=True)\n",
    "        # GRU\n",
    "        _, hidden_x = self.gru(embed_x, self.hidden_1)\n",
    "        # output_x, _ = torch.nn.utils.rnn.pad_packed_sequence(output_x, batch_first=True)\n",
    "        # Get the last hidden \n",
    "        out_x = hidden_x.transpose(0, 1)\n",
    "        out_x = out_x.contiguous().view(batch_size, -1)\n",
    "        out_x = out_x[rev_order_x]\n",
    "        \n",
    "        #The same for y (Do we need to re-initialize the hidden?)\n",
    "        self.hidden_2 = self.init_hidden(batch_size, x.is_cuda)\n",
    "        embed_y = torch.nn.utils.rnn.pack_padded_sequence(embed_y, y_lengths, batch_first=True)\n",
    "        _, hidden_y = self.gru(embed_y, self.hidden_2)\n",
    "        # output_y, _ = torch.nn.utils.rnn.pad_packed_sequence(output_y, batch_first=True)\n",
    "        out_y = hidden_y.transpose(0, 1)\n",
    "        out_y = out_y.contiguous().view(batch_size, -1)\n",
    "        out_y = out_y[rev_order_y]\n",
    "        \n",
    "        # Interact x and y before linear transformation\n",
    "        if self.inter == 'concat':\n",
    "            output = torch.cat([out_x, out_y], dim = 1)\n",
    "        elif self.inter == 'ewMul':\n",
    "            output = out_x.mul(out_y)\n",
    "        elif self.inter == 'ewDistance':\n",
    "            output = out_x.sub(out_y).abs()\n",
    "\n",
    "        output = self.linear1(output)\n",
    "        output = F.softmax(output, dim = 0)\n",
    "        res = self.linear2(output)\n",
    "        \n",
    "        return res"
   ]
  },
  {
   "cell_type": "code",
   "execution_count": 35,
   "metadata": {
    "scrolled": true
   },
   "outputs": [
    {
     "name": "stdout",
     "output_type": "stream",
     "text": [
      "................................\n",
      "Epoch: [1/15], Validation Acc: 59.7\n",
      "................................\n",
      "Epoch: [2/15], Validation Acc: 61.6\n",
      "................................\n",
      "Epoch: [3/15], Validation Acc: 65.4\n",
      "................................\n",
      "Epoch: [4/15], Validation Acc: 67.2\n",
      "................................\n",
      "Epoch: [5/15], Validation Acc: 67.7\n",
      "................................\n",
      "Epoch: [6/15], Validation Acc: 69.8\n",
      "................................\n",
      "Epoch: [7/15], Validation Acc: 69.6\n",
      "................................\n",
      "Epoch: [8/15], Validation Acc: 69.7\n",
      "................................\n",
      "Epoch: [9/15], Validation Acc: 68.7\n",
      "................................\n",
      "Epoch: [10/15], Validation Acc: 68.7\n",
      "................................\n",
      "Epoch: [11/15], Validation Acc: 69.6\n",
      "................................\n",
      "Epoch: [12/15], Validation Acc: 67.9\n",
      "................................\n",
      "Epoch: [13/15], Validation Acc: 69.6\n",
      "................................\n",
      "Epoch: [14/15], Validation Acc: 68.9\n",
      "................................\n",
      "Epoch: [15/15], Validation Acc: 67.3\n",
      "................................\n",
      "Epoch: [1/15], Validation Acc: 54.4\n",
      "................................\n",
      "Epoch: [2/15], Validation Acc: 64.7\n",
      "................................\n",
      "Epoch: [3/15], Validation Acc: 67.8\n",
      "................................\n",
      "Epoch: [4/15], Validation Acc: 67.9\n",
      "................................\n",
      "Epoch: [5/15], Validation Acc: 69.4\n",
      "................................\n",
      "Epoch: [6/15], Validation Acc: 69.1\n",
      "................................\n",
      "Epoch: [7/15], Validation Acc: 72.8\n",
      "................................\n",
      "Epoch: [8/15], Validation Acc: 71.3\n",
      "................................\n",
      "Epoch: [9/15], Validation Acc: 70.6\n",
      "................................\n",
      "Epoch: [10/15], Validation Acc: 69.6\n",
      "................................\n",
      "Epoch: [11/15], Validation Acc: 69.1\n",
      "................................\n",
      "Epoch: [12/15], Validation Acc: 68.1\n",
      "................................\n",
      "Epoch: [13/15], Validation Acc: 66.8\n",
      "................................\n",
      "Epoch: [14/15], Validation Acc: 70.8\n",
      "................................\n",
      "Epoch: [15/15], Validation Acc: 68.9\n",
      "................................\n",
      "Epoch: [1/15], Validation Acc: 59.0\n",
      "................................\n",
      "Epoch: [2/15], Validation Acc: 66.3\n",
      "................................\n",
      "Epoch: [3/15], Validation Acc: 70.6\n",
      "................................\n",
      "Epoch: [4/15], Validation Acc: 71.4\n",
      "................................\n",
      "Epoch: [5/15], Validation Acc: 72.7\n",
      "................................\n",
      "Epoch: [6/15], Validation Acc: 72.7\n",
      "................................\n",
      "Epoch: [7/15], Validation Acc: 72.4\n",
      "................................\n",
      "Epoch: [8/15], Validation Acc: 72.7\n",
      "................................\n",
      "Epoch: [9/15], Validation Acc: 72.1\n",
      "................................\n",
      "Epoch: [10/15], Validation Acc: 70.6\n",
      "................................\n",
      "Epoch: [11/15], Validation Acc: 71.2\n",
      "................................\n",
      "Epoch: [12/15], Validation Acc: 69.8\n",
      "................................\n",
      "Epoch: [13/15], Validation Acc: 70.3\n",
      "................................\n",
      "Epoch: [14/15], Validation Acc: 71.8\n",
      "................................\n",
      "Epoch: [15/15], Validation Acc: 71.3\n"
     ]
    }
   ],
   "source": [
    "for i_inter in ['concat', 'ewMul', 'ewDistance']:\n",
    "    run_name = 'GRU_inter_' + str(i_inter)\n",
    "    torch.backends.cudnn.benchmark = True\n",
    "    weight = torch.FloatTensor(lookup).cuda()\n",
    "    model = GRU_inter(weight = weight, hidden_size=500, inter=i_inter).cuda()\n",
    "    learning_rate = 0.0005\n",
    "    num_epochs = 15 # number epoch to train\n",
    "    # Criterion and Optimizer\n",
    "    criterion = torch.nn.CrossEntropyLoss()\n",
    "    optimizer = torch.optim.Adam(model.parameters(), lr=learning_rate)\n",
    "    # freeze\n",
    "    freeze_mat = torch.cat([torch.zeros([1, 300]), torch.ones([1, 300]), torch.zeros([20000, 300])]).cuda()\n",
    "    h = model.embedding.weight.register_hook(lambda grad: grad * freeze_mat)\n",
    "\n",
    "    # Plot prepare\n",
    "    it = 0\n",
    "    res = {\n",
    "        'it_list' : [],\n",
    "        'train_loss_list' : [],\n",
    "        'val_loss_list' : [],\n",
    "        'train_acc_list' : [],\n",
    "        'val_acc_list' : [] \n",
    "    }\n",
    "    # print(model.embedding.weight[:3, :5])\n",
    "    for epoch in range(num_epochs):\n",
    "        for i, (x, x_lengths, rev_order_x, y, y_lengths, rev_order_y, labels) in enumerate(snli_train_loader):\n",
    "            it += 1\n",
    "            model.train()\n",
    "            optimizer.zero_grad()\n",
    "            # Forward pass\n",
    "            outputs = model(x.cuda(), x_lengths.cuda(), rev_order_x.cuda(),\n",
    "                            y.cuda(), y_lengths.cuda(), rev_order_y.cuda())\n",
    "            loss = criterion(outputs, labels.cuda())\n",
    "            # Backward and optimize\n",
    "            loss.backward()\n",
    "            optimizer.step()\n",
    "            if i % 100 == 0:\n",
    "                print('.', end='')\n",
    "        # validate\n",
    "        train_acc, train_loss = test_model(snli_train_loader, model)\n",
    "        val_acc, val_loss = test_model(snli_val_loader, model)\n",
    "        print('\\nEpoch: [{}/{}], Validation Acc: {}'.format(\n",
    "            epoch+1, num_epochs, val_acc))\n",
    "        # Plot prepare\n",
    "        res['it_list'].append(it)\n",
    "        res['train_acc_list'].append(train_acc)\n",
    "        res['train_loss_list'].append(train_loss)\n",
    "        res['val_acc_list'].append(val_acc)\n",
    "        res['val_loss_list'].append(val_loss)\n",
    "    torch.save(model.state_dict(), '../model/'+run_name+'_para.pt')\n",
    "    pkl.dump(res, open('../model/'+run_name+'_res.pkl', 'wb'))"
   ]
  },
  {
   "cell_type": "code",
   "execution_count": 87,
   "metadata": {},
   "outputs": [
    {
     "data": {
      "text/html": [
       "Model: GRU_inter_concat; Validation accuracy: "
      ],
      "text/plain": [
       "<IPython.core.display.HTML object>"
      ]
     },
     "metadata": {},
     "output_type": "display_data"
    },
    {
     "data": {
      "text/html": [
       "Number of parameters: 8607003"
      ],
      "text/plain": [
       "<IPython.core.display.HTML object>"
      ]
     },
     "metadata": {},
     "output_type": "display_data"
    },
    {
     "data": {
      "text/html": [
       "<table><tr><td>Epoch 1</td><td>Epoch 2</td><td>Epoch 3</td><td>Epoch 4</td><td>Epoch 5</td><td>Epoch 6</td><td>Epoch 7</td><td>Epoch 8</td><td>Epoch 9</td><td>Epoch 10</td><td>Epoch 11</td><td>Epoch 12</td><td>Epoch 13</td><td>Epoch 14</td><td>Epoch 15</td></tr><tr><td>59.7</td><td>61.6</td><td>65.4</td><td>67.2</td><td>67.7</td><td>69.8</td><td>69.6</td><td>69.7</td><td>68.7</td><td>68.7</td><td>69.6</td><td>67.9</td><td>69.6</td><td>68.9</td><td>67.3</tr></table>"
      ],
      "text/plain": [
       "<IPython.core.display.HTML object>"
      ]
     },
     "metadata": {},
     "output_type": "display_data"
    },
    {
     "data": {
      "image/png": "[encoded data removed]",
      "text/plain": [
       "<Figure size 576x144 with 2 Axes>"
      ]
     },
     "metadata": {
      "needs_background": "light"
     },
     "output_type": "display_data"
    },
    {
     "data": {
      "text/html": [
       "Model: GRU_inter_ewMul; Validation accuracy: "
      ],
      "text/plain": [
       "<IPython.core.display.HTML object>"
      ]
     },
     "metadata": {},
     "output_type": "display_data"
    },
    {
     "data": {
      "text/html": [
       "Number of parameters: 8507003"
      ],
      "text/plain": [
       "<IPython.core.display.HTML object>"
      ]
     },
     "metadata": {},
     "output_type": "display_data"
    },
    {
     "data": {
      "text/html": [
       "<table><tr><td>Epoch 1</td><td>Epoch 2</td><td>Epoch 3</td><td>Epoch 4</td><td>Epoch 5</td><td>Epoch 6</td><td>Epoch 7</td><td>Epoch 8</td><td>Epoch 9</td><td>Epoch 10</td><td>Epoch 11</td><td>Epoch 12</td><td>Epoch 13</td><td>Epoch 14</td><td>Epoch 15</td></tr><tr><td>54.4</td><td>64.7</td><td>67.8</td><td>67.9</td><td>69.4</td><td>69.1</td><td>72.8</td><td>71.3</td><td>70.6</td><td>69.6</td><td>69.1</td><td>68.1</td><td>66.8</td><td>70.8</td><td>68.9</tr></table>"
      ],
      "text/plain": [
       "<IPython.core.display.HTML object>"
      ]
     },
     "metadata": {},
     "output_type": "display_data"
    },
    {
     "data": {
      "image/png": "[encoded data removed]",
      "text/plain": [
       "<Figure size 576x144 with 2 Axes>"
      ]
     },
     "metadata": {
      "needs_background": "light"
     },
     "output_type": "display_data"
    },
    {
     "data": {
      "text/html": [
       "Model: GRU_inter_ewDistance; Validation accuracy: "
      ],
      "text/plain": [
       "<IPython.core.display.HTML object>"
      ]
     },
     "metadata": {},
     "output_type": "display_data"
    },
    {
     "data": {
      "text/html": [
       "Number of parameters: 8507003"
      ],
      "text/plain": [
       "<IPython.core.display.HTML object>"
      ]
     },
     "metadata": {},
     "output_type": "display_data"
    },
    {
     "data": {
      "text/html": [
       "<table><tr><td>Epoch 1</td><td>Epoch 2</td><td>Epoch 3</td><td>Epoch 4</td><td>Epoch 5</td><td>Epoch 6</td><td>Epoch 7</td><td>Epoch 8</td><td>Epoch 9</td><td>Epoch 10</td><td>Epoch 11</td><td>Epoch 12</td><td>Epoch 13</td><td>Epoch 14</td><td>Epoch 15</td></tr><tr><td>59.0</td><td>66.3</td><td>70.6</td><td>71.4</td><td>72.7</td><td>72.7</td><td>72.4</td><td>72.7</td><td>72.1</td><td>70.6</td><td>71.2</td><td>69.8</td><td>70.3</td><td>71.8</td><td>71.3</tr></table>"
      ],
      "text/plain": [
       "<IPython.core.display.HTML object>"
      ]
     },
     "metadata": {},
     "output_type": "display_data"
    },
    {
     "data": {
      "image/png": "[encoded data removed]",
      "text/plain": [
       "<Figure size 576x144 with 2 Axes>"
      ]
     },
     "metadata": {
      "needs_background": "light"
     },
     "output_type": "display_data"
    },
    {
     "data": {
      "text/html": [
       "The best hyperparameter: ewMul"
      ],
      "text/plain": [
       "<IPython.core.display.HTML object>"
      ]
     },
     "metadata": {},
     "output_type": "display_data"
    },
    {
     "data": {
      "text/html": [
       "<div>\n",
       "<style scoped>\n",
       "    .dataframe tbody tr th:only-of-type {\n",
       "        vertical-align: middle;\n",
       "    }\n",
       "\n",
       "    .dataframe tbody tr th {\n",
       "        vertical-align: top;\n",
       "    }\n",
       "\n",
       "    .dataframe thead th {\n",
       "        text-align: right;\n",
       "    }\n",
       "</style>\n",
       "<table border=\"1\" class=\"dataframe\">\n",
       "  <thead>\n",
       "    <tr style=\"text-align: right;\">\n",
       "      <th></th>\n",
       "      <th>concat</th>\n",
       "      <th>ewMul</th>\n",
       "      <th>ewDistance</th>\n",
       "    </tr>\n",
       "  </thead>\n",
       "  <tbody>\n",
       "    <tr>\n",
       "      <th>max accuracy</th>\n",
       "      <td>69.8</td>\n",
       "      <td>72.8</td>\n",
       "      <td>72.7</td>\n",
       "    </tr>\n",
       "    <tr>\n",
       "      <th>no. of parameters</th>\n",
       "      <td>8607003</td>\n",
       "      <td>8507003</td>\n",
       "      <td>8507003</td>\n",
       "    </tr>\n",
       "  </tbody>\n",
       "</table>\n",
       "</div>"
      ],
      "text/plain": [
       "                    concat    ewMul ewDistance\n",
       "max accuracy          69.8     72.8       72.7\n",
       "no. of parameters  8607003  8507003    8507003"
      ]
     },
     "metadata": {},
     "output_type": "display_data"
    }
   ],
   "source": [
    "result_reader('GRU_inter_', [str(x)for x in ['concat', 'ewMul', 'ewDistance']]) "
   ]
  },
  {
   "cell_type": "markdown",
   "metadata": {},
   "source": [
    "### 4.6 CNN: FC Activation"
   ]
  },
  {
   "cell_type": "code",
   "execution_count": 14,
   "metadata": {},
   "outputs": [],
   "source": [
    "class CNN_act(nn.Module):\n",
    "    def __init__(self, weight, hidden_size, act):\n",
    "        '''\n",
    "        CNN_act Model\n",
    "        '''\n",
    "        super(CNN_act, self).__init__()\n",
    "        self.hidden_size = hidden_size\n",
    "        self.embedding = nn.Embedding.from_pretrained(weight, freeze = False)\n",
    "        emb_size = weight.shape[1]\n",
    "        self.conv1 = nn.Conv1d(emb_size, hidden_size, kernel_size=3, padding=1) \n",
    "        self.conv2 = nn.Conv1d(hidden_size, hidden_size, kernel_size=3, padding=1)\n",
    "        self.act = act\n",
    "        linear_input = hidden_size\n",
    "        self.linear1 = nn.Linear(linear_input , out_features=50)\n",
    "        self.linear2 = nn.Linear(50, out_features=3)\n",
    "        \n",
    "    def forward(self, x, x_lengths, rev_order_x,  y, y_lengths, rev_order_y):\n",
    "        batch_size, seq_len = x.size()\n",
    "        \n",
    "        x = x[rev_order_x]\n",
    "        y = y[rev_order_y]\n",
    "        \n",
    "        embed_x = self.embedding(x)\n",
    "        embed_y = self.embedding(y)\n",
    "                \n",
    "        hidden_x = self.conv1(embed_x.transpose(1, 2)).transpose(1, 2) \n",
    "        hidden_x = F.relu(hidden_x)\n",
    "        \n",
    "        hidden_x = self.conv2(hidden_x.transpose(1, 2)).transpose(1, 2) \n",
    "        hidden_x = F.relu(hidden_x)\n",
    "        \n",
    "        hidden_x = torch.max(hidden_x, dim=1)[0]\n",
    "                \n",
    "        # The same for y\n",
    "        \n",
    "        hidden_y = self.conv1(embed_y.transpose(1, 2)).transpose(1, 2) \n",
    "        hidden_y = F.relu(hidden_y)\n",
    "                \n",
    "        hidden_y = self.conv2(hidden_y.transpose(1, 2)).transpose(1, 2) \n",
    "        hidden_y = F.relu(hidden_y)\n",
    "        \n",
    "        hidden_y = torch.max(hidden_y, dim=1)[0]\n",
    "                \n",
    "        # Interact x and y before linear transformation\n",
    "        output = hidden_x.sub(hidden_y).abs()\n",
    "\n",
    "        \n",
    "        output = self.linear1(output)\n",
    "        if self.act == 'Softmax':\n",
    "            output = F.softmax(output, dim=0)\n",
    "        elif self.act == 'ReLu':\n",
    "            output = F.relu(output)\n",
    "        res = self.linear2(output)\n",
    "        \n",
    "        return res"
   ]
  },
  {
   "cell_type": "code",
   "execution_count": 53,
   "metadata": {},
   "outputs": [
    {
     "name": "stdout",
     "output_type": "stream",
     "text": [
      "................................\n",
      "Epoch: [1/15], Validation Acc: 58.5\n",
      "................................\n",
      "Epoch: [2/15], Validation Acc: 63.0\n",
      "................................\n",
      "Epoch: [3/15], Validation Acc: 63.5\n",
      "................................\n",
      "Epoch: [4/15], Validation Acc: 66.6\n",
      "................................\n",
      "Epoch: [5/15], Validation Acc: 66.7\n",
      "................................\n",
      "Epoch: [6/15], Validation Acc: 66.7\n",
      "................................\n",
      "Epoch: [7/15], Validation Acc: 68.7\n",
      "................................\n",
      "Epoch: [8/15], Validation Acc: 67.8\n",
      "................................\n",
      "Epoch: [9/15], Validation Acc: 68.1\n",
      "................................\n",
      "Epoch: [10/15], Validation Acc: 67.1\n",
      "................................\n",
      "Epoch: [11/15], Validation Acc: 68.4\n",
      "................................\n",
      "Epoch: [12/15], Validation Acc: 67.9\n",
      "................................\n",
      "Epoch: [13/15], Validation Acc: 66.6\n",
      "................................\n",
      "Epoch: [14/15], Validation Acc: 66.8\n",
      "................................\n",
      "Epoch: [15/15], Validation Acc: 66.3\n",
      "................................\n",
      "Epoch: [1/15], Validation Acc: 65.6\n",
      "................................\n",
      "Epoch: [2/15], Validation Acc: 68.4\n",
      "................................\n",
      "Epoch: [3/15], Validation Acc: 68.3\n",
      "................................\n",
      "Epoch: [4/15], Validation Acc: 68.6\n",
      "................................\n",
      "Epoch: [5/15], Validation Acc: 68.2\n",
      "................................\n",
      "Epoch: [6/15], Validation Acc: 67.8\n",
      "................................\n",
      "Epoch: [7/15], Validation Acc: 67.9\n",
      "................................\n",
      "Epoch: [8/15], Validation Acc: 68.0\n",
      "................................\n",
      "Epoch: [9/15], Validation Acc: 66.9\n",
      "................................\n",
      "Epoch: [10/15], Validation Acc: 66.4\n",
      "................................\n",
      "Epoch: [11/15], Validation Acc: 67.0\n",
      "................................\n",
      "Epoch: [12/15], Validation Acc: 66.4\n",
      "................................\n",
      "Epoch: [13/15], Validation Acc: 66.3\n",
      "................................\n",
      "Epoch: [14/15], Validation Acc: 65.2\n",
      "................................\n",
      "Epoch: [15/15], Validation Acc: 66.2\n"
     ]
    }
   ],
   "source": [
    "for i_act in ['Softmax', 'ReLu']:\n",
    "    run_name = 'CNN_act_' + str(i_act)\n",
    "    torch.backends.cudnn.benchmark = True\n",
    "    weight = torch.FloatTensor(lookup).cuda()\n",
    "    model = CNN_act(weight = weight, hidden_size=300, act=i_act).cuda()\n",
    "    learning_rate = 0.0002\n",
    "    num_epochs = 15\n",
    "    criterion = torch.nn.CrossEntropyLoss()\n",
    "    optimizer = torch.optim.Adam(model.parameters(), lr=learning_rate)\n",
    "    freeze_mat = torch.cat([torch.zeros([1, 300]), torch.ones([1, 300]), torch.zeros([20000, 300])]).cuda()\n",
    "    h = model.embedding.weight.register_hook(lambda grad: grad * freeze_mat)\n",
    "    it = 0\n",
    "    res = {\n",
    "        'it_list' : [],\n",
    "        'train_loss_list' : [],\n",
    "        'val_loss_list' : [],\n",
    "        'train_acc_list' : [],\n",
    "        'val_acc_list' : [] \n",
    "    }\n",
    "    for epoch in range(num_epochs):\n",
    "        train_acc = 0\n",
    "        train_loss = 0\n",
    "        for i, (x, x_lengths, rev_order_x, y, y_lengths, rev_order_y, labels) in enumerate(snli_train_loader):\n",
    "            it += 1\n",
    "            model.train()\n",
    "            optimizer.zero_grad()\n",
    "            outputs = model(x.cuda(), x_lengths.cuda(), rev_order_x.cuda(),\n",
    "                            y.cuda(), y_lengths.cuda(), rev_order_y.cuda())\n",
    "            loss = criterion(outputs, labels.cuda())\n",
    "            loss.backward()\n",
    "            optimizer.step()\n",
    "            if i % 100 == 0:\n",
    "                print('.', end='')\n",
    "        # validate\n",
    "        train_acc, train_loss = test_model(snli_train_loader, model)\n",
    "        val_acc, val_loss = test_model(snli_val_loader, model)\n",
    "        print('\\nEpoch: [{}/{}], Validation Acc: {}'.format(\n",
    "            epoch+1, num_epochs, val_acc))\n",
    "        # Plot prepare\n",
    "        res['it_list'].append(it)\n",
    "        res['train_acc_list'].append(train_acc)\n",
    "        res['train_loss_list'].append(train_loss)\n",
    "        res['val_acc_list'].append(val_acc)\n",
    "        res['val_loss_list'].append(val_loss)\n",
    "    # after training, save the model \n",
    "    torch.save(model.state_dict(), '../model/'+run_name+'_para.pt')\n",
    "    pkl.dump(res, open('../model/'+run_name+'_res.pkl', 'wb'))"
   ]
  },
  {
   "cell_type": "code",
   "execution_count": 54,
   "metadata": {},
   "outputs": [
    {
     "data": {
      "text/html": [
       "Model: CNN_act_Softmax; Validation accuracy: "
      ],
      "text/plain": [
       "<IPython.core.display.HTML object>"
      ]
     },
     "metadata": {},
     "output_type": "display_data"
    },
    {
     "data": {
      "text/html": [
       "Number of parameters: 6556403"
      ],
      "text/plain": [
       "<IPython.core.display.HTML object>"
      ]
     },
     "metadata": {},
     "output_type": "display_data"
    },
    {
     "data": {
      "text/html": [
       "<table><tr><td>Epoch 1</td><td>Epoch 2</td><td>Epoch 3</td><td>Epoch 4</td><td>Epoch 5</td><td>Epoch 6</td><td>Epoch 7</td><td>Epoch 8</td><td>Epoch 9</td><td>Epoch 10</td><td>Epoch 11</td><td>Epoch 12</td><td>Epoch 13</td><td>Epoch 14</td><td>Epoch 15</td></tr><tr><td>58.5</td><td>63.0</td><td>63.5</td><td>66.6</td><td>66.7</td><td>66.7</td><td>68.7</td><td>67.8</td><td>68.1</td><td>67.1</td><td>68.4</td><td>67.9</td><td>66.6</td><td>66.8</td><td>66.3</tr></table>"
      ],
      "text/plain": [
       "<IPython.core.display.HTML object>"
      ]
     },
     "metadata": {},
     "output_type": "display_data"
    },
    {
     "data": {
      "image/png": "[encoded data removed]",
      "text/plain": [
       "<Figure size 576x144 with 2 Axes>"
      ]
     },
     "metadata": {
      "needs_background": "light"
     },
     "output_type": "display_data"
    },
    {
     "data": {
      "text/html": [
       "Model: CNN_act_ReLu; Validation accuracy: "
      ],
      "text/plain": [
       "<IPython.core.display.HTML object>"
      ]
     },
     "metadata": {},
     "output_type": "display_data"
    },
    {
     "data": {
      "text/html": [
       "Number of parameters: 6556403"
      ],
      "text/plain": [
       "<IPython.core.display.HTML object>"
      ]
     },
     "metadata": {},
     "output_type": "display_data"
    },
    {
     "data": {
      "text/html": [
       "<table><tr><td>Epoch 1</td><td>Epoch 2</td><td>Epoch 3</td><td>Epoch 4</td><td>Epoch 5</td><td>Epoch 6</td><td>Epoch 7</td><td>Epoch 8</td><td>Epoch 9</td><td>Epoch 10</td><td>Epoch 11</td><td>Epoch 12</td><td>Epoch 13</td><td>Epoch 14</td><td>Epoch 15</td></tr><tr><td>65.6</td><td>68.4</td><td>68.3</td><td>68.6</td><td>68.2</td><td>67.8</td><td>67.9</td><td>68.0</td><td>66.9</td><td>66.4</td><td>67.0</td><td>66.4</td><td>66.3</td><td>65.2</td><td>66.2</tr></table>"
      ],
      "text/plain": [
       "<IPython.core.display.HTML object>"
      ]
     },
     "metadata": {},
     "output_type": "display_data"
    },
    {
     "data": {
      "image/png": "[encoded data removed]",
      "text/plain": [
       "<Figure size 576x144 with 2 Axes>"
      ]
     },
     "metadata": {
      "needs_background": "light"
     },
     "output_type": "display_data"
    },
    {
     "data": {
      "text/html": [
       "The best hyperparameter: Softmax"
      ],
      "text/plain": [
       "<IPython.core.display.HTML object>"
      ]
     },
     "metadata": {},
     "output_type": "display_data"
    },
    {
     "data": {
      "text/html": [
       "<div>\n",
       "<style scoped>\n",
       "    .dataframe tbody tr th:only-of-type {\n",
       "        vertical-align: middle;\n",
       "    }\n",
       "\n",
       "    .dataframe tbody tr th {\n",
       "        vertical-align: top;\n",
       "    }\n",
       "\n",
       "    .dataframe thead th {\n",
       "        text-align: right;\n",
       "    }\n",
       "</style>\n",
       "<table border=\"1\" class=\"dataframe\">\n",
       "  <thead>\n",
       "    <tr style=\"text-align: right;\">\n",
       "      <th></th>\n",
       "      <th>Softmax</th>\n",
       "      <th>ReLu</th>\n",
       "    </tr>\n",
       "  </thead>\n",
       "  <tbody>\n",
       "    <tr>\n",
       "      <th>max accuracy</th>\n",
       "      <td>68.7</td>\n",
       "      <td>68.6</td>\n",
       "    </tr>\n",
       "    <tr>\n",
       "      <th>no. of parameters</th>\n",
       "      <td>6556403</td>\n",
       "      <td>6556403</td>\n",
       "    </tr>\n",
       "  </tbody>\n",
       "</table>\n",
       "</div>"
      ],
      "text/plain": [
       "                   Softmax     ReLu\n",
       "max accuracy          68.7     68.6\n",
       "no. of parameters  6556403  6556403"
      ]
     },
     "metadata": {},
     "output_type": "display_data"
    }
   ],
   "source": [
    "result_reader('CNN_act_', [str(x) for x in ['Softmax', 'ReLu']]) "
   ]
  },
  {
   "cell_type": "markdown",
   "metadata": {},
   "source": [
    "### 4.7 RNN: FC Activation"
   ]
  },
  {
   "cell_type": "code",
   "execution_count": 19,
   "metadata": {},
   "outputs": [],
   "source": [
    "class GRU_act(nn.Module):\n",
    "    def __init__(self, weight, hidden_size, act):\n",
    "        '''\n",
    "        GRU_act Model\n",
    "        '''\n",
    "        super(GRU_act, self).__init__()\n",
    "        self.hidden_size = hidden_size\n",
    "        self.act = act\n",
    "        self.embedding = nn.Embedding.from_pretrained(weight, freeze = False)\n",
    "        emb_size = weight.shape[1]\n",
    "        self.gru = nn.GRU(emb_size, hidden_size, num_layers = 1, batch_first=True, bidirectional= True) \n",
    "        # The first dimension is batch dimension\n",
    "        linear_input = hidden_size * 2\n",
    "        self.linear1 = nn.Linear(linear_input, out_features=100)\n",
    "        self.linear2 = nn.Linear(100, out_features=3)\n",
    "\n",
    "    def init_hidden(self, batch_size, cuda = True):\n",
    "        # Function initializes the activation of recurrent neural net at timestep 0\n",
    "        # Needs to be in format (num_layers, batch_size, hidden_size)\n",
    "        if cuda:\n",
    "            hidden = torch.randn(2, batch_size, self.hidden_size).cuda()\n",
    "        else:\n",
    "            hidden = torch.randn(2, batch_size, self.hidden_size)\n",
    "        return hidden\n",
    "\n",
    "    def forward(self, x, x_lengths, rev_order_x,  y, y_lengths, rev_order_y):\n",
    "        batch_size, seq_len = x.size()\n",
    "        self.hidden_1 = self.init_hidden(batch_size, x.is_cuda)\n",
    "\n",
    "        # get embedding of characters\n",
    "        embed_x = self.embedding(x)\n",
    "        embed_y = self.embedding(y)\n",
    "        \n",
    "        # Sort before RNN\n",
    "        embed_x = torch.nn.utils.rnn.pack_padded_sequence(embed_x, x_lengths, batch_first=True)\n",
    "        # GRU\n",
    "        _, hidden_x = self.gru(embed_x, self.hidden_1)\n",
    "        # output_x, _ = torch.nn.utils.rnn.pad_packed_sequence(output_x, batch_first=True)\n",
    "        # Get the last hidden \n",
    "        out_x = hidden_x.transpose(0, 1)\n",
    "        out_x = out_x.contiguous().view(batch_size, -1)\n",
    "        out_x = out_x[rev_order_x]\n",
    "        \n",
    "        #The same for y (Do we need to re-initialize the hidden?)\n",
    "        self.hidden_2 = self.init_hidden(batch_size, x.is_cuda)\n",
    "        embed_y = torch.nn.utils.rnn.pack_padded_sequence(embed_y, y_lengths, batch_first=True)\n",
    "        _, hidden_y = self.gru(embed_y, self.hidden_2)\n",
    "        # output_y, _ = torch.nn.utils.rnn.pad_packed_sequence(output_y, batch_first=True)\n",
    "        out_y = hidden_y.transpose(0, 1)\n",
    "        out_y = out_y.contiguous().view(batch_size, -1)\n",
    "        out_y = out_y[rev_order_y]\n",
    "        \n",
    "        # Interact x and y before linear transformation\n",
    "        output = out_x.mul(out_y)\n",
    "\n",
    "        output = self.linear1(output)\n",
    "        if self.act == 'Softmax':\n",
    "            output = F.softmax(output, dim=0)\n",
    "        elif self.act == 'ReLu':\n",
    "            output = F.relu(output)\n",
    "        res = self.linear2(output)\n",
    "        \n",
    "        return res"
   ]
  },
  {
   "cell_type": "code",
   "execution_count": 19,
   "metadata": {},
   "outputs": [
    {
     "name": "stdout",
     "output_type": "stream",
     "text": [
      "................................\n",
      "Epoch: [1/15], Validation Acc: 58.5\n",
      "................................\n",
      "Epoch: [2/15], Validation Acc: 63.6\n",
      "................................\n",
      "Epoch: [3/15], Validation Acc: 66.3\n",
      "................................\n",
      "Epoch: [4/15], Validation Acc: 68.4\n",
      "................................\n",
      "Epoch: [5/15], Validation Acc: 69.4\n",
      "................................\n",
      "Epoch: [6/15], Validation Acc: 70.1\n",
      "................................\n",
      "Epoch: [7/15], Validation Acc: 69.5\n",
      "................................\n",
      "Epoch: [8/15], Validation Acc: 71.6\n",
      "................................\n",
      "Epoch: [9/15], Validation Acc: 70.1\n",
      "................................\n",
      "Epoch: [10/15], Validation Acc: 71.5\n",
      "................................\n",
      "Epoch: [11/15], Validation Acc: 70.3\n",
      "................................\n",
      "Epoch: [12/15], Validation Acc: 70.5\n",
      "................................\n",
      "Epoch: [13/15], Validation Acc: 69.1\n",
      "................................\n",
      "Epoch: [14/15], Validation Acc: 71.0\n",
      "................................\n",
      "Epoch: [15/15], Validation Acc: 69.1\n",
      "................................\n",
      "Epoch: [1/15], Validation Acc: 62.4\n",
      "................................\n",
      "Epoch: [2/15], Validation Acc: 65.9\n",
      "................................\n",
      "Epoch: [3/15], Validation Acc: 68.4\n",
      "................................\n",
      "Epoch: [4/15], Validation Acc: 71.3\n",
      "................................\n",
      "Epoch: [5/15], Validation Acc: 72.0\n",
      "................................\n",
      "Epoch: [6/15], Validation Acc: 71.8\n",
      "................................\n",
      "Epoch: [7/15], Validation Acc: 71.9\n",
      "................................\n",
      "Epoch: [8/15], Validation Acc: 71.4\n",
      "................................\n",
      "Epoch: [9/15], Validation Acc: 69.9\n",
      "................................\n",
      "Epoch: [10/15], Validation Acc: 70.7\n",
      "................................\n",
      "Epoch: [11/15], Validation Acc: 69.6\n",
      "................................\n",
      "Epoch: [12/15], Validation Acc: 71.7\n",
      "................................\n",
      "Epoch: [13/15], Validation Acc: 70.9\n",
      "................................\n",
      "Epoch: [14/15], Validation Acc: 70.2\n",
      "................................\n",
      "Epoch: [15/15], Validation Acc: 69.5\n"
     ]
    }
   ],
   "source": [
    "for i_act in ['Softmax', 'ReLu']:\n",
    "    run_name = 'GRU_act_' + str(i_act)\n",
    "    torch.backends.cudnn.benchmark = True\n",
    "    weight = torch.FloatTensor(lookup).cuda()\n",
    "    model = GRU_act(weight = weight, hidden_size=500, act = i_act).cuda()\n",
    "    learning_rate = 0.0005\n",
    "    num_epochs = 15 # number epoch to train\n",
    "    # Criterion and Optimizer\n",
    "    criterion = torch.nn.CrossEntropyLoss()\n",
    "    optimizer = torch.optim.Adam(model.parameters(), lr=learning_rate)\n",
    "    # freeze\n",
    "    freeze_mat = torch.cat([torch.zeros([1, 300]), torch.ones([1, 300]), torch.zeros([20000, 300])]).cuda()\n",
    "    h = model.embedding.weight.register_hook(lambda grad: grad * freeze_mat)\n",
    "\n",
    "    # Plot prepare\n",
    "    it = 0\n",
    "    res = {\n",
    "        'it_list' : [],\n",
    "        'train_loss_list' : [],\n",
    "        'val_loss_list' : [],\n",
    "        'train_acc_list' : [],\n",
    "        'val_acc_list' : [] \n",
    "    }\n",
    "    # print(model.embedding.weight[:3, :5])\n",
    "    for epoch in range(num_epochs):\n",
    "        for i, (x, x_lengths, rev_order_x, y, y_lengths, rev_order_y, labels) in enumerate(snli_train_loader):\n",
    "            it += 1\n",
    "            model.train()\n",
    "            optimizer.zero_grad()\n",
    "            # Forward pass\n",
    "            outputs = model(x.cuda(), x_lengths.cuda(), rev_order_x.cuda(),\n",
    "                            y.cuda(), y_lengths.cuda(), rev_order_y.cuda())\n",
    "            loss = criterion(outputs, labels.cuda())\n",
    "            # Backward and optimize\n",
    "            loss.backward()\n",
    "            optimizer.step()\n",
    "            if i % 100 == 0:\n",
    "                print('.', end='')\n",
    "        # validate\n",
    "        train_acc, train_loss = test_model(snli_train_loader, model)\n",
    "        val_acc, val_loss = test_model(snli_val_loader, model)\n",
    "        print('\\nEpoch: [{}/{}], Validation Acc: {}'.format(\n",
    "            epoch+1, num_epochs, val_acc))\n",
    "        # Plot prepare\n",
    "        res['it_list'].append(it)\n",
    "        res['train_acc_list'].append(train_acc)\n",
    "        res['train_loss_list'].append(train_loss)\n",
    "        res['val_acc_list'].append(val_acc)\n",
    "        res['val_loss_list'].append(val_loss)\n",
    "    torch.save(model.state_dict(), '../model/'+run_name+'_para.pt')\n",
    "    pkl.dump(res, open('../model/'+run_name+'_res.pkl', 'wb'))"
   ]
  },
  {
   "cell_type": "code",
   "execution_count": 91,
   "metadata": {},
   "outputs": [
    {
     "data": {
      "text/html": [
       "Model: GRU_act_Softmax; Validation accuracy: "
      ],
      "text/plain": [
       "<IPython.core.display.HTML object>"
      ]
     },
     "metadata": {},
     "output_type": "display_data"
    },
    {
     "data": {
      "text/html": [
       "Number of parameters: 8507003"
      ],
      "text/plain": [
       "<IPython.core.display.HTML object>"
      ]
     },
     "metadata": {},
     "output_type": "display_data"
    },
    {
     "data": {
      "text/html": [
       "<table><tr><td>Epoch 1</td><td>Epoch 2</td><td>Epoch 3</td><td>Epoch 4</td><td>Epoch 5</td><td>Epoch 6</td><td>Epoch 7</td><td>Epoch 8</td><td>Epoch 9</td><td>Epoch 10</td><td>Epoch 11</td><td>Epoch 12</td><td>Epoch 13</td><td>Epoch 14</td><td>Epoch 15</td></tr><tr><td>58.5</td><td>63.6</td><td>66.3</td><td>68.4</td><td>69.4</td><td>70.1</td><td>69.5</td><td>71.6</td><td>70.1</td><td>71.5</td><td>70.3</td><td>70.5</td><td>69.1</td><td>71.0</td><td>69.1</tr></table>"
      ],
      "text/plain": [
       "<IPython.core.display.HTML object>"
      ]
     },
     "metadata": {},
     "output_type": "display_data"
    },
    {
     "data": {
      "image/png": "[encoded data removed]",
      "text/plain": [
       "<Figure size 576x144 with 2 Axes>"
      ]
     },
     "metadata": {
      "needs_background": "light"
     },
     "output_type": "display_data"
    },
    {
     "data": {
      "text/html": [
       "Model: GRU_act_ReLu; Validation accuracy: "
      ],
      "text/plain": [
       "<IPython.core.display.HTML object>"
      ]
     },
     "metadata": {},
     "output_type": "display_data"
    },
    {
     "data": {
      "text/html": [
       "Number of parameters: 8507003"
      ],
      "text/plain": [
       "<IPython.core.display.HTML object>"
      ]
     },
     "metadata": {},
     "output_type": "display_data"
    },
    {
     "data": {
      "text/html": [
       "<table><tr><td>Epoch 1</td><td>Epoch 2</td><td>Epoch 3</td><td>Epoch 4</td><td>Epoch 5</td><td>Epoch 6</td><td>Epoch 7</td><td>Epoch 8</td><td>Epoch 9</td><td>Epoch 10</td><td>Epoch 11</td><td>Epoch 12</td><td>Epoch 13</td><td>Epoch 14</td><td>Epoch 15</td></tr><tr><td>62.4</td><td>65.9</td><td>68.4</td><td>71.3</td><td>72.0</td><td>71.8</td><td>71.9</td><td>71.4</td><td>69.9</td><td>70.7</td><td>69.6</td><td>71.7</td><td>70.9</td><td>70.2</td><td>69.5</tr></table>"
      ],
      "text/plain": [
       "<IPython.core.display.HTML object>"
      ]
     },
     "metadata": {},
     "output_type": "display_data"
    },
    {
     "data": {
      "image/png": "[encoded data removed]",
      "text/plain": [
       "<Figure size 576x144 with 2 Axes>"
      ]
     },
     "metadata": {
      "needs_background": "light"
     },
     "output_type": "display_data"
    },
    {
     "data": {
      "text/html": [
       "The best hyperparameter: ReLu"
      ],
      "text/plain": [
       "<IPython.core.display.HTML object>"
      ]
     },
     "metadata": {},
     "output_type": "display_data"
    },
    {
     "data": {
      "text/html": [
       "<div>\n",
       "<style scoped>\n",
       "    .dataframe tbody tr th:only-of-type {\n",
       "        vertical-align: middle;\n",
       "    }\n",
       "\n",
       "    .dataframe tbody tr th {\n",
       "        vertical-align: top;\n",
       "    }\n",
       "\n",
       "    .dataframe thead th {\n",
       "        text-align: right;\n",
       "    }\n",
       "</style>\n",
       "<table border=\"1\" class=\"dataframe\">\n",
       "  <thead>\n",
       "    <tr style=\"text-align: right;\">\n",
       "      <th></th>\n",
       "      <th>Softmax</th>\n",
       "      <th>ReLu</th>\n",
       "    </tr>\n",
       "  </thead>\n",
       "  <tbody>\n",
       "    <tr>\n",
       "      <th>max accuracy</th>\n",
       "      <td>71.6</td>\n",
       "      <td>72</td>\n",
       "    </tr>\n",
       "    <tr>\n",
       "      <th>no. of parameters</th>\n",
       "      <td>8507003</td>\n",
       "      <td>8507003</td>\n",
       "    </tr>\n",
       "  </tbody>\n",
       "</table>\n",
       "</div>"
      ],
      "text/plain": [
       "                   Softmax     ReLu\n",
       "max accuracy          71.6       72\n",
       "no. of parameters  8507003  8507003"
      ]
     },
     "metadata": {},
     "output_type": "display_data"
    }
   ],
   "source": [
    "result_reader('GRU_act_', [str(x) for x in ['Softmax', 'ReLu']])"
   ]
  },
  {
   "cell_type": "markdown",
   "metadata": {},
   "source": [
    "## 5 Best Model"
   ]
  },
  {
   "cell_type": "markdown",
   "metadata": {},
   "source": [
    "### 5.1 Best GRU"
   ]
  },
  {
   "cell_type": "code",
   "execution_count": 27,
   "metadata": {},
   "outputs": [
    {
     "name": "stdout",
     "output_type": "stream",
     "text": [
      "................................\n",
      "Epoch: [1/10], Validation Acc: 61.4\n",
      "................................\n",
      "Epoch: [2/10], Validation Acc: 67.2\n",
      "................................\n",
      "Epoch: [3/10], Validation Acc: 70.2\n",
      "................................\n",
      "Epoch: [4/10], Validation Acc: 68.8\n",
      "................................\n",
      "Epoch: [5/10], Validation Acc: 70.9\n",
      "................................\n",
      "Epoch: [6/10], Validation Acc: 69.4\n",
      "................................\n",
      "Epoch: [7/10], Validation Acc: 71.5\n",
      "................................\n",
      "Epoch: [8/10], Validation Acc: 70.9\n",
      "................................\n",
      "Epoch: [9/10], Validation Acc: 71.3\n",
      "................................\n",
      "Epoch: [10/10], Validation Acc: 68.9\n"
     ]
    }
   ],
   "source": [
    "run_name = 'GRU_best_'\n",
    "torch.backends.cudnn.benchmark = True\n",
    "weight = torch.FloatTensor(lookup).cuda()\n",
    "model = GRU_act(weight = weight, hidden_size=500, act = 'ReLu').cuda()\n",
    "learning_rate = 0.0005\n",
    "num_epochs = 10 # number epoch to train\n",
    "# Criterion and Optimizer\n",
    "criterion = torch.nn.CrossEntropyLoss()\n",
    "optimizer = torch.optim.Adam(model.parameters(), lr=learning_rate)\n",
    "# freeze\n",
    "freeze_mat = torch.cat([torch.zeros([1, 300]), torch.ones([1, 300]), torch.zeros([20000, 300])]).cuda()\n",
    "h = model.embedding.weight.register_hook(lambda grad: grad * freeze_mat)\n",
    "\n",
    "# Plot prepare\n",
    "it = 0\n",
    "res = {\n",
    "    'it_list' : [],\n",
    "    'train_loss_list' : [],\n",
    "    'val_loss_list' : [],\n",
    "    'train_acc_list' : [],\n",
    "    'val_acc_list' : [] \n",
    "}\n",
    "# print(model.embedding.weight[:3, :5])\n",
    "for epoch in range(num_epochs):\n",
    "    for i, (x, x_lengths, rev_order_x, y, y_lengths, rev_order_y, labels) in enumerate(snli_train_loader):\n",
    "        it += 1\n",
    "        model.train()\n",
    "        optimizer.zero_grad()\n",
    "        # Forward pass\n",
    "        outputs = model(x.cuda(), x_lengths.cuda(), rev_order_x.cuda(),\n",
    "                        y.cuda(), y_lengths.cuda(), rev_order_y.cuda())\n",
    "        loss = criterion(outputs, labels.cuda())\n",
    "        # Backward and optimize\n",
    "        loss.backward()\n",
    "        optimizer.step()\n",
    "        if i % 100 == 0:\n",
    "            print('.', end='')\n",
    "    # validate\n",
    "    train_acc, train_loss = test_model(snli_train_loader, model)\n",
    "    val_acc, val_loss = test_model(snli_val_loader, model)\n",
    "    print('\\nEpoch: [{}/{}], Validation Acc: {}'.format(\n",
    "        epoch+1, num_epochs, val_acc))\n",
    "    # Plot prepare\n",
    "    res['it_list'].append(it)\n",
    "    res['train_acc_list'].append(train_acc)\n",
    "    res['train_loss_list'].append(train_loss)\n",
    "    res['val_acc_list'].append(val_acc)\n",
    "    res['val_loss_list'].append(val_loss)\n",
    "    torch.save(model.state_dict(), '../model/'+run_name+'_epoch_' + str(epoch) + '_para.pt')\n",
    "torch.save(model.state_dict(), '../model/'+run_name+'_para.pt')\n",
    "pkl.dump(res, open('../model/'+run_name+'_res.pkl', 'wb'))"
   ]
  },
  {
   "cell_type": "markdown",
   "metadata": {},
   "source": [
    "### 5.2 Best CNN"
   ]
  },
  {
   "cell_type": "code",
   "execution_count": 55,
   "metadata": {},
   "outputs": [
    {
     "name": "stdout",
     "output_type": "stream",
     "text": [
      "................................\n",
      "Epoch: [1/15], Validation Acc: 57.6\n",
      "................................\n",
      "Epoch: [2/15], Validation Acc: 63.3\n",
      "................................\n",
      "Epoch: [3/15], Validation Acc: 66.0\n",
      "................................\n",
      "Epoch: [4/15], Validation Acc: 66.0\n",
      "................................\n",
      "Epoch: [5/15], Validation Acc: 67.1\n",
      "................................\n",
      "Epoch: [6/15], Validation Acc: 68.3\n",
      "................................\n",
      "Epoch: [7/15], Validation Acc: 67.7\n",
      "................................\n",
      "Epoch: [8/15], Validation Acc: 68.1\n",
      "................................\n",
      "Epoch: [9/15], Validation Acc: 68.4\n",
      "................................\n",
      "Epoch: [10/15], Validation Acc: 69.3\n",
      "................................\n",
      "Epoch: [11/15], Validation Acc: 68.7\n",
      "................................\n",
      "Epoch: [12/15], Validation Acc: 65.3\n",
      "................................\n",
      "Epoch: [13/15], Validation Acc: 66.1\n",
      "................................\n",
      "Epoch: [14/15], Validation Acc: 67.8\n",
      "................................\n",
      "Epoch: [15/15], Validation Acc: 64.8\n"
     ]
    }
   ],
   "source": [
    "run_name = 'CNN_best_'\n",
    "torch.backends.cudnn.benchmark = True\n",
    "weight = torch.FloatTensor(lookup).cuda()\n",
    "model = CNN_act(weight = weight, hidden_size=300, act = 'Softmax').cuda()\n",
    "learning_rate = 0.0002\n",
    "num_epochs = 15\n",
    "criterion = torch.nn.CrossEntropyLoss()\n",
    "optimizer = torch.optim.Adam(model.parameters(), lr=learning_rate)\n",
    "freeze_mat = torch.cat([torch.zeros([1, 300]), torch.ones([1, 300]), torch.zeros([20000, 300])]).cuda()\n",
    "h = model.embedding.weight.register_hook(lambda grad: grad * freeze_mat)\n",
    "it = 0\n",
    "res = {\n",
    "    'it_list' : [],\n",
    "    'train_loss_list' : [],\n",
    "    'val_loss_list' : [],\n",
    "    'train_acc_list' : [],\n",
    "    'val_acc_list' : [] \n",
    "}\n",
    "for epoch in range(num_epochs):\n",
    "    train_acc = 0\n",
    "    train_loss = 0\n",
    "    for i, (x, x_lengths, rev_order_x, y, y_lengths, rev_order_y, labels) in enumerate(snli_train_loader):\n",
    "        it += 1\n",
    "        model.train()\n",
    "        optimizer.zero_grad()\n",
    "        outputs = model(x.cuda(), x_lengths.cuda(), rev_order_x.cuda(),\n",
    "                        y.cuda(), y_lengths.cuda(), rev_order_y.cuda())\n",
    "        loss = criterion(outputs, labels.cuda())\n",
    "        loss.backward()\n",
    "        optimizer.step()\n",
    "        if i % 100 == 0:\n",
    "            print('.', end='')\n",
    "    # validate\n",
    "    train_acc, train_loss = test_model(snli_train_loader, model)\n",
    "    val_acc, val_loss = test_model(snli_val_loader, model)\n",
    "    print('\\nEpoch: [{}/{}], Validation Acc: {}'.format(\n",
    "        epoch+1, num_epochs, val_acc))\n",
    "    # Plot prepare\n",
    "    res['it_list'].append(it)\n",
    "    res['train_acc_list'].append(train_acc)\n",
    "    res['train_loss_list'].append(train_loss)\n",
    "    res['val_acc_list'].append(val_acc)\n",
    "    res['val_loss_list'].append(val_loss)\n",
    "    torch.save(model.state_dict(), '../model/'+run_name+'_epoch_' + str(epoch) + '_para.pt')\n",
    "# after training, save the model \n",
    "torch.save(model.state_dict(), '../model/'+run_name+'_para.pt')\n",
    "pkl.dump(res, open('../model/'+run_name+'_res.pkl', 'wb'))"
   ]
  },
  {
   "cell_type": "markdown",
   "metadata": {},
   "source": [
    "### 5.3 List 3 correct and incorrect samples of the best model (RNN)"
   ]
  },
  {
   "cell_type": "code",
   "execution_count": 56,
   "metadata": {},
   "outputs": [],
   "source": [
    "def test_model_example(loader, model):\n",
    "    \"\"\"\n",
    "    Help function that tests the model's performance on a dataset\n",
    "    @param: loader - data loader for the dataset to test against\n",
    "    \"\"\"\n",
    "    cor = []\n",
    "    pre = []\n",
    "    target_map = {0: 'neutral', 1: 'entailment', 2: 'contradiction'}\n",
    "    model.eval()\n",
    "    with torch.no_grad():\n",
    "        for x, x_lengths, rev_order_x, y, y_lengths, rev_order_y, labels in loader:\n",
    "            labels_batch = labels.cuda()\n",
    "            outputs = F.softmax(model(x.cuda(), x_lengths.cuda(), rev_order_x.cuda(),\n",
    "                                      y.cuda(), y_lengths.cuda(), rev_order_y.cuda()), dim=1)\n",
    "            predicted = outputs.max(1, keepdim=True)[1]\n",
    "            correct = predicted.eq(labels_batch.view_as(predicted))\n",
    "            cor += list(correct.view(1,-1).cpu().numpy()[0])\n",
    "            pre += list(predicted.view(1, -1).cpu().numpy()[0])\n",
    "    pre = [target_map[x] for x in pre]\n",
    "    return cor, pre"
   ]
  },
  {
   "cell_type": "code",
   "execution_count": 57,
   "metadata": {},
   "outputs": [],
   "source": [
    "weight = torch.FloatTensor(lookup).cuda()\n",
    "model = GRU_act(weight = weight, hidden_size=500, act = '''''').cuda()\n",
    "model.load_state_dict(torch.load('../model/GRU_best__epoch_6_para.pt'))"
   ]
  },
  {
   "cell_type": "code",
   "execution_count": 58,
   "metadata": {
    "scrolled": false
   },
   "outputs": [],
   "source": [
    "snli_val_dataset_noShuffle = inferDataset(snli_val_index_1, snli_val_index_2, snli_val_targets)\n",
    "snli_val_loader_noShuffle = torch.utils.data.DataLoader(dataset=snli_val_dataset, \n",
    "                                           batch_size=BATCH_SIZE,\n",
    "                                           collate_fn=infer_collate_func,\n",
    "                                           shuffle=False)\n",
    "val_cor_gru, val_pre_gru = test_model_example(snli_val_loader_noShuffle, model)"
   ]
  },
  {
   "cell_type": "code",
   "execution_count": 114,
   "metadata": {},
   "outputs": [
    {
     "data": {
      "text/plain": [
       "'The traffic is halted and people are walking between the cars .'"
      ]
     },
     "execution_count": 114,
     "metadata": {},
     "output_type": "execute_result"
    }
   ],
   "source": [
    "tmp.sentence2.iloc[4]"
   ]
  },
  {
   "cell_type": "code",
   "execution_count": 59,
   "metadata": {},
   "outputs": [
    {
     "data": {
      "text/html": [
       "<div>\n",
       "<style scoped>\n",
       "    .dataframe tbody tr th:only-of-type {\n",
       "        vertical-align: middle;\n",
       "    }\n",
       "\n",
       "    .dataframe tbody tr th {\n",
       "        vertical-align: top;\n",
       "    }\n",
       "\n",
       "    .dataframe thead th {\n",
       "        text-align: right;\n",
       "    }\n",
       "</style>\n",
       "<table border=\"1\" class=\"dataframe\">\n",
       "  <thead>\n",
       "    <tr style=\"text-align: right;\">\n",
       "      <th></th>\n",
       "      <th>sentence1</th>\n",
       "      <th>sentence2</th>\n",
       "      <th>label</th>\n",
       "      <th>GRU</th>\n",
       "    </tr>\n",
       "  </thead>\n",
       "  <tbody>\n",
       "    <tr>\n",
       "      <th>1</th>\n",
       "      <td>Four people sit on a subway two read books , o...</td>\n",
       "      <td>Multiple people are on a subway together , wit...</td>\n",
       "      <td>entailment</td>\n",
       "      <td>entailment</td>\n",
       "    </tr>\n",
       "    <tr>\n",
       "      <th>2</th>\n",
       "      <td>bicycles stationed while a group of people soc...</td>\n",
       "      <td>People get together near a stand of bicycles .</td>\n",
       "      <td>entailment</td>\n",
       "      <td>entailment</td>\n",
       "    </tr>\n",
       "    <tr>\n",
       "      <th>3</th>\n",
       "      <td>Man in overalls with two horses .</td>\n",
       "      <td>a man in overalls with two horses</td>\n",
       "      <td>entailment</td>\n",
       "      <td>entailment</td>\n",
       "    </tr>\n",
       "    <tr>\n",
       "      <th>4</th>\n",
       "      <td>Man observes a wavelength given off by an elec...</td>\n",
       "      <td>The man is examining what wavelength is given ...</td>\n",
       "      <td>entailment</td>\n",
       "      <td>entailment</td>\n",
       "    </tr>\n",
       "    <tr>\n",
       "      <th>5</th>\n",
       "      <td>Two people are in a green forest .</td>\n",
       "      <td>The forest is not dead .</td>\n",
       "      <td>entailment</td>\n",
       "      <td>entailment</td>\n",
       "    </tr>\n",
       "    <tr>\n",
       "      <th>6</th>\n",
       "      <td>Two men are listening to music through headpho...</td>\n",
       "      <td>Two men listen to music .</td>\n",
       "      <td>entailment</td>\n",
       "      <td>entailment</td>\n",
       "    </tr>\n",
       "    <tr>\n",
       "      <th>8</th>\n",
       "      <td>A group of numbered participants walk down the...</td>\n",
       "      <td>Participants wait for the beginning of the wal...</td>\n",
       "      <td>neutral</td>\n",
       "      <td>neutral</td>\n",
       "    </tr>\n",
       "    <tr>\n",
       "      <th>9</th>\n",
       "      <td>Three people and a white dog are sitting in th...</td>\n",
       "      <td>Three dogs and a person are sitting in the snow .</td>\n",
       "      <td>contradiction</td>\n",
       "      <td>contradiction</td>\n",
       "    </tr>\n",
       "    <tr>\n",
       "      <th>10</th>\n",
       "      <td>A man wearing glasses is vacuuming an architec...</td>\n",
       "      <td>There is a man vaucuming</td>\n",
       "      <td>entailment</td>\n",
       "      <td>entailment</td>\n",
       "    </tr>\n",
       "    <tr>\n",
       "      <th>12</th>\n",
       "      <td>A little boy watches a Ferris Wheel in motion .</td>\n",
       "      <td>A boy is waiting in line for the Ferris Wheel .</td>\n",
       "      <td>neutral</td>\n",
       "      <td>neutral</td>\n",
       "    </tr>\n",
       "  </tbody>\n",
       "</table>\n",
       "</div>"
      ],
      "text/plain": [
       "                                            sentence1  \\\n",
       "1   Four people sit on a subway two read books , o...   \n",
       "2   bicycles stationed while a group of people soc...   \n",
       "3                   Man in overalls with two horses .   \n",
       "4   Man observes a wavelength given off by an elec...   \n",
       "5                  Two people are in a green forest .   \n",
       "6   Two men are listening to music through headpho...   \n",
       "8   A group of numbered participants walk down the...   \n",
       "9   Three people and a white dog are sitting in th...   \n",
       "10  A man wearing glasses is vacuuming an architec...   \n",
       "12    A little boy watches a Ferris Wheel in motion .   \n",
       "\n",
       "                                            sentence2          label  \\\n",
       "1   Multiple people are on a subway together , wit...     entailment   \n",
       "2      People get together near a stand of bicycles .     entailment   \n",
       "3                   a man in overalls with two horses     entailment   \n",
       "4   The man is examining what wavelength is given ...     entailment   \n",
       "5                            The forest is not dead .     entailment   \n",
       "6                           Two men listen to music .     entailment   \n",
       "8   Participants wait for the beginning of the wal...        neutral   \n",
       "9   Three dogs and a person are sitting in the snow .  contradiction   \n",
       "10                           There is a man vaucuming     entailment   \n",
       "12    A boy is waiting in line for the Ferris Wheel .        neutral   \n",
       "\n",
       "              GRU  \n",
       "1      entailment  \n",
       "2      entailment  \n",
       "3      entailment  \n",
       "4      entailment  \n",
       "5      entailment  \n",
       "6      entailment  \n",
       "8         neutral  \n",
       "9   contradiction  \n",
       "10     entailment  \n",
       "12        neutral  "
      ]
     },
     "metadata": {},
     "output_type": "display_data"
    },
    {
     "data": {
      "text/html": [
       "<div>\n",
       "<style scoped>\n",
       "    .dataframe tbody tr th:only-of-type {\n",
       "        vertical-align: middle;\n",
       "    }\n",
       "\n",
       "    .dataframe tbody tr th {\n",
       "        vertical-align: top;\n",
       "    }\n",
       "\n",
       "    .dataframe thead th {\n",
       "        text-align: right;\n",
       "    }\n",
       "</style>\n",
       "<table border=\"1\" class=\"dataframe\">\n",
       "  <thead>\n",
       "    <tr style=\"text-align: right;\">\n",
       "      <th></th>\n",
       "      <th>sentence1</th>\n",
       "      <th>sentence2</th>\n",
       "      <th>label</th>\n",
       "      <th>GRU</th>\n",
       "    </tr>\n",
       "  </thead>\n",
       "  <tbody>\n",
       "    <tr>\n",
       "      <th>0</th>\n",
       "      <td>Three women on a stage , one wearing red shoes...</td>\n",
       "      <td>There are two women standing on the stage</td>\n",
       "      <td>contradiction</td>\n",
       "      <td>entailment</td>\n",
       "    </tr>\n",
       "    <tr>\n",
       "      <th>7</th>\n",
       "      <td>Two women , one walking her dog the other push...</td>\n",
       "      <td>There is a snowstorm .</td>\n",
       "      <td>contradiction</td>\n",
       "      <td>entailment</td>\n",
       "    </tr>\n",
       "    <tr>\n",
       "      <th>11</th>\n",
       "      <td>A large group of people stand outside on a roa...</td>\n",
       "      <td>One group of people are watching what another ...</td>\n",
       "      <td>entailment</td>\n",
       "      <td>neutral</td>\n",
       "    </tr>\n",
       "    <tr>\n",
       "      <th>13</th>\n",
       "      <td>Man in white shirt and blue jeans looking to t...</td>\n",
       "      <td>Man has a blue shirt on .</td>\n",
       "      <td>contradiction</td>\n",
       "      <td>entailment</td>\n",
       "    </tr>\n",
       "    <tr>\n",
       "      <th>23</th>\n",
       "      <td>People walk amongst a traffic jam in a crowded...</td>\n",
       "      <td>The traffic is halted and people are walking b...</td>\n",
       "      <td>entailment</td>\n",
       "      <td>contradiction</td>\n",
       "    </tr>\n",
       "    <tr>\n",
       "      <th>25</th>\n",
       "      <td>man grilling fish on barbecue</td>\n",
       "      <td>The man likes to eat fish .</td>\n",
       "      <td>neutral</td>\n",
       "      <td>entailment</td>\n",
       "    </tr>\n",
       "    <tr>\n",
       "      <th>26</th>\n",
       "      <td>A lone , 2-3 year old blond child in a blue ja...</td>\n",
       "      <td>The couch is pointed toward the front .</td>\n",
       "      <td>contradiction</td>\n",
       "      <td>entailment</td>\n",
       "    </tr>\n",
       "    <tr>\n",
       "      <th>27</th>\n",
       "      <td>A chef speaks into a microphone about a mixed ...</td>\n",
       "      <td>a chef speaks into a microphone near a bowl</td>\n",
       "      <td>entailment</td>\n",
       "      <td>neutral</td>\n",
       "    </tr>\n",
       "    <tr>\n",
       "      <th>31</th>\n",
       "      <td>A middle-aged man is sitting indian style outs...</td>\n",
       "      <td>A middle aged man is showing off his origami c...</td>\n",
       "      <td>neutral</td>\n",
       "      <td>entailment</td>\n",
       "    </tr>\n",
       "    <tr>\n",
       "      <th>33</th>\n",
       "      <td>Persons standing underneath an arch way .</td>\n",
       "      <td>Persons are standing outdoors under a bridge a...</td>\n",
       "      <td>neutral</td>\n",
       "      <td>entailment</td>\n",
       "    </tr>\n",
       "  </tbody>\n",
       "</table>\n",
       "</div>"
      ],
      "text/plain": [
       "                                            sentence1  \\\n",
       "0   Three women on a stage , one wearing red shoes...   \n",
       "7   Two women , one walking her dog the other push...   \n",
       "11  A large group of people stand outside on a roa...   \n",
       "13  Man in white shirt and blue jeans looking to t...   \n",
       "23  People walk amongst a traffic jam in a crowded...   \n",
       "25                      man grilling fish on barbecue   \n",
       "26  A lone , 2-3 year old blond child in a blue ja...   \n",
       "27  A chef speaks into a microphone about a mixed ...   \n",
       "31  A middle-aged man is sitting indian style outs...   \n",
       "33          Persons standing underneath an arch way .   \n",
       "\n",
       "                                            sentence2          label  \\\n",
       "0           There are two women standing on the stage  contradiction   \n",
       "7                              There is a snowstorm .  contradiction   \n",
       "11  One group of people are watching what another ...     entailment   \n",
       "13                          Man has a blue shirt on .  contradiction   \n",
       "23  The traffic is halted and people are walking b...     entailment   \n",
       "25                        The man likes to eat fish .        neutral   \n",
       "26            The couch is pointed toward the front .  contradiction   \n",
       "27        a chef speaks into a microphone near a bowl     entailment   \n",
       "31  A middle aged man is showing off his origami c...        neutral   \n",
       "33  Persons are standing outdoors under a bridge a...        neutral   \n",
       "\n",
       "              GRU  \n",
       "0      entailment  \n",
       "7      entailment  \n",
       "11        neutral  \n",
       "13     entailment  \n",
       "23  contradiction  \n",
       "25     entailment  \n",
       "26     entailment  \n",
       "27        neutral  \n",
       "31     entailment  \n",
       "33     entailment  "
      ]
     },
     "metadata": {},
     "output_type": "display_data"
    }
   ],
   "source": [
    "snli_val_result = snli_val.copy()\n",
    "snli_val_result['GRU'] = val_pre_gru\n",
    "\n",
    "\n",
    "display(snli_val_result[snli_val_result['GRU']==snli_val_result['label']].head(10))\n",
    "display(snli_val_result[snli_val_result['GRU']!=snli_val_result['label']].head(10))"
   ]
  },
  {
   "cell_type": "markdown",
   "metadata": {},
   "source": [
    "## 6 Validate on MultiNLI"
   ]
  },
  {
   "cell_type": "code",
   "execution_count": 60,
   "metadata": {},
   "outputs": [],
   "source": [
    "mnli_val = pd.read_csv('../data/mnli_val.tsv', sep='\\t', header=0)\n",
    "\n",
    "genre_list  = list(set(mnli_val['genre']))"
   ]
  },
  {
   "cell_type": "code",
   "execution_count": 61,
   "metadata": {},
   "outputs": [],
   "source": [
    "mnli_acc = pd.DataFrame(columns = genre_list)"
   ]
  },
  {
   "cell_type": "code",
   "execution_count": 87,
   "metadata": {},
   "outputs": [],
   "source": [
    "mnli_rnn_acc = dict()\n",
    "weight = torch.FloatTensor(lookup).cuda()\n",
    "model_rnn = GRU_act(weight = weight, hidden_size=500, act='ReLu').cuda()\n",
    "model_rnn.load_state_dict(torch.load('../model/GRU_best__epoch_6_para.pt'))\n",
    "criterion = torch.nn.CrossEntropyLoss()\n",
    "for genre_ in genre_list:\n",
    "    \n",
    "    mnli_val_tokens_1, mnli_val_tokens_2, mnli_val_targets = tokenize_preprocess(mnli_val[mnli_val['genre']==genre_])\n",
    "    mnli_val_index_1 = tokens2index_dataset(mnli_val_tokens_1)\n",
    "    mnli_val_index_2 = tokens2index_dataset(mnli_val_tokens_2)\n",
    "    mnli_val_dataset = inferDataset(mnli_val_index_1, mnli_val_index_2, mnli_val_targets)\n",
    "    mnli_val_loader = torch.utils.data.DataLoader(dataset=mnli_val_dataset, \n",
    "                                           batch_size=BATCH_SIZE,\n",
    "                                           collate_fn=infer_collate_func,\n",
    "                                           shuffle=True)\n",
    "    acc, _ = test_model(mnli_val_loader, model_rnn)\n",
    "    mnli_rnn_acc[genre_] = acc\n",
    "mnli_acc.loc['RNN'] = mnli_rnn_acc"
   ]
  },
  {
   "cell_type": "code",
   "execution_count": 85,
   "metadata": {},
   "outputs": [],
   "source": [
    "mnli_cnn_acc = dict()\n",
    "weight = torch.FloatTensor(lookup).cuda()\n",
    "model_cnn = CNN_act(weight = weight, hidden_size=300, act = 'Softmax').cuda()\n",
    "model_cnn.load_state_dict(torch.load('../model/CNN_best__epoch_9_para.pt'))\n",
    "criterion = torch.nn.CrossEntropyLoss()\n",
    "for genre_ in genre_list:\n",
    "    \n",
    "    mnli_val_tokens_1, mnli_val_tokens_2, mnli_val_targets = tokenize_preprocess(mnli_val[mnli_val['genre']==genre_])\n",
    "    mnli_val_index_1 = tokens2index_dataset(mnli_val_tokens_1)\n",
    "    mnli_val_index_2 = tokens2index_dataset(mnli_val_tokens_2)\n",
    "    mnli_val_dataset = inferDataset(mnli_val_index_1, mnli_val_index_2, mnli_val_targets)\n",
    "    mnli_val_loader = torch.utils.data.DataLoader(dataset=mnli_val_dataset, \n",
    "                                           batch_size=BATCH_SIZE,\n",
    "                                           collate_fn=infer_collate_func,\n",
    "                                           shuffle=True)\n",
    "    acc, _ = test_model(mnli_val_loader, model_cnn)\n",
    "    mnli_cnn_acc[genre_] = acc\n",
    "mnli_acc.loc['CNN'] = mnli_cnn_acc"
   ]
  },
  {
   "cell_type": "code",
   "execution_count": 88,
   "metadata": {},
   "outputs": [
    {
     "data": {
      "text/html": [
       "<div>\n",
       "<style scoped>\n",
       "    .dataframe tbody tr th:only-of-type {\n",
       "        vertical-align: middle;\n",
       "    }\n",
       "\n",
       "    .dataframe tbody tr th {\n",
       "        vertical-align: top;\n",
       "    }\n",
       "\n",
       "    .dataframe thead th {\n",
       "        text-align: right;\n",
       "    }\n",
       "</style>\n",
       "<table border=\"1\" class=\"dataframe\">\n",
       "  <thead>\n",
       "    <tr style=\"text-align: right;\">\n",
       "      <th></th>\n",
       "      <th>telephone</th>\n",
       "      <th>slate</th>\n",
       "      <th>fiction</th>\n",
       "      <th>government</th>\n",
       "      <th>travel</th>\n",
       "    </tr>\n",
       "  </thead>\n",
       "  <tbody>\n",
       "    <tr>\n",
       "      <th>RNN</th>\n",
       "      <td>43.084577</td>\n",
       "      <td>42.215569</td>\n",
       "      <td>46.934673</td>\n",
       "      <td>43.799213</td>\n",
       "      <td>44.602851</td>\n",
       "    </tr>\n",
       "    <tr>\n",
       "      <th>CNN</th>\n",
       "      <td>42.288557</td>\n",
       "      <td>43.113772</td>\n",
       "      <td>46.130653</td>\n",
       "      <td>46.850394</td>\n",
       "      <td>43.075356</td>\n",
       "    </tr>\n",
       "  </tbody>\n",
       "</table>\n",
       "</div>"
      ],
      "text/plain": [
       "     telephone      slate    fiction  government     travel\n",
       "RNN  43.084577  42.215569  46.934673   43.799213  44.602851\n",
       "CNN  42.288557  43.113772  46.130653   46.850394  43.075356"
      ]
     },
     "execution_count": 88,
     "metadata": {},
     "output_type": "execute_result"
    }
   ],
   "source": [
    "mnli_acc"
   ]
  },
  {
   "cell_type": "markdown",
   "metadata": {},
   "source": [
    "## 7 Fine Tuning on Each Genre"
   ]
  },
  {
   "cell_type": "code",
   "execution_count": 89,
   "metadata": {},
   "outputs": [],
   "source": [
    "mnli_train = pd.read_csv('../data/mnli_train.tsv', sep='\\t', header=0)"
   ]
  },
  {
   "cell_type": "code",
   "execution_count": 94,
   "metadata": {
    "scrolled": false
   },
   "outputs": [
    {
     "name": "stdout",
     "output_type": "stream",
     "text": [
      "...\n",
      "Epoch: [1/5]\n",
      "...\n",
      "Epoch: [2/5]\n",
      "...\n",
      "Epoch: [3/5]\n",
      "...\n",
      "Epoch: [4/5]\n",
      "...\n",
      "Epoch: [5/5]\n",
      "The fine-tuned model: final accuracy on telephone: 44.908350305498985\n",
      "\n",
      "...\n",
      "Epoch: [1/5]\n",
      "...\n",
      "Epoch: [2/5]\n",
      "...\n",
      "Epoch: [3/5]\n",
      "...\n",
      "Epoch: [4/5]\n",
      "...\n",
      "Epoch: [5/5]\n",
      "The fine-tuned model: final accuracy on slate: 44.806517311608964\n",
      "\n",
      "...\n",
      "Epoch: [1/5]\n",
      "...\n",
      "Epoch: [2/5]\n",
      "...\n",
      "Epoch: [3/5]\n",
      "...\n",
      "Epoch: [4/5]\n",
      "...\n",
      "Epoch: [5/5]\n",
      "The fine-tuned model: final accuracy on fiction: 45.010183299389\n",
      "\n",
      "...\n",
      "Epoch: [1/5]\n",
      "...\n",
      "Epoch: [2/5]\n",
      "...\n",
      "Epoch: [3/5]\n",
      "...\n",
      "Epoch: [4/5]\n",
      "...\n",
      "Epoch: [5/5]\n",
      "The fine-tuned model: final accuracy on government: 45.11201629327902\n",
      "\n",
      "...\n",
      "Epoch: [1/5]\n",
      "...\n",
      "Epoch: [2/5]\n",
      "...\n",
      "Epoch: [3/5]\n",
      "...\n",
      "Epoch: [4/5]\n",
      "...\n",
      "Epoch: [5/5]\n",
      "The fine-tuned model: final accuracy on travel: 46.23217922606925\n",
      "\n"
     ]
    }
   ],
   "source": [
    "mnli_ft_acc = dict()\n",
    "for genre_ in genre_list:\n",
    "    run_name = 'RNN_fine_tune_' + str(genre_)\n",
    "    mnli_train_tokens_1, mnli_train_tokens_2, mnli_train_targets = tokenize_preprocess(mnli_train[mnli_train['genre']==genre_])\n",
    "    mnli_train_index_1 = tokens2index_dataset(mnli_train_tokens_1)\n",
    "    mnli_train_index_2 = tokens2index_dataset(mnli_train_tokens_2)\n",
    "    mnli_train_dataset = inferDataset(mnli_train_index_1, mnli_train_index_2, mnli_train_targets)\n",
    "    mnli_train_loader = torch.utils.data.DataLoader(dataset=mnli_train_dataset, \n",
    "                                           batch_size=16,\n",
    "                                           collate_fn=infer_collate_func,\n",
    "                                           shuffle=True)\n",
    "\n",
    "    weight = torch.FloatTensor(lookup).cuda()\n",
    "    model = GRU_act(weight = weight, hidden_size=500, act='ReLu').cuda()\n",
    "    model.load_state_dict(torch.load('../model/GRU_best__epoch_6_para.pt'))    \n",
    "    learning_rate = 1e-5\n",
    "    num_epochs = 5 # number epoch to train\n",
    "    # Criterion and Optimizer\n",
    "    criterion = torch.nn.CrossEntropyLoss()\n",
    "    optimizer = torch.optim.Adam(model.parameters(), lr=learning_rate)\n",
    "    # freeze\n",
    "    freeze_mat = torch.cat([torch.zeros([1, 300]), torch.ones([1, 300]), torch.zeros([20000, 300])]).cuda()\n",
    "    h = model.embedding.weight.register_hook(lambda grad: grad * freeze_mat)\n",
    "\n",
    "    # Plot prepare\n",
    "    it = 0\n",
    "    res = {\n",
    "        'it_list' : [],\n",
    "        'train_loss_list' : [],\n",
    "        'val_loss_list' : [],\n",
    "        'train_acc_list' : [],\n",
    "        'val_acc_list' : [] \n",
    "    }\n",
    "    # print(model.embedding.weight[:3, :5])\n",
    "    for epoch in range(num_epochs):\n",
    "        for i, (x, x_lengths, rev_order_x, y, y_lengths, rev_order_y, labels) in enumerate(mnli_train_loader):\n",
    "            it += 1\n",
    "            model.train()\n",
    "            optimizer.zero_grad()\n",
    "            # Forward pass\n",
    "            outputs = model_cnn(x.cuda(), x_lengths.cuda(), rev_order_x.cuda(),\n",
    "                            y.cuda(), y_lengths.cuda(), rev_order_y.cuda())\n",
    "            loss = criterion(outputs, labels.cuda())\n",
    "            # Backward and optimize\n",
    "            loss.backward()\n",
    "            optimizer.step()\n",
    "            if i % 100 == 0:\n",
    "                print('.', end='')\n",
    "        # validate\n",
    "        train_acc, train_loss = test_model(mnli_train_loader, model)\n",
    "        val_acc, val_loss = test_model(mnli_val_loader, model)\n",
    "        print('\\nEpoch: [{}/{}]'.format(\n",
    "            epoch+1, num_epochs))\n",
    "        # Plot prepare\n",
    "        res['it_list'].append(it)\n",
    "        res['train_acc_list'].append(train_acc)\n",
    "        res['train_loss_list'].append(train_loss)\n",
    "        res['val_acc_list'].append(val_acc)\n",
    "        res['val_loss_list'].append(val_loss)\n",
    "    print('The fine-tuned model: final accuracy on {}: {}\\n'.format(genre_, res['val_acc_list'][-1]))\n",
    "    mnli_ft_acc[genre_] = res['val_acc_list'][-1]\n",
    "    torch.save(model.state_dict(), '../model/'+run_name+'_para.pt')\n",
    "    pkl.dump(res, open('../model/'+run_name+'_res.pkl', 'wb'))"
   ]
  },
  {
   "cell_type": "code",
   "execution_count": 95,
   "metadata": {},
   "outputs": [],
   "source": [
    "mnli_acc.loc['Fine-tune'] = mnli_ft_acc"
   ]
  },
  {
   "cell_type": "code",
   "execution_count": 96,
   "metadata": {},
   "outputs": [
    {
     "data": {
      "text/html": [
       "<div>\n",
       "<style scoped>\n",
       "    .dataframe tbody tr th:only-of-type {\n",
       "        vertical-align: middle;\n",
       "    }\n",
       "\n",
       "    .dataframe tbody tr th {\n",
       "        vertical-align: top;\n",
       "    }\n",
       "\n",
       "    .dataframe thead th {\n",
       "        text-align: right;\n",
       "    }\n",
       "</style>\n",
       "<table border=\"1\" class=\"dataframe\">\n",
       "  <thead>\n",
       "    <tr style=\"text-align: right;\">\n",
       "      <th></th>\n",
       "      <th>telephone</th>\n",
       "      <th>slate</th>\n",
       "      <th>fiction</th>\n",
       "      <th>government</th>\n",
       "      <th>travel</th>\n",
       "    </tr>\n",
       "  </thead>\n",
       "  <tbody>\n",
       "    <tr>\n",
       "      <th>RNN</th>\n",
       "      <td>43.084577</td>\n",
       "      <td>42.215569</td>\n",
       "      <td>46.934673</td>\n",
       "      <td>43.799213</td>\n",
       "      <td>44.602851</td>\n",
       "    </tr>\n",
       "    <tr>\n",
       "      <th>CNN</th>\n",
       "      <td>42.288557</td>\n",
       "      <td>43.113772</td>\n",
       "      <td>46.130653</td>\n",
       "      <td>46.850394</td>\n",
       "      <td>43.075356</td>\n",
       "    </tr>\n",
       "    <tr>\n",
       "      <th>Fine-tune</th>\n",
       "      <td>44.908350</td>\n",
       "      <td>44.806517</td>\n",
       "      <td>45.010183</td>\n",
       "      <td>45.112016</td>\n",
       "      <td>46.232179</td>\n",
       "    </tr>\n",
       "  </tbody>\n",
       "</table>\n",
       "</div>"
      ],
      "text/plain": [
       "           telephone      slate    fiction  government     travel\n",
       "RNN        43.084577  42.215569  46.934673   43.799213  44.602851\n",
       "CNN        42.288557  43.113772  46.130653   46.850394  43.075356\n",
       "Fine-tune  44.908350  44.806517  45.010183   45.112016  46.232179"
      ]
     },
     "execution_count": 96,
     "metadata": {},
     "output_type": "execute_result"
    }
   ],
   "source": [
    "mnli_acc"
   ]
  },
  {
   "cell_type": "markdown",
   "metadata": {},
   "source": [
    "<!-- Please use the pretrained vector\n",
    "```\n",
    "@inproceedings{mikolov2018advances,\n",
    "  title={Advances in Pre-Training Distributed Word Representations},\n",
    "  author={Mikolov, Tomas and Grave, Edouard and Bojanowski, Piotr and Puhrsch, Christian and Joulin, Armand},\n",
    "  booktitle={Proceedings of the International Conference on Language Resources and Evaluation (LREC 2018)},\n",
    "  year={2018}\n",
    "}\n",
    "```\n",
    "-->"
   ]
  }
 ],
 "metadata": {
  "kernelspec": {
   "display_name": "Python 3",
   "language": "python",
   "name": "python3"
  },
  "language_info": {
   "codemirror_mode": {
    "name": "ipython",
    "version": 3
   },
   "file_extension": ".py",
   "mimetype": "text/x-python",
   "name": "python",
   "nbconvert_exporter": "python",
   "pygments_lexer": "ipython3",
   "version": "3.6.6"
  },
  "toc": {
   "base_numbering": 1,
   "nav_menu": {},
   "number_sections": false,
   "sideBar": true,
   "skip_h1_title": false,
   "title_cell": "Table of Contents",
   "title_sidebar": "Contents",
   "toc_cell": true,
   "toc_position": {
    "height": "calc(100% - 180px)",
    "left": "10px",
    "top": "150px",
    "width": "185px"
   },
   "toc_section_display": true,
   "toc_window_display": true
  }
 },
 "nbformat": 4,
 "nbformat_minor": 2
}
